{
 "cells": [
  {
   "cell_type": "markdown",
   "metadata": {
    "deletable": true,
    "editable": true
   },
   "source": [
    "# Getting started\n",
    "\n",
    "Start from default Raspbian image:\n",
    "\n",
    "- download\n",
    "- copy to SD card\n",
    "- login to shell\n",
    "\n",
    "```shell\n",
    "cd ~\n",
    "git clone https://github.com/kraeml/ipython-notebooks.git\n",
    "cd ~/ipython-notebooks/install\n",
    "sudo chmod +x install.sh\n",
    "sudo ./install.sh\n",
    "```\n",
    "\n",
    "Start Jupyter with the following commands:\n",
    "\n",
    "```shell\n",
    "jupyter-notebook -y --port=8888 --notebook-dir=/home/pi --ip=0.0.0.0 --no-browser\n",
    "```\n",
    "\n",
    "In a browser open <http://pi-ip:8888/tree>"
   ]
  }
 ],
 "metadata": {
  "kernelspec": {
   "display_name": "Python 2",
   "language": "python",
   "name": "python2"
  }
 },
 "nbformat": 4,
 "nbformat_minor": 2
}
