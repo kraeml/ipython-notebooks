{
 "cells": [
  {
   "cell_type": "markdown",
   "metadata": {
    "deletable": true,
    "editable": true
   },
   "source": [
    "# Getting started\n",
    "\n",
    "Start from default Raspbian image:\n",
    "\n",
    "- download\n",
    "- copy to SD card\n",
    "- login to shell\n",
    "\n",
    "The packages `screen` and `git` should be installed.\n",
    "\n",
    "```bash\n",
    "sudo apt-get update\n",
    "sudo apt-get install screen git\n",
    "```\n",
    "More about Screen: https://wiki.ubuntuusers.de/Screen/ in german.\n",
    "\n",
    "```bash\n",
    "screen -S jupyter\n",
    "cd ~\n",
    "git clone https://github.com/kraeml/ipython-notebooks.git\n",
    "cd ~/ipython-notebooks/install\n",
    "chmod +x install.sh\n",
    "sudo ./install.sh\n",
    "```\n",
    "\n",
    "With <kbd>STRG</kbd> + <kbd>a</kbd> <kbd>c</kbd> you could detache the screen session.\n",
    "\n",
    "With `screen -r jupyter` you could attach to the screen session.\n",
    "\n",
    "Start Jupyter with the following commands:\n",
    "\n",
    "```bash\n",
    "jupyter-notebook -y --port=8888 --notebook-dir=/home/pi --ip=0.0.0.0 --no-browser\n",
    "```\n",
    "\n",
    "In a browser open <http://pi-ip:8888/tree>"
   ]
  },
  {
   "cell_type": "code",
   "execution_count": null,
   "metadata": {
    "collapsed": true,
    "deletable": true,
    "editable": true
   },
   "outputs": [],
   "source": []
  }
 ],
 "metadata": {
  "kernelspec": {
   "display_name": "Python 3",
   "language": "python",
   "name": "python3"
  },
  "language_info": {
   "codemirror_mode": {
    "name": "ipython",
    "version": 3
   },
   "file_extension": ".py",
   "mimetype": "text/x-python",
   "name": "python",
   "nbconvert_exporter": "python",
   "pygments_lexer": "ipython3",
   "version": "3.4.2"
  }
 },
 "nbformat": 4,
 "nbformat_minor": 2
}
