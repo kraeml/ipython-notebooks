{
 "cells": [
  {
   "cell_type": "markdown",
   "metadata": {},
   "source": [
    "# Getting started\n",
    "\n",
    "Start from default Raspbian image:\n",
    "- download\n",
    "- copy to SD card\n",
    "- login to shell\n",
    "\n",
    "```Shell\n",
    "cd ~\n",
    "git clone https://github.com/kraeml/ipython-notebooks.git\n",
    "cd ~/ipython-notebooks/install\n",
    "sudo chmod +x install.sh\n",
    "sudo ./install.sh\n",
    "```\n",
    "\n",
    "Open an LXTerminal shell window and start IPython with the following commands:\n",
    "```Shell\n",
    "cd ~/ipython-notebooks/notebooks\n",
    "sudo ipython notebook\n",
    "```\n",
    "a browser will open at http://<PI-IP/Hostname>:8888/tree\n",
    "\n",
    "__Note:__ use the --ip parameter if you need the IPython notebook to be accessible from outside:\n",
    "```Shell\n",
    "sudo ipython notebook --ip='*'\n",
    "```"
   ]
  },
  {
   "cell_type": "code",
   "execution_count": null,
   "metadata": {
    "collapsed": true
   },
   "outputs": [],
   "source": []
  }
 ],
 "metadata": {
  "kernelspec": {
   "display_name": "Python 2",
   "language": "python",
   "name": "python2"
  }
 },
 "nbformat": 4,
 "nbformat_minor": 2
}
