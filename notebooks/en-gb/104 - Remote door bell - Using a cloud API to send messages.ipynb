{
 "cells": [
  {
   "cell_type": "markdown",
   "metadata": {
    "deletable": true,
    "editable": true
   },
   "source": [
    "Requirements\n",
    "--\n",
    "For this excercise you need a (free) account at http://www.realtime.co/; if you create an account and start a \"Realtime Messaging Free\" subscription, you can put its \"Application Key\" in the variable below. This key will then be used in the communications we'll set up further on.\n",
    "\n",
    "You will also have to have your Raspberry Pi connected to the internet for the communications to work."
   ]
  },
  {
   "cell_type": "code",
   "execution_count": null,
   "metadata": {
    "collapsed": true,
    "deletable": true,
    "editable": true
   },
   "outputs": [],
   "source": [
    "APPKEY = \"******\""
   ]
  },
  {
   "cell_type": "markdown",
   "metadata": {
    "deletable": true,
    "editable": true
   },
   "source": [
    "<img src=\"Doorbell01.png\" height=\"300\" />"
   ]
  },
  {
   "cell_type": "markdown",
   "metadata": {
    "deletable": true,
    "editable": true
   },
   "source": [
    "We will again use the \"RPi.GPIO\" library in our code  \n",
    "And for the GPIO pins we will, as usual, use the BCM numbering (cfr numbers on the case)"
   ]
  },
  {
   "cell_type": "code",
   "execution_count": null,
   "metadata": {
    "collapsed": true,
    "deletable": true,
    "editable": true
   },
   "outputs": [],
   "source": [
    "import RPi.GPIO as GPIO\n",
    "GPIO.setmode(GPIO.BCM)"
   ]
  },
  {
   "cell_type": "markdown",
   "metadata": {
    "deletable": true,
    "editable": true
   },
   "source": [
    "ortc is a Python library that is linked to the realtime.co cloud communication system (http://www.realtime.co/)\n",
    "\n",
    "You can compare it to e-mail, Twitter or Facebook Messenger, but intended to be used by computers or devices."
   ]
  },
  {
   "cell_type": "code",
   "execution_count": null,
   "metadata": {
    "collapsed": false,
    "deletable": true,
    "editable": true
   },
   "outputs": [],
   "source": [
    "import ortc\n",
    "oc = ortc.OrtcClient()\n",
    "oc.cluster_url = \"http://ortc-developers.realtime.co/server/2.1\"\n",
    "\n",
    "# Connecting to the account\n",
    "oc.connect(APPKEY)"
   ]
  },
  {
   "cell_type": "markdown",
   "metadata": {
    "deletable": true,
    "editable": true
   },
   "source": [
    "With person_pins we create a dictionary that links each of the GPIO pins to the person who the door bell of that pin belongs to."
   ]
  },
  {
   "cell_type": "code",
   "execution_count": null,
   "metadata": {
    "collapsed": true,
    "deletable": true,
    "editable": true
   },
   "outputs": [],
   "source": [
    "person_pins = {\n",
    "    17: \"Maleficent\",\n",
    "    27: \"BigBadWolf\",\n",
    "}"
   ]
  },
  {
   "cell_type": "markdown",
   "metadata": {
    "deletable": true,
    "editable": true
   },
   "source": [
    "Let's see if that works:"
   ]
  },
  {
   "cell_type": "code",
   "execution_count": null,
   "metadata": {
    "collapsed": false,
    "deletable": true,
    "editable": true
   },
   "outputs": [],
   "source": [
    "print(person_pins[17])"
   ]
  },
  {
   "cell_type": "markdown",
   "metadata": {
    "deletable": true,
    "editable": true
   },
   "source": [
    "Now let's create a function with a parameter called \"pin\" (no confusion possible there...); we intend to use this function to send a message, specific to the relevant pin.  \n",
    "If the value of pin is 17, we'll send a message \"Maleficent\" on the \"doorbell\" channel."
   ]
  },
  {
   "cell_type": "code",
   "execution_count": null,
   "metadata": {
    "collapsed": true,
    "deletable": true,
    "editable": true
   },
   "outputs": [],
   "source": [
    "def send_message(pin):\n",
    "    oc.send(\"deurbel\", person_pins[pin])"
   ]
  },
  {
   "cell_type": "markdown",
   "metadata": {
    "deletable": true,
    "editable": true
   },
   "source": [
    "Last piece of the setup: for each of the possible pin values, we 'll:\n",
    "  1. set the pin as input (to listen for button presses)\n",
    "  2. register an event detection (if the pin goes from 1 to 0 -GPIO.FALLING-, send_message is executed)"
   ]
  },
  {
   "cell_type": "code",
   "execution_count": null,
   "metadata": {
    "collapsed": false,
    "deletable": true,
    "editable": true
   },
   "outputs": [],
   "source": [
    "for pin in person_pins:\n",
    "    GPIO.setup(pin, GPIO.IN, GPIO.PUD_UP)\n",
    "    GPIO.add_event_detect(pin, GPIO.FALLING, send_message, 200)"
   ]
  },
  {
   "cell_type": "markdown",
   "metadata": {
    "collapsed": false,
    "deletable": true,
    "editable": true
   },
   "source": [
    "Time to test is out: press the button and see if your message appears in the cloud!\n",
    "\n",
    "Follow the following procedure to check it:\n",
    "\n",
    "- log in on the Realtime website\n",
    "- click on your name to bring op your account\n",
    "- click on Subscriptions (the shopping cart in the left upper corner)\n",
    "- open the \"Realtime Messaging Free\" subscription and click \"Console\"\n",
    "- Input \"doorbell\" as Channel and click [Subscribe]\n",
    "- now you can press a button on you Raspberry Pi and you'll see the message appear"
   ]
  },
  {
   "cell_type": "markdown",
   "metadata": {
    "deletable": true,
    "editable": true
   },
   "source": [
    "And clean up again:"
   ]
  },
  {
   "cell_type": "code",
   "execution_count": null,
   "metadata": {
    "collapsed": true,
    "deletable": true,
    "editable": true
   },
   "outputs": [],
   "source": [
    "for pin in person_pins:\n",
    "    GPIO.remove_event_detect(pin)"
   ]
  },
  {
   "cell_type": "code",
   "execution_count": null,
   "metadata": {
    "collapsed": true,
    "deletable": true,
    "editable": true
   },
   "outputs": [],
   "source": [
    "GPIO.cleanup()"
   ]
  }
 ],
 "metadata": {
  "kernelspec": {
   "display_name": "Python 2",
   "language": "python",
   "name": "python2"
  },
  "language_info": {
   "codemirror_mode": {
    "name": "ipython",
    "version": 2
   },
   "file_extension": ".py",
   "mimetype": "text/x-python",
   "name": "python",
   "nbconvert_exporter": "python",
   "pygments_lexer": "ipython2",
   "version": "2.7.8"
  }
 },
 "nbformat": 4,
 "nbformat_minor": 0
}
