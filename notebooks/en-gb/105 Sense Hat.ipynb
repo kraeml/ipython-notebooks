{
 "cells": [
  {
   "cell_type": "markdown",
   "metadata": {},
   "source": [
    "# 105  Sense Hat\n",
    "\n",
    "![Sense Hat picture][sense_hat]\n",
    "\n",
    "[Sense Hat website][1]\n",
    "\n",
    "The Sense HAT has an 8×8 RGB LED matrix, a five-button joystick and includes the following sensors:\n",
    "\n",
    "* Gyroscope\n",
    "* Accelerometer\n",
    "* Magnetometer\n",
    "* Temperature\n",
    "* Barometric pressure\n",
    "* Humidity\n",
    "\n",
    "[The sense-hat docs][2]\n",
    "\n",
    "[1]: https://www.raspberrypi.org/products/sense-hat/\n",
    "[2]: http://pythonhosted.org/sense-hat/\n",
    "[sense_hat]: https://www.raspberrypi.org/wp-content/uploads/2016/02/Sense-HAT-web.jpg \"Sense Hat - Raspberry Pi\""
   ]
  },
  {
   "cell_type": "code",
   "execution_count": 1,
   "metadata": {
    "collapsed": false,
    "deletable": true,
    "editable": true
   },
   "outputs": [
    {
     "name": "stdout",
     "output_type": "stream",
     "text": [
      "/home/pi\n",
      "Hit http://archive.raspberrypi.org jessie InRelease\n",
      "Hit http://mirrordirector.raspbian.org jessie InRelease       \n",
      "Hit https://apt.dockerproject.org raspbian-jessie InRelease   \n",
      "Hit http://mirrordirector.raspbian.org jessie/main armhf Packages              \n",
      "Hit http://mirrordirector.raspbian.org jessie/contrib armhf Packages           \n",
      "Hit https://apt.dockerproject.org raspbian-jessie/main armhf Packages          \n",
      "Hit http://mirrordirector.raspbian.org jessie/non-free armhf Packages          \n",
      "Hit http://mirrordirector.raspbian.org jessie/firmware armhf Packages          \n",
      "Get:1 https://apt.dockerproject.org raspbian-jessie/main Translation-en_US [454 B]\n",
      "Get:2 https://apt.dockerproject.org raspbian-jessie/main Translation-en [454 B]\n",
      "Get:3 https://apt.dockerproject.org raspbian-jessie/main Translation-en_US [454 B]\n",
      "Get:4 https://apt.dockerproject.org raspbian-jessie/main Translation-en [454 B]\n",
      "Get:5 https://apt.dockerproject.org raspbian-jessie/main Translation-en_US [454 B]\n",
      "Get:6 https://apt.dockerproject.org raspbian-jessie/main Translation-en [454 B]\n",
      "Hit http://archive.raspberrypi.org jessie/main armhf Packages                  \n",
      "Get:7 https://apt.dockerproject.org raspbian-jessie/main Translation-en_US [454 B]\n",
      "Ign http://archive.raspberrypi.org jessie/main Translation-en_US               \n",
      "Ign http://archive.raspberrypi.org jessie/main Translation-en                  \n",
      "Ign http://mirrordirector.raspbian.org jessie/contrib Translation-en_US        \n",
      "Ign http://mirrordirector.raspbian.org jessie/contrib Translation-en           \n",
      "Ign http://mirrordirector.raspbian.org jessie/firmware Translation-en_US\n",
      "Ign http://mirrordirector.raspbian.org jessie/firmware Translation-en\n",
      "Ign http://mirrordirector.raspbian.org jessie/main Translation-en_US\n",
      "Ign http://mirrordirector.raspbian.org jessie/main Translation-en\n",
      "Ign http://mirrordirector.raspbian.org jessie/non-free Translation-en_US\n",
      "Ign http://mirrordirector.raspbian.org jessie/non-free Translation-en\n",
      "Get:8 https://apt.dockerproject.org raspbian-jessie/main Translation-en [454 B]\n",
      "Get:9 https://apt.dockerproject.org raspbian-jessie/main Translation-en_US [454 B]\n",
      "Ign https://apt.dockerproject.org raspbian-jessie/main Translation-en_US\n",
      "Get:10 https://apt.dockerproject.org raspbian-jessie/main Translation-en [454 B]\n",
      "Ign https://apt.dockerproject.org raspbian-jessie/main Translation-en\n",
      "Reading package lists... Done                                                  \n",
      "Reading package lists... Done\n",
      "Building dependency tree       \n",
      "Reading state information... Done\n",
      "sense-hat is already the newest version.\n",
      "0 upgraded, 0 newly installed, 0 to remove and 0 not upgraded.\n"
     ]
    }
   ],
   "source": [
    "%cd\n",
    "!sudo apt-get update\n",
    "!sudo apt-get install -y sense-hat"
   ]
  },
  {
   "cell_type": "code",
   "execution_count": 2,
   "metadata": {
    "collapsed": false
   },
   "outputs": [
    {
     "name": "stdout",
     "output_type": "stream",
     "text": [
      "uid=1000(pi) gid=1000(pi) groups=1000(pi),27(sudo),44(video),101(input),998(docker),999(gpio)\r\n"
     ]
    }
   ],
   "source": [
    "!sudo usermod -aG input pi\n",
    "!id"
   ]
  },
  {
   "cell_type": "markdown",
   "metadata": {
    "collapsed": true,
    "deletable": true,
    "editable": true
   },
   "source": [
    "Reboot the pi `sudo reboot`"
   ]
  },
  {
   "cell_type": "code",
   "execution_count": 3,
   "metadata": {
    "collapsed": false,
    "deletable": true,
    "editable": true
   },
   "outputs": [],
   "source": [
    "from sense_hat import SenseHat\n",
    "\n",
    "sense = SenseHat()\n",
    "\n",
    "sense.show_message(\"Hello world!\")"
   ]
  },
  {
   "cell_type": "markdown",
   "metadata": {
    "collapsed": true,
    "deletable": true,
    "editable": true
   },
   "source": [
    "See the [API reference][1] for full documentation of the library's functions. See [examples][2].\n",
    "\n",
    "[1]: https://pythonhosted.org/sense-hat/api/\n",
    "[2]: https://github.com/RPi-Distro/python-sense-hat/blob/master/examples/README.md"
   ]
  },
  {
   "cell_type": "code",
   "execution_count": 29,
   "metadata": {
    "collapsed": false
   },
   "outputs": [
    {
     "name": "stdout",
     "output_type": "stream",
     "text": [
      "Cloning into 'python-sense-hat'...\n",
      "remote: Counting objects: 564, done.\u001b[K\n",
      "remote: Total 564 (delta 0), reused 0 (delta 0), pack-reused 564\u001b[K\n",
      "Receiving objects: 100% (564/564), 114.48 KiB | 0 bytes/s, done.\n",
      "Resolving deltas: 100% (273/273), done.\n",
      "Checking connectivity... done.\n",
      "/home/pi/python-sense-hat/examples\n"
     ]
    }
   ],
   "source": [
    "!git clone https://github.com/RPi-Distro/python-sense-hat.git\n",
    "%cd ~/python-sense-hat/examples"
   ]
  },
  {
   "cell_type": "code",
   "execution_count": 30,
   "metadata": {
    "collapsed": false
   },
   "outputs": [
    {
     "name": "stdout",
     "output_type": "stream",
     "text": [
      "\u001b[0m\u001b[01;32mcolour_cycle.py\u001b[0m*   \u001b[01;32mpygame_joystick.py\u001b[0m*  \u001b[01;32mrotation.py\u001b[0m*       \u001b[01;32mtext_scroll.py\u001b[0m*\r\n",
      "\u001b[01;32mcompass.py\u001b[0m*        \u001b[01;32mrainbow.py\u001b[0m*          \u001b[01;35mspace_invader.png\u001b[0m\r\n",
      "evdev_joystick.py  README.md            \u001b[01;32mspace_invader.py\u001b[0m*\r\n"
     ]
    }
   ],
   "source": [
    "%ls "
   ]
  },
  {
   "cell_type": "code",
   "execution_count": 16,
   "metadata": {
    "collapsed": false
   },
   "outputs": [],
   "source": [
    "# %load ~/python-sense-hat/examples/colour_cycle.py\n",
    "#!/usr/bin/python\n",
    "import time\n",
    "from sense_hat import SenseHat\n",
    "\n",
    "sense = SenseHat()\n",
    "\n",
    "r = 255\n",
    "g = 0\n",
    "b = 0\n",
    "\n",
    "msleep = lambda x: time.sleep(x / 1000.0)\n",
    "\n",
    "\n",
    "def next_colour():\n",
    "    global r\n",
    "    global g\n",
    "    global b\n",
    "\n",
    "    if (r == 255 and g < 255 and b == 0):\n",
    "        g += 1\n",
    "\n",
    "    if (g == 255 and r > 0 and b == 0):\n",
    "        r -= 1\n",
    "\n",
    "    if (g == 255 and b < 255 and r == 0):\n",
    "        b += 1\n",
    "\n",
    "    if (b == 255 and g > 0 and r == 0):\n",
    "        g -= 1\n",
    "\n",
    "    if (b == 255 and r < 255 and g == 0):\n",
    "        r += 1\n",
    "\n",
    "    if (r == 255 and b > 0 and g == 0):\n",
    "        b -= 1\n",
    "i=0\n",
    "while i<3096:\n",
    "    sense.clear([r, g, b])\n",
    "    msleep(2)\n",
    "    next_colour()\n",
    "    i=i+1\n"
   ]
  },
  {
   "cell_type": "code",
   "execution_count": 17,
   "metadata": {
    "collapsed": false
   },
   "outputs": [],
   "source": [
    "from sense_hat import SenseHat\n",
    "\n",
    "sense = SenseHat()\n",
    "\n",
    "X = [255, 0, 0]  # Red\n",
    "O = [255, 255, 255]  # White\n",
    "\n",
    "question_mark = [\n",
    "O, O, O, X, X, O, O, O,\n",
    "O, O, X, O, O, X, O, O,\n",
    "O, O, O, O, O, X, O, O,\n",
    "O, O, O, O, X, O, O, O,\n",
    "O, O, O, X, O, O, O, O,\n",
    "O, O, O, X, O, O, O, O,\n",
    "O, O, O, O, O, O, O, O,\n",
    "O, O, O, X, O, O, O, O\n",
    "]\n",
    "\n",
    "sense.set_pixels(question_mark)"
   ]
  },
  {
   "cell_type": "code",
   "execution_count": 37,
   "metadata": {
    "collapsed": true
   },
   "outputs": [],
   "source": [
    "sense.rotation = 180"
   ]
  },
  {
   "cell_type": "code",
   "execution_count": 19,
   "metadata": {
    "collapsed": false
   },
   "outputs": [
    {
     "data": {
      "text/plain": [
       "[[248, 252, 248],\n",
       " [248, 252, 248],\n",
       " [248, 252, 248],\n",
       " [248, 0, 0],\n",
       " [248, 0, 0],\n",
       " [248, 252, 248],\n",
       " [248, 252, 248],\n",
       " [248, 252, 248],\n",
       " [248, 252, 248],\n",
       " [248, 252, 248],\n",
       " [248, 0, 0],\n",
       " [248, 252, 248],\n",
       " [248, 252, 248],\n",
       " [248, 0, 0],\n",
       " [248, 252, 248],\n",
       " [248, 252, 248],\n",
       " [248, 252, 248],\n",
       " [248, 252, 248],\n",
       " [248, 0, 0],\n",
       " [248, 252, 248],\n",
       " [248, 252, 248],\n",
       " [248, 252, 248],\n",
       " [248, 252, 248],\n",
       " [248, 252, 248],\n",
       " [248, 252, 248],\n",
       " [248, 252, 248],\n",
       " [248, 252, 248],\n",
       " [248, 0, 0],\n",
       " [248, 252, 248],\n",
       " [248, 252, 248],\n",
       " [248, 252, 248],\n",
       " [248, 252, 248],\n",
       " [248, 252, 248],\n",
       " [248, 252, 248],\n",
       " [248, 252, 248],\n",
       " [248, 252, 248],\n",
       " [248, 0, 0],\n",
       " [248, 252, 248],\n",
       " [248, 252, 248],\n",
       " [248, 252, 248],\n",
       " [248, 252, 248],\n",
       " [248, 252, 248],\n",
       " [248, 252, 248],\n",
       " [248, 252, 248],\n",
       " [248, 0, 0],\n",
       " [248, 252, 248],\n",
       " [248, 252, 248],\n",
       " [248, 252, 248],\n",
       " [248, 252, 248],\n",
       " [248, 252, 248],\n",
       " [248, 252, 248],\n",
       " [248, 252, 248],\n",
       " [248, 252, 248],\n",
       " [248, 252, 248],\n",
       " [248, 252, 248],\n",
       " [248, 252, 248],\n",
       " [248, 252, 248],\n",
       " [248, 252, 248],\n",
       " [248, 252, 248],\n",
       " [248, 252, 248],\n",
       " [248, 0, 0],\n",
       " [248, 252, 248],\n",
       " [248, 252, 248],\n",
       " [248, 252, 248]]"
      ]
     },
     "execution_count": 19,
     "metadata": {},
     "output_type": "execute_result"
    }
   ],
   "source": [
    "sense.flip_h()"
   ]
  },
  {
   "cell_type": "code",
   "execution_count": 24,
   "metadata": {
    "collapsed": false
   },
   "outputs": [
    {
     "data": {
      "text/plain": [
       "[[248, 252, 248],\n",
       " [248, 252, 248],\n",
       " [248, 252, 248],\n",
       " [248, 252, 248],\n",
       " [248, 0, 0],\n",
       " [248, 252, 248],\n",
       " [248, 252, 248],\n",
       " [248, 252, 248],\n",
       " [248, 252, 248],\n",
       " [248, 252, 248],\n",
       " [248, 252, 248],\n",
       " [248, 252, 248],\n",
       " [248, 252, 248],\n",
       " [248, 252, 248],\n",
       " [248, 252, 248],\n",
       " [248, 252, 248],\n",
       " [248, 252, 248],\n",
       " [248, 252, 248],\n",
       " [248, 252, 248],\n",
       " [248, 252, 248],\n",
       " [248, 0, 0],\n",
       " [248, 252, 248],\n",
       " [248, 252, 248],\n",
       " [248, 252, 248],\n",
       " [248, 252, 248],\n",
       " [248, 252, 248],\n",
       " [248, 252, 248],\n",
       " [248, 252, 248],\n",
       " [248, 0, 0],\n",
       " [248, 252, 248],\n",
       " [248, 252, 248],\n",
       " [248, 252, 248],\n",
       " [248, 252, 248],\n",
       " [248, 252, 248],\n",
       " [248, 252, 248],\n",
       " [248, 0, 0],\n",
       " [248, 252, 248],\n",
       " [248, 252, 248],\n",
       " [248, 252, 248],\n",
       " [248, 252, 248],\n",
       " [248, 252, 248],\n",
       " [248, 252, 248],\n",
       " [248, 0, 0],\n",
       " [248, 252, 248],\n",
       " [248, 252, 248],\n",
       " [248, 252, 248],\n",
       " [248, 252, 248],\n",
       " [248, 252, 248],\n",
       " [248, 252, 248],\n",
       " [248, 252, 248],\n",
       " [248, 0, 0],\n",
       " [248, 252, 248],\n",
       " [248, 252, 248],\n",
       " [248, 0, 0],\n",
       " [248, 252, 248],\n",
       " [248, 252, 248],\n",
       " [248, 252, 248],\n",
       " [248, 252, 248],\n",
       " [248, 252, 248],\n",
       " [248, 0, 0],\n",
       " [248, 0, 0],\n",
       " [248, 252, 248],\n",
       " [248, 252, 248],\n",
       " [248, 252, 248]]"
      ]
     },
     "execution_count": 24,
     "metadata": {},
     "output_type": "execute_result"
    }
   ],
   "source": [
    "sense.flip_v()"
   ]
  },
  {
   "cell_type": "code",
   "execution_count": 25,
   "metadata": {
    "collapsed": true
   },
   "outputs": [],
   "source": [
    "sense.set_pixel(0, 0, 255, 0, 0)\n",
    "sense.set_pixel(0, 7, 0, 255, 0)\n",
    "sense.set_pixel(7, 0, 0, 0, 255)\n",
    "sense.set_pixel(7, 7, 255, 0, 255)"
   ]
  },
  {
   "cell_type": "code",
   "execution_count": 27,
   "metadata": {
    "collapsed": true
   },
   "outputs": [],
   "source": [
    "red = (255, 0, 0)\n",
    "green = (0, 255, 0)\n",
    "blue = (0, 0, 255)\n",
    "\n",
    "# examples using (x, y, pixel)\n",
    "sense.set_pixel(0, 0, red)\n",
    "sense.set_pixel(0, 1, green)\n",
    "sense.set_pixel(0, 2, blue)"
   ]
  },
  {
   "cell_type": "code",
   "execution_count": 31,
   "metadata": {
    "collapsed": false
   },
   "outputs": [
    {
     "data": {
      "text/plain": [
       "[[0, 0, 0],\n",
       " [0, 0, 0],\n",
       " [0, 0, 0],\n",
       " [60, 255, 0],\n",
       " [60, 255, 0],\n",
       " [0, 0, 0],\n",
       " [0, 0, 0],\n",
       " [0, 0, 0],\n",
       " [0, 0, 0],\n",
       " [0, 0, 0],\n",
       " [60, 255, 0],\n",
       " [60, 255, 0],\n",
       " [60, 255, 0],\n",
       " [60, 255, 0],\n",
       " [0, 0, 0],\n",
       " [0, 0, 0],\n",
       " [0, 0, 0],\n",
       " [60, 255, 0],\n",
       " [60, 255, 0],\n",
       " [60, 255, 0],\n",
       " [60, 255, 0],\n",
       " [60, 255, 0],\n",
       " [60, 255, 0],\n",
       " [0, 0, 0],\n",
       " [60, 255, 0],\n",
       " [60, 255, 0],\n",
       " [0, 0, 0],\n",
       " [60, 255, 0],\n",
       " [60, 255, 0],\n",
       " [0, 0, 0],\n",
       " [60, 255, 0],\n",
       " [60, 255, 0],\n",
       " [60, 255, 0],\n",
       " [60, 255, 0],\n",
       " [60, 255, 0],\n",
       " [60, 255, 0],\n",
       " [60, 255, 0],\n",
       " [60, 255, 0],\n",
       " [60, 255, 0],\n",
       " [60, 255, 0],\n",
       " [0, 0, 0],\n",
       " [0, 0, 0],\n",
       " [60, 255, 0],\n",
       " [0, 0, 0],\n",
       " [0, 0, 0],\n",
       " [60, 255, 0],\n",
       " [0, 0, 0],\n",
       " [0, 0, 0],\n",
       " [0, 0, 0],\n",
       " [60, 255, 0],\n",
       " [0, 0, 0],\n",
       " [60, 255, 0],\n",
       " [60, 255, 0],\n",
       " [0, 0, 0],\n",
       " [60, 255, 0],\n",
       " [0, 0, 0],\n",
       " [60, 255, 0],\n",
       " [0, 0, 0],\n",
       " [60, 255, 0],\n",
       " [0, 0, 0],\n",
       " [0, 0, 0],\n",
       " [60, 255, 0],\n",
       " [0, 0, 0],\n",
       " [60, 255, 0]]"
      ]
     },
     "execution_count": 31,
     "metadata": {},
     "output_type": "execute_result"
    }
   ],
   "source": [
    "sense = SenseHat()\n",
    "sense.load_image(\"space_invader.png\")"
   ]
  },
  {
   "cell_type": "code",
   "execution_count": 34,
   "metadata": {
    "collapsed": false
   },
   "outputs": [],
   "source": [
    "from time import sleep\n",
    "red = (255, 0, 0)\n",
    "\n",
    "sense.clear()  # no arguments defaults to off\n",
    "sleep(1)\n",
    "sense.clear(red)  # passing in an RGB tuple\n",
    "sleep(1)\n",
    "sense.clear(255, 255, 255)  # passing in r, g and b values of a colour"
   ]
  },
  {
   "cell_type": "code",
   "execution_count": 38,
   "metadata": {
    "collapsed": false
   },
   "outputs": [],
   "source": [
    "sense.show_message(\"One small step for Pi!\", text_colour=[255, 0, 0])"
   ]
  },
  {
   "cell_type": "code",
   "execution_count": 39,
   "metadata": {
    "collapsed": true
   },
   "outputs": [],
   "source": [
    "for i in reversed(range(0,10)):\n",
    "    sense.show_letter(str(i))\n",
    "    time.sleep(1)"
   ]
  },
  {
   "cell_type": "code",
   "execution_count": 40,
   "metadata": {
    "collapsed": true
   },
   "outputs": [],
   "source": [
    "sense = SenseHat()\n",
    "sense.clear(255, 255, 255)\n",
    "sense.low_light = True\n",
    "time.sleep(2)\n",
    "sense.low_light = False"
   ]
  },
  {
   "cell_type": "code",
   "execution_count": 42,
   "metadata": {
    "collapsed": false
   },
   "outputs": [
    {
     "name": "stdout",
     "output_type": "stream",
     "text": [
      "[0, 0, 0, 0, 0, 0, 1, 1, 2, 2, 3, 3, 4, 5, 6, 7, 8, 9, 10, 11, 12, 14, 15, 17, 18, 20, 21, 23, 25, 27, 29, 31]\n"
     ]
    },
    {
     "ename": "TypeError",
     "evalue": "object of type 'listreverseiterator' has no len()",
     "output_type": "error",
     "traceback": [
      "\u001b[0;31m---------------------------------------------------------------------------\u001b[0m",
      "\u001b[0;31mTypeError\u001b[0m                                 Traceback (most recent call last)",
      "\u001b[0;32m<ipython-input-42-21cf22e90c09>\u001b[0m in \u001b[0;36m<module>\u001b[0;34m()\u001b[0m\n\u001b[1;32m      4\u001b[0m \u001b[0mtime\u001b[0m\u001b[0;34m.\u001b[0m\u001b[0msleep\u001b[0m\u001b[0;34m(\u001b[0m\u001b[0;36m2\u001b[0m\u001b[0;34m)\u001b[0m\u001b[0;34m\u001b[0m\u001b[0m\n\u001b[1;32m      5\u001b[0m \u001b[0;34m\u001b[0m\u001b[0m\n\u001b[0;32m----> 6\u001b[0;31m \u001b[0msense\u001b[0m\u001b[0;34m.\u001b[0m\u001b[0mgamma\u001b[0m \u001b[0;34m=\u001b[0m \u001b[0mreversed\u001b[0m\u001b[0;34m(\u001b[0m\u001b[0msense\u001b[0m\u001b[0;34m.\u001b[0m\u001b[0mgamma\u001b[0m\u001b[0;34m)\u001b[0m\u001b[0;34m\u001b[0m\u001b[0m\n\u001b[0m\u001b[1;32m      7\u001b[0m \u001b[0;32mprint\u001b[0m\u001b[0;34m(\u001b[0m\u001b[0msense\u001b[0m\u001b[0;34m.\u001b[0m\u001b[0mgamma\u001b[0m\u001b[0;34m)\u001b[0m\u001b[0;34m\u001b[0m\u001b[0m\n\u001b[1;32m      8\u001b[0m \u001b[0mtime\u001b[0m\u001b[0;34m.\u001b[0m\u001b[0msleep\u001b[0m\u001b[0;34m(\u001b[0m\u001b[0;36m2\u001b[0m\u001b[0;34m)\u001b[0m\u001b[0;34m\u001b[0m\u001b[0m\n",
      "\u001b[0;32m/usr/lib/python2.7/dist-packages/sense_hat/sense_hat.pyc\u001b[0m in \u001b[0;36mgamma\u001b[0;34m(self, buffer)\u001b[0m\n\u001b[1;32m    505\u001b[0m     \u001b[0;34m@\u001b[0m\u001b[0mgamma\u001b[0m\u001b[0;34m.\u001b[0m\u001b[0msetter\u001b[0m\u001b[0;34m\u001b[0m\u001b[0m\n\u001b[1;32m    506\u001b[0m     \u001b[0;32mdef\u001b[0m \u001b[0mgamma\u001b[0m\u001b[0;34m(\u001b[0m\u001b[0mself\u001b[0m\u001b[0;34m,\u001b[0m \u001b[0mbuffer\u001b[0m\u001b[0;34m)\u001b[0m\u001b[0;34m:\u001b[0m\u001b[0;34m\u001b[0m\u001b[0m\n\u001b[0;32m--> 507\u001b[0;31m         \u001b[0;32mif\u001b[0m \u001b[0mlen\u001b[0m\u001b[0;34m(\u001b[0m\u001b[0mbuffer\u001b[0m\u001b[0;34m)\u001b[0m \u001b[0;32mis\u001b[0m \u001b[0;32mnot\u001b[0m \u001b[0;36m32\u001b[0m\u001b[0;34m:\u001b[0m\u001b[0;34m\u001b[0m\u001b[0m\n\u001b[0m\u001b[1;32m    508\u001b[0m             \u001b[0;32mraise\u001b[0m \u001b[0mValueError\u001b[0m\u001b[0;34m(\u001b[0m\u001b[0;34m'Gamma array must be of length 32'\u001b[0m\u001b[0;34m)\u001b[0m\u001b[0;34m\u001b[0m\u001b[0m\n\u001b[1;32m    509\u001b[0m \u001b[0;34m\u001b[0m\u001b[0m\n",
      "\u001b[0;31mTypeError\u001b[0m: object of type 'listreverseiterator' has no len()"
     ]
    }
   ],
   "source": [
    "sense.clear(255, 127, 0)\n",
    "\n",
    "print(sense.gamma)\n",
    "time.sleep(2)\n",
    "\n",
    "sense.gamma = reversed(sense.gamma)\n",
    "print(sense.gamma)\n",
    "time.sleep(2)\n",
    "\n",
    "sense.low_light = True\n",
    "print(sense.gamma)\n",
    "time.sleep(2)\n",
    "\n",
    "sense.low_light = False"
   ]
  },
  {
   "cell_type": "code",
   "execution_count": null,
   "metadata": {
    "collapsed": true
   },
   "outputs": [],
   "source": []
  }
 ],
 "metadata": {
  "kernelspec": {
   "display_name": "Python 2",
   "language": "python",
   "name": "python2"
  },
  "language_info": {
   "codemirror_mode": {
    "name": "ipython",
    "version": 2
   },
   "file_extension": ".py",
   "mimetype": "text/x-python",
   "name": "python",
   "nbconvert_exporter": "python",
   "pygments_lexer": "ipython2",
   "version": "2.7.9"
  }
 },
 "nbformat": 4,
 "nbformat_minor": 2
}
