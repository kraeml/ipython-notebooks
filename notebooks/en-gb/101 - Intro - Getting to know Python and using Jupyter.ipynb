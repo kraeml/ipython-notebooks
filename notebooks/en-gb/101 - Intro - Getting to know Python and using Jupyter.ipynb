{
 "cells": [
  {
   "cell_type": "markdown",
   "metadata": {
    "deletable": true,
    "editable": true
   },
   "source": [
    "# Hm, Let's get started, shall we?\n",
    "\n",
    "This application is called Jupyter and can be used to execute Python code (where Python is a programming, language; a way of explaining to a computer what you want it to do for you).\n",
    "\n",
    "Select the cell with the sum below by clicking in it (a green border will appear around it) en press Shift+Enter or the Play (<i class=\"fa-play fa\"></i>) button in the menu at the top of this page to execute the code in the cel:"
   ]
  },
  {
   "cell_type": "code",
   "execution_count": null,
   "metadata": {
    "collapsed": false,
    "deletable": true,
    "editable": true
   },
   "outputs": [],
   "source": [
    "5+11"
   ]
  },
  {
   "cell_type": "markdown",
   "metadata": {
    "deletable": true,
    "editable": true
   },
   "source": [
    "The code is organised in cells anf if you want you can change that code and execute it again. Adapt the code in the cell above and execute it again.\n",
    "\n",
    "... go ahead, I'll wait here for a moment ...\n",
    "\n",
    "\"Pffff, that's something I can do with any simple calculator\"  \n",
    "Correct, but we're just starting out here, let's try something else: "
   ]
  },
  {
   "cell_type": "code",
   "execution_count": null,
   "metadata": {
    "collapsed": false,
    "deletable": true,
    "editable": true
   },
   "outputs": [],
   "source": [
    "print(\"Hi all!\")"
   ]
  },
  {
   "cell_type": "markdown",
   "metadata": {
    "deletable": true,
    "editable": true
   },
   "source": [
    "As you noticed, Jupyter will, if the given command returns a result, display this \"output\" below the code cell.  \n",
    "And if you forget something or add a type, an error message will be shown instead."
   ]
  },
  {
   "cell_type": "code",
   "execution_count": null,
   "metadata": {
    "collapsed": false,
    "deletable": true,
    "editable": true
   },
   "outputs": [],
   "source": [
    "print(\"So this does not work\""
   ]
  },
  {
   "cell_type": "markdown",
   "metadata": {
    "deletable": true,
    "editable": true
   },
   "source": [
    "Python will then try to explain what the problem is, but this may not always be 100% clear (and, to be honest, may sometimes even point you in the wrong direction). Can you figure out what went wrong in the previous statement?\n",
    "\n",
    "-Tip: comparing to the \"Hi all!\" command may help. It's only a small omission, but a computer can get really confused by that kind of stuff-"
   ]
  },
  {
   "cell_type": "markdown",
   "metadata": {
    "deletable": true,
    "editable": true
   },
   "source": [
    "# OK, what else can Python do?\n",
    "### Remember things\n",
    "Computers are very good at that (as long as you keep feeding it electricity...)\n",
    "We call that those things variables and in Python you'd better give them a name or else they are kinda hard to find back:"
   ]
  },
  {
   "cell_type": "code",
   "execution_count": null,
   "metadata": {
    "collapsed": true,
    "deletable": true,
    "editable": true
   },
   "outputs": [],
   "source": [
    "a = 'This is a text'  # text goes between quotes '...'\n",
    "a = \"This is a text\"  # they can also be double quotes \"...\" (just don't start mixing them up)\n",
    "\n",
    "# Oh yeah, and everything that comes after a # is a comment, Python will just skip it as if it weren't there\n",
    "\n",
    "b = 13\n",
    "c = 273.15              # decimal numbers use points, not a comma!"
   ]
  },
  {
   "cell_type": "markdown",
   "metadata": {
    "deletable": true,
    "editable": true
   },
   "source": [
    "You see, no result, so Jupyter does not print anything, but the values are in memory and we can get them back with their names, look:"
   ]
  },
  {
   "cell_type": "code",
   "execution_count": null,
   "metadata": {
    "collapsed": false,
    "deletable": true,
    "editable": true
   },
   "outputs": [],
   "source": [
    "print(a, b, c)"
   ]
  },
  {
   "cell_type": "markdown",
   "metadata": {
    "deletable": true,
    "editable": true
   },
   "source": [
    "### Methods and \"dot notation\"\n",
    "Some \"things\" or objects you use in Python get some kind of superpowers in the form of methods that you can call.\n",
    "You use these powers by adding a dot after the object and typing the method (watch out, for calling a  function you always have to add brackets after the function name, even if there is nothing between them):"
   ]
  },
  {
   "cell_type": "code",
   "execution_count": null,
   "metadata": {
    "collapsed": false,
    "deletable": true,
    "editable": true
   },
   "outputs": [],
   "source": [
    "# e.g. get an upper case version of the text we stored in memory before\n",
    "a.upper()"
   ]
  },
  {
   "cell_type": "markdown",
   "metadata": {
    "deletable": true,
    "editable": true
   },
   "source": [
    "By typing a dot and pressing the <TAB> button, Jupyter will show a list of available functions. Very handy if you need some functionality, but you don't quite recall its name.  \n",
    "Put your cursor after the a, then type a dot and <TAB> to try it out (press <Enter> to select a method):"
   ]
  },
  {
   "cell_type": "code",
   "execution_count": null,
   "metadata": {
    "collapsed": false,
    "deletable": true,
    "editable": true
   },
   "outputs": [],
   "source": [
    "a"
   ]
  },
  {
   "cell_type": "markdown",
   "metadata": {
    "deletable": true,
    "editable": true
   },
   "source": [
    "### Remember lists\n",
    "If you want to store a list of objects, you can do that by using square brackets:"
   ]
  },
  {
   "cell_type": "code",
   "execution_count": null,
   "metadata": {
    "collapsed": false,
    "deletable": true,
    "editable": true
   },
   "outputs": [],
   "source": [
    "minions = ['Dave','Stuart','Jerry','Jorge']\n",
    "print(minions[2])\n",
    "#watch out, element index numbers start at 0, so the 3rd minion in the list is the one that gets printed!"
   ]
  },
  {
   "cell_type": "markdown",
   "metadata": {
    "deletable": true,
    "editable": true
   },
   "source": [
    "But if you want to create a small database of each minion's favorite ice cream, you're probably better off by using a dictionary, since it allows you to combine a key and a value and makes it easy and fast to find those values back later:"
   ]
  },
  {
   "cell_type": "code",
   "execution_count": null,
   "metadata": {
    "collapsed": false,
    "deletable": true,
    "editable": true
   },
   "outputs": [],
   "source": [
    "minion_icecreams = {\n",
    "    'Dave':'strawberry',            # 'Dave' is the key here, 'strawberry' is the related value\n",
    "    'Stuart':'vanille',\n",
    "    'Carl':'vanille',\n",
    "    'Jerry':['mokka', 'vanille'],   # Indeed, we we can make this way more complicated :-)\n",
    "    'Jorge':'chocolate'\n",
    "}\n",
    "print(minion_icecreams['Jerry'])"
   ]
  },
  {
   "cell_type": "code",
   "execution_count": null,
   "metadata": {
    "collapsed": false,
    "deletable": true,
    "editable": true
   },
   "outputs": [],
   "source": [
    "# so, can you guess what this will print out?\n",
    "print(minion_icecreams['Stuart'])"
   ]
  },
  {
   "cell_type": "code",
   "execution_count": null,
   "metadata": {
    "collapsed": true,
    "deletable": true,
    "editable": true
   },
   "outputs": [],
   "source": [
    "#and this?\n",
    "print(minion_icecreams[minions[3]])"
   ]
  },
  {
   "cell_type": "code",
   "execution_count": null,
   "metadata": {
    "collapsed": true,
    "deletable": true,
    "editable": true
   },
   "outputs": [],
   "source": [
    "#and this?\n",
    "print(minion_icecreams[minions[2]][0])"
   ]
  },
  {
   "cell_type": "markdown",
   "metadata": {
    "deletable": true,
    "editable": true
   },
   "source": [
    "# Loopen\n",
    "\n",
    "How to print all ice cream favorites with as little effort as possible?  \n",
    "Note: range() is a built-in function to make a list of numbers."
   ]
  },
  {
   "cell_type": "code",
   "execution_count": null,
   "metadata": {
    "collapsed": false,
    "deletable": true,
    "editable": true
   },
   "outputs": [],
   "source": [
    "print(range(4))"
   ]
  },
  {
   "cell_type": "markdown",
   "metadata": {
    "deletable": true,
    "editable": true
   },
   "source": [
    "We can use this to repeat the same print statement 4 times, but each time with a number that is 1 higher."
   ]
  },
  {
   "cell_type": "code",
   "execution_count": null,
   "metadata": {
    "collapsed": false,
    "deletable": true,
    "editable": true
   },
   "outputs": [],
   "source": [
    "for nummer in range(4):\n",
    "    print(minions[nummer])"
   ]
  },
  {
   "cell_type": "markdown",
   "metadata": {
    "deletable": true,
    "editable": true
   },
   "source": [
    "Watch out! the \"white space\" before the print command is important! Without it, Python would not know what belongs to the loop and what doesn't:"
   ]
  },
  {
   "cell_type": "code",
   "execution_count": null,
   "metadata": {
    "collapsed": false,
    "deletable": true,
    "editable": true
   },
   "outputs": [],
   "source": [
    "for number in range(4):\n",
    "    print(number)\n",
    "    print(minions[number])"
   ]
  },
  {
   "cell_type": "markdown",
   "metadata": {
    "deletable": true,
    "editable": true
   },
   "source": [
    "Is not the same as:"
   ]
  },
  {
   "cell_type": "code",
   "execution_count": null,
   "metadata": {
    "collapsed": false,
    "deletable": true,
    "editable": true
   },
   "outputs": [],
   "source": [
    "for nummer in range(4):\n",
    "    print(nummer)\n",
    "print(minions[nummer])"
   ]
  },
  {
   "cell_type": "markdown",
   "metadata": {
    "deletable": true,
    "editable": true
   },
   "source": [
    "One last time?"
   ]
  },
  {
   "cell_type": "code",
   "execution_count": null,
   "metadata": {
    "collapsed": false,
    "deletable": true,
    "editable": true
   },
   "outputs": [],
   "source": [
    "print(\"-- GO --\")\n",
    "for number in range(4):\n",
    "    print(minions[number])\n",
    "    # this comment is skipped 4 times\n",
    "# this comment is skipped only once\n",
    "print(\"--done--\")"
   ]
  },
  {
   "cell_type": "markdown",
   "metadata": {
    "deletable": true,
    "editable": true
   },
   "source": [
    "We don't have to use numbers! In Python we can use the list directly:"
   ]
  },
  {
   "cell_type": "code",
   "execution_count": null,
   "metadata": {
    "collapsed": false,
    "deletable": true,
    "editable": true
   },
   "outputs": [],
   "source": [
    "for minion in minions:\n",
    "    print(minion)"
   ]
  },
  {
   "cell_type": "markdown",
   "metadata": {
    "deletable": true,
    "editable": true
   },
   "source": [
    "Which makes it possible to print the favorite flavour for each of the minions in our list from the minion_icecreams dictionary"
   ]
  },
  {
   "cell_type": "code",
   "execution_count": null,
   "metadata": {
    "collapsed": false,
    "deletable": true,
    "editable": true
   },
   "outputs": [],
   "source": [
    "for minion in minions:\n",
    "    print(minion, minion_icecreams[minion])"
   ]
  },
  {
   "cell_type": "markdown",
   "metadata": {
    "deletable": true,
    "editable": true
   },
   "source": [
    "While is a similar kind of loop. It means that instructions are executed \"while\" a certain condition is met.  \n",
    "You can for instance throw an imaginary dice until a 6 is thrown:"
   ]
  },
  {
   "cell_type": "code",
   "execution_count": null,
   "metadata": {
    "collapsed": false,
    "deletable": true,
    "editable": true
   },
   "outputs": [],
   "source": [
    "import random                    # in order to use the random module; we'll get back to importing libraries later\n",
    "\n",
    "throw = 0                        # a throw of 0 is impossible, but we don't really care about that now...\n",
    "while throw < 6:\n",
    "    throw = random.randint(1,6)  # a random number between 1 and 6\n",
    "    print(throw)"
   ]
  },
  {
   "cell_type": "markdown",
   "metadata": {
    "deletable": true,
    "editable": true
   },
   "source": [
    "Try this a few times and you'll get different results each time (Ctrl+Enter executes the cell while your cursor stays on it)\n",
    "\n",
    "As you can imagine, the \"while True:\" construct is a bit special; since True will never turn into False (never say never...) this loop will keep going eternally, unless you explicitly stop it by for instance clicking the Stop button (<i class=\"fa-stop fa\"></i>) in the menu above or choosing Kernel > Interrupt from the dropdown menu."
   ]
  },
  {
   "cell_type": "code",
   "execution_count": null,
   "metadata": {
    "collapsed": false,
    "deletable": true,
    "editable": true
   },
   "outputs": [],
   "source": [
    "import time                     # in order to use the time module; we'll -really- get back to importing libraries later\n",
    "\n",
    "while True:\n",
    "    print('.'),                 # the comma after the print statement keeps the next print output on the same line\n",
    "    time.sleep(0.2)             # 0.2 seconds pause"
   ]
  },
  {
   "cell_type": "markdown",
   "metadata": {
    "deletable": true,
    "editable": true
   },
   "source": [
    "Click the Stop button (<i class=\"fa-stop fa\"></i>) to end the execution.\n",
    "This method is sometimes use to start a program that needs to keep running indefinitely.\n",
    "\n",
    "#### Advanced: You can \"catch\" errors like the one you see above. This is a way of telling Python you were expecting this error might occur and handling it in an elegant way, so Python does not have to show the ugly error messages to the end user.\n",
    "\n",
    "This happens with a \"try except\" construct, in the following manner:"
   ]
  },
  {
   "cell_type": "code",
   "execution_count": null,
   "metadata": {
    "collapsed": false,
    "deletable": true,
    "editable": true
   },
   "outputs": [],
   "source": [
    "import time\n",
    "\n",
    "while True:\n",
    "    try:                                # execute some code...\n",
    "        print('.'),\n",
    "        time.sleep(0.2)\n",
    "    except KeyboardInterrupt:           # ... and if a KeyboardInterrupt error would occur, this is what should happen:\n",
    "        print('\\nThe End')                # print 'The End' (on a new line)\n",
    "        break                           # leave the while loop"
   ]
  },
  {
   "cell_type": "markdown",
   "metadata": {
    "deletable": true,
    "editable": true
   },
   "source": [
    "# Conditions\n",
    "With an \"if\" statement, we can influence the execution flow of our code.  \n",
    "It allows us to make the computer do something, not do something or do a different thing, all depending on the condition we impose."
   ]
  },
  {
   "cell_type": "code",
   "execution_count": null,
   "metadata": {
    "collapsed": false,
    "deletable": true,
    "editable": true
   },
   "outputs": [],
   "source": [
    "score = 85\n",
    "if score > 90:\n",
    "    print('Brilliant')\n",
    "elif score > 80:\n",
    "    print('Well done')\n",
    "elif score > 60:\n",
    "    print('OK')\n",
    "else:\n",
    "    print('Hm')"
   ]
  },
  {
   "cell_type": "markdown",
   "metadata": {
    "deletable": true,
    "editable": true
   },
   "source": [
    "For instance: that Jerry seems a bit greedy and we don't want any bad examples in our list, so:"
   ]
  },
  {
   "cell_type": "code",
   "execution_count": null,
   "metadata": {
    "collapsed": false,
    "deletable": true,
    "editable": true
   },
   "outputs": [],
   "source": [
    "for minion in minions:\n",
    "    if minion == 'Jerry':\n",
    "        print('--Glutton--')\n",
    "    else:\n",
    "        print(minion, minion_icecreams[minion])"
   ]
  },
  {
   "cell_type": "markdown",
   "metadata": {
    "deletable": true,
    "editable": true
   },
   "source": [
    "# Real programming\n",
    "We can also write our own functions in Python and then use them; this helps to keep code tidy and prevents us from having to repeat the same piece of code over and over again."
   ]
  },
  {
   "cell_type": "code",
   "execution_count": null,
   "metadata": {
    "collapsed": true,
    "deletable": true,
    "editable": true
   },
   "outputs": [],
   "source": [
    "def greet(name):\n",
    "    print('Hi ' + name)"
   ]
  },
  {
   "cell_type": "markdown",
   "metadata": {
    "deletable": true,
    "editable": true
   },
   "source": [
    "Shall we try out our new fuction?"
   ]
  },
  {
   "cell_type": "code",
   "execution_count": null,
   "metadata": {
    "collapsed": false,
    "deletable": true,
    "editable": true
   },
   "outputs": [],
   "source": [
    "greet('Mariette')"
   ]
  },
  {
   "cell_type": "markdown",
   "metadata": {
    "deletable": true,
    "editable": true
   },
   "source": [
    "### And a little extra\n",
    "You'll often need to print stuff to the screen and in many cases this involves mixing fixed texts with variable values (strings, but also numbers or other kinds of data). In those circumstances we can use string templates and the String.format() function, which works in way similar to the Mail Merge functionality in a word processor.\n",
    "\n",
    "The format() function is used as follows:  \n",
    "'Hi {}'.format(name)  \n",
    "This replaces the braces with a text representation of the value of the name passed into the function"
   ]
  },
  {
   "cell_type": "code",
   "execution_count": null,
   "metadata": {
    "collapsed": false,
    "deletable": true,
    "editable": true
   },
   "outputs": [],
   "source": [
    "def greet(name):\n",
    "    print('Hi {}'.format(name))\n",
    "\n",
    "greet('Willy')"
   ]
  },
  {
   "cell_type": "markdown",
   "metadata": {
    "deletable": true,
    "editable": true
   },
   "source": [
    "# Python libraries\n",
    "Of course, people have already written a lot of Python code that you could use and many of them have made that code available to you in the form of libraries that are ready to be installed and used.\n",
    "Once such a library is installed, you can import it and use the functions it provides (much like the random and time libraries we imported before):"
   ]
  },
  {
   "cell_type": "code",
   "execution_count": null,
   "metadata": {
    "collapsed": false,
    "deletable": true,
    "editable": true
   },
   "outputs": [],
   "source": [
    "import math\n",
    "print(\"PI: {}\".format(math.pi))\n",
    "print(\"sin(PI/2): {}\".format(math.cos(math.pi)))"
   ]
  },
  {
   "cell_type": "markdown",
   "metadata": {
    "deletable": true,
    "editable": true
   },
   "source": [
    "requests is a library to load web pages; in the example below we visit openweathermap and print a part of the weather prediction for the city of Mechelen."
   ]
  },
  {
   "cell_type": "code",
   "execution_count": null,
   "metadata": {
    "collapsed": false,
    "deletable": true,
    "editable": true
   },
   "outputs": [],
   "source": [
    "import requests\n",
    "r = requests.get('http://api.openweathermap.org/data/2.5/weather?q=Mechelen').json()\n",
    "print(r['weather'][0]['description'])"
   ]
  },
  {
   "cell_type": "markdown",
   "metadata": {
    "deletable": true,
    "editable": true
   },
   "source": [
    "But we can just as easy get a quote from the online iheartquotes.com database:"
   ]
  },
  {
   "cell_type": "code",
   "execution_count": null,
   "metadata": {
    "collapsed": false,
    "deletable": true,
    "editable": true
   },
   "outputs": [],
   "source": [
    "import requests\n",
    "r = requests.get('http://www.iheartquotes.com/api/v1/random')\n",
    "print(r.text)"
   ]
  },
  {
   "cell_type": "markdown",
   "metadata": {
    "deletable": true,
    "editable": true
   },
   "source": [
    "Well done! you completed your first Python steps!"
   ]
  }
 ],
 "metadata": {
  "kernelspec": {
   "display_name": "Python 2",
   "language": "python",
   "name": "python2"
  },
  "language_info": {
   "codemirror_mode": {
    "name": "ipython",
    "version": 2
   },
   "file_extension": ".py",
   "mimetype": "text/x-python",
   "name": "python",
   "nbconvert_exporter": "python",
   "pygments_lexer": "ipython2",
   "version": "2.7.8"
  }
 },
 "nbformat": 4,
 "nbformat_minor": 0
}
