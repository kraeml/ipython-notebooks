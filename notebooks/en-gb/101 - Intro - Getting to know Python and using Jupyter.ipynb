{
 "cells": [
  {
   "cell_type": "markdown",
   "metadata": {
    "deletable": true,
    "editable": true
   },
   "source": [
    "# Hm, Let's get started, shall we?\n",
    "\n",
    "This application is called Jupyter and can be used to execute Python code (where Python is a programming, language; a way of explaining to a computer what you want it to do for you).\n",
    "\n",
    "Select the cell with the sum below by clicking in it (a green border will appear around it) en press Shift+Enter or the Play (<i class=\"fa-play fa\"></i>) button in the menu at the top of this page to execute the code in the cel:"
   ]
  },
  {
   "cell_type": "code",
   "execution_count": 1,
   "metadata": {
    "collapsed": false,
    "deletable": true,
    "editable": true
   },
   "outputs": [
    {
     "data": {
      "text/plain": [
       "16"
      ]
     },
     "execution_count": 1,
     "metadata": {},
     "output_type": "execute_result"
    }
   ],
   "source": [
    "5+11"
   ]
  },
  {
   "cell_type": "markdown",
   "metadata": {
    "deletable": true,
    "editable": true
   },
   "source": [
    "The code is organised in cells anf if you want you can change that code and execute it again. Adapt the code in the cell above and execute it again.\n",
    "\n",
    "... go ahead, I'll wait here for a moment ...\n",
    "\n",
    "\"Pffff, that's something I can do with any simple calculator\"  \n",
    "Correct, but we're just starting out here, let's try something else: "
   ]
  },
  {
   "cell_type": "code",
   "execution_count": 2,
   "metadata": {
    "collapsed": false,
    "deletable": true,
    "editable": true
   },
   "outputs": [
    {
     "name": "stdout",
     "output_type": "stream",
     "text": [
      "Hi all!\n"
     ]
    }
   ],
   "source": [
    "print(\"Hi all!\")"
   ]
  },
  {
   "cell_type": "markdown",
   "metadata": {
    "deletable": true,
    "editable": true
   },
   "source": [
    "As you noticed, Jupyter will, if the given command returns a result, display this \"output\" below the code cell.  \n",
    "And if you forget something or add a type, an error message will be shown instead."
   ]
  },
  {
   "cell_type": "code",
   "execution_count": 3,
   "metadata": {
    "collapsed": false,
    "deletable": true,
    "editable": true
   },
   "outputs": [
    {
     "ename": "SyntaxError",
     "evalue": "unexpected EOF while parsing (<ipython-input-3-75bf69d26cc7>, line 1)",
     "output_type": "error",
     "traceback": [
      "\u001b[0;36m  File \u001b[0;32m\"<ipython-input-3-75bf69d26cc7>\"\u001b[0;36m, line \u001b[0;32m1\u001b[0m\n\u001b[0;31m    print(\"So this does not work\"\u001b[0m\n\u001b[0m                                 ^\u001b[0m\n\u001b[0;31mSyntaxError\u001b[0m\u001b[0;31m:\u001b[0m unexpected EOF while parsing\n"
     ]
    }
   ],
   "source": [
    "print(\"So this does not work\""
   ]
  },
  {
   "cell_type": "markdown",
   "metadata": {
    "deletable": true,
    "editable": true
   },
   "source": [
    "Python will then try to explain what the problem is, but this may not always be 100% clear (and, to be honest, may sometimes even point you in the wrong direction). Can you figure out what went wrong in the previous statement?\n",
    "\n",
    "-Tip: comparing to the \"Hi all!\" command may help. It's only a small omission, but a computer can get really confused by that kind of stuff-"
   ]
  },
  {
   "cell_type": "markdown",
   "metadata": {
    "deletable": true,
    "editable": true
   },
   "source": [
    "# OK, what else can Python do?\n",
    "### Remember things\n",
    "Computers are very good at that (as long as you keep feeding it electricity...)\n",
    "We call that those things variables and in Python you'd better give them a name or else they are kinda hard to find back:"
   ]
  },
  {
   "cell_type": "code",
   "execution_count": 4,
   "metadata": {
    "collapsed": true,
    "deletable": true,
    "editable": true
   },
   "outputs": [],
   "source": [
    "a = 'This is a text'  # text goes between quotes '...'\n",
    "a = \"This is a text\"  # they can also be double quotes \"...\" (just don't start mixing them up)\n",
    "\n",
    "# Oh yeah, and everything that comes after a # is a comment, Python will just skip it as if it weren't there\n",
    "\n",
    "b = 13\n",
    "c = 273.15              # decimal numbers use points, not a comma!"
   ]
  },
  {
   "cell_type": "markdown",
   "metadata": {
    "deletable": true,
    "editable": true
   },
   "source": [
    "You see, no result, so Jupyter does not print anything, but the values are in memory and we can get them back with their names, look:"
   ]
  },
  {
   "cell_type": "code",
   "execution_count": 5,
   "metadata": {
    "collapsed": false,
    "deletable": true,
    "editable": true
   },
   "outputs": [
    {
     "name": "stdout",
     "output_type": "stream",
     "text": [
      "('This is a text', 13, 273.15)\n"
     ]
    }
   ],
   "source": [
    "print(a, b, c)"
   ]
  },
  {
   "cell_type": "markdown",
   "metadata": {
    "deletable": true,
    "editable": true
   },
   "source": [
    "### Methods and \"dot notation\"\n",
    "Some \"things\" or objects you use in Python get some kind of superpowers in the form of methods that you can call.\n",
    "You use these powers by adding a dot after the object and typing the method (watch out, for calling a  function you always have to add brackets after the function name, even if there is nothing between them):"
   ]
  },
  {
   "cell_type": "code",
   "execution_count": 6,
   "metadata": {
    "collapsed": false,
    "deletable": true,
    "editable": true
   },
   "outputs": [
    {
     "data": {
      "text/plain": [
       "'THIS IS A TEXT'"
      ]
     },
     "execution_count": 6,
     "metadata": {},
     "output_type": "execute_result"
    }
   ],
   "source": [
    "# e.g. get an upper case version of the text we stored in memory before\n",
    "a.upper()"
   ]
  },
  {
   "cell_type": "markdown",
   "metadata": {
    "deletable": true,
    "editable": true
   },
   "source": [
    "By typing a dot and pressing the <TAB> button, Jupyter will show a list of available functions. Very handy if you need some functionality, but you don't quite recall its name.  \n",
    "Put your cursor after the a, then type a dot and <TAB> to try it out (press <Enter> to select a method):"
   ]
  },
  {
   "cell_type": "code",
   "execution_count": 7,
   "metadata": {
    "collapsed": false,
    "deletable": true,
    "editable": true
   },
   "outputs": [
    {
     "data": {
      "text/plain": [
       "'This is a text'"
      ]
     },
     "execution_count": 7,
     "metadata": {},
     "output_type": "execute_result"
    }
   ],
   "source": [
    "a"
   ]
  },
  {
   "cell_type": "markdown",
   "metadata": {
    "deletable": true,
    "editable": true
   },
   "source": [
    "### Remember lists\n",
    "If you want to store a list of objects, you can do that by using square brackets:"
   ]
  },
  {
   "cell_type": "code",
   "execution_count": 8,
   "metadata": {
    "collapsed": false,
    "deletable": true,
    "editable": true
   },
   "outputs": [
    {
     "name": "stdout",
     "output_type": "stream",
     "text": [
      "Jerry\n"
     ]
    }
   ],
   "source": [
    "minions = ['Dave','Stuart','Jerry','Jorge']\n",
    "print(minions[2])\n",
    "#watch out, element index numbers start at 0, so the 3rd minion in the list is the one that gets printed!"
   ]
  },
  {
   "cell_type": "markdown",
   "metadata": {
    "deletable": true,
    "editable": true
   },
   "source": [
    "But if you want to create a small database of each minion's favorite ice cream, you're probably better off by using a dictionary, since it allows you to combine a key and a value and makes it easy and fast to find those values back later:"
   ]
  },
  {
   "cell_type": "code",
   "execution_count": 9,
   "metadata": {
    "collapsed": false,
    "deletable": true,
    "editable": true
   },
   "outputs": [
    {
     "name": "stdout",
     "output_type": "stream",
     "text": [
      "['mokka', 'vanille']\n"
     ]
    }
   ],
   "source": [
    "minion_icecreams = {\n",
    "    'Dave':'strawberry',            # 'Dave' is the key here, 'strawberry' is the related value\n",
    "    'Stuart':'vanille',\n",
    "    'Carl':'vanille',\n",
    "    'Jerry':['mokka', 'vanille'],   # Indeed, we we can make this way more complicated :-)\n",
    "    'Jorge':'chocolate'\n",
    "}\n",
    "print(minion_icecreams['Jerry'])"
   ]
  },
  {
   "cell_type": "code",
   "execution_count": 10,
   "metadata": {
    "collapsed": false,
    "deletable": true,
    "editable": true
   },
   "outputs": [
    {
     "name": "stdout",
     "output_type": "stream",
     "text": [
      "vanille\n"
     ]
    }
   ],
   "source": [
    "# so, can you guess what this will print out?\n",
    "print(minion_icecreams['Stuart'])"
   ]
  },
  {
   "cell_type": "code",
   "execution_count": 11,
   "metadata": {
    "collapsed": false,
    "deletable": true,
    "editable": true
   },
   "outputs": [
    {
     "name": "stdout",
     "output_type": "stream",
     "text": [
      "chocolate\n"
     ]
    }
   ],
   "source": [
    "#and this?\n",
    "print(minion_icecreams[minions[3]])"
   ]
  },
  {
   "cell_type": "code",
   "execution_count": 12,
   "metadata": {
    "collapsed": false,
    "deletable": true,
    "editable": true
   },
   "outputs": [
    {
     "name": "stdout",
     "output_type": "stream",
     "text": [
      "mokka\n"
     ]
    }
   ],
   "source": [
    "#and this?\n",
    "print(minion_icecreams[minions[2]][0])"
   ]
  },
  {
   "cell_type": "markdown",
   "metadata": {
    "deletable": true,
    "editable": true
   },
   "source": [
    "# Loopen\n",
    "\n",
    "How to print all ice cream favorites with as little effort as possible?  \n",
    "Note: range() is a built-in function to make a list of numbers."
   ]
  },
  {
   "cell_type": "code",
   "execution_count": 13,
   "metadata": {
    "collapsed": false,
    "deletable": true,
    "editable": true
   },
   "outputs": [
    {
     "name": "stdout",
     "output_type": "stream",
     "text": [
      "[0, 1, 2, 3]\n"
     ]
    }
   ],
   "source": [
    "print(range(4))"
   ]
  },
  {
   "cell_type": "markdown",
   "metadata": {
    "deletable": true,
    "editable": true
   },
   "source": [
    "We can use this to repeat the same print statement 4 times, but each time with a number that is 1 higher."
   ]
  },
  {
   "cell_type": "code",
   "execution_count": 14,
   "metadata": {
    "collapsed": false,
    "deletable": true,
    "editable": true
   },
   "outputs": [
    {
     "name": "stdout",
     "output_type": "stream",
     "text": [
      "Dave\n",
      "Stuart\n",
      "Jerry\n",
      "Jorge\n"
     ]
    }
   ],
   "source": [
    "for nummer in range(4):\n",
    "    print(minions[nummer])"
   ]
  },
  {
   "cell_type": "markdown",
   "metadata": {
    "deletable": true,
    "editable": true
   },
   "source": [
    "Watch out! the \"white space\" before the print command is important! Without it, Python would not know what belongs to the loop and what doesn't:"
   ]
  },
  {
   "cell_type": "code",
   "execution_count": 15,
   "metadata": {
    "collapsed": false,
    "deletable": true,
    "editable": true
   },
   "outputs": [
    {
     "name": "stdout",
     "output_type": "stream",
     "text": [
      "0\n",
      "Dave\n",
      "1\n",
      "Stuart\n",
      "2\n",
      "Jerry\n",
      "3\n",
      "Jorge\n"
     ]
    }
   ],
   "source": [
    "for number in range(4):\n",
    "    print(number)\n",
    "    print(minions[number])"
   ]
  },
  {
   "cell_type": "markdown",
   "metadata": {
    "deletable": true,
    "editable": true
   },
   "source": [
    "Is not the same as:"
   ]
  },
  {
   "cell_type": "code",
   "execution_count": 16,
   "metadata": {
    "collapsed": false,
    "deletable": true,
    "editable": true
   },
   "outputs": [
    {
     "name": "stdout",
     "output_type": "stream",
     "text": [
      "0\n",
      "1\n",
      "2\n",
      "3\n",
      "Jorge\n"
     ]
    }
   ],
   "source": [
    "for nummer in range(4):\n",
    "    print(nummer)\n",
    "print(minions[nummer])"
   ]
  },
  {
   "cell_type": "markdown",
   "metadata": {
    "deletable": true,
    "editable": true
   },
   "source": [
    "One last time?"
   ]
  },
  {
   "cell_type": "code",
   "execution_count": 17,
   "metadata": {
    "collapsed": false,
    "deletable": true,
    "editable": true
   },
   "outputs": [
    {
     "name": "stdout",
     "output_type": "stream",
     "text": [
      "-- GO --\n",
      "Dave\n",
      "Stuart\n",
      "Jerry\n",
      "Jorge\n",
      "--done--\n"
     ]
    }
   ],
   "source": [
    "print(\"-- GO --\")\n",
    "for number in range(4):\n",
    "    print(minions[number])\n",
    "    # this comment is skipped 4 times\n",
    "# this comment is skipped only once\n",
    "print(\"--done--\")"
   ]
  },
  {
   "cell_type": "markdown",
   "metadata": {
    "deletable": true,
    "editable": true
   },
   "source": [
    "We don't have to use numbers! In Python we can use the list directly:"
   ]
  },
  {
   "cell_type": "code",
   "execution_count": 18,
   "metadata": {
    "collapsed": false,
    "deletable": true,
    "editable": true
   },
   "outputs": [
    {
     "name": "stdout",
     "output_type": "stream",
     "text": [
      "Dave\n",
      "Stuart\n",
      "Jerry\n",
      "Jorge\n"
     ]
    }
   ],
   "source": [
    "for minion in minions:\n",
    "    print(minion)"
   ]
  },
  {
   "cell_type": "markdown",
   "metadata": {
    "deletable": true,
    "editable": true
   },
   "source": [
    "Which makes it possible to print the favorite flavour for each of the minions in our list from the minion_icecreams dictionary"
   ]
  },
  {
   "cell_type": "code",
   "execution_count": 19,
   "metadata": {
    "collapsed": false,
    "deletable": true,
    "editable": true
   },
   "outputs": [
    {
     "name": "stdout",
     "output_type": "stream",
     "text": [
      "('Dave', 'strawberry')\n",
      "('Stuart', 'vanille')\n",
      "('Jerry', ['mokka', 'vanille'])\n",
      "('Jorge', 'chocolate')\n"
     ]
    }
   ],
   "source": [
    "for minion in minions:\n",
    "    print(minion, minion_icecreams[minion])"
   ]
  },
  {
   "cell_type": "markdown",
   "metadata": {
    "deletable": true,
    "editable": true
   },
   "source": [
    "While is a similar kind of loop. It means that instructions are executed \"while\" a certain condition is met.  \n",
    "You can for instance throw an imaginary dice until a 6 is thrown:"
   ]
  },
  {
   "cell_type": "code",
   "execution_count": 20,
   "metadata": {
    "collapsed": false,
    "deletable": true,
    "editable": true
   },
   "outputs": [
    {
     "name": "stdout",
     "output_type": "stream",
     "text": [
      "6\n"
     ]
    }
   ],
   "source": [
    "import random                    # in order to use the random module; we'll get back to importing libraries later\n",
    "\n",
    "throw = 0                        # a throw of 0 is impossible, but we don't really care about that now...\n",
    "while throw < 6:\n",
    "    throw = random.randint(1,6)  # a random number between 1 and 6\n",
    "    print(throw)"
   ]
  },
  {
   "cell_type": "markdown",
   "metadata": {
    "deletable": true,
    "editable": true
   },
   "source": [
    "Try this a few times and you'll get different results each time (Ctrl+Enter executes the cell while your cursor stays on it)\n",
    "\n",
    "As you can imagine, the \"while True:\" construct is a bit special; since True will never turn into False (never say never...) this loop will keep going eternally, unless you explicitly stop it by for instance clicking the Stop button (<i class=\"fa-stop fa\"></i>) in the menu above or choosing Kernel > Interrupt from the dropdown menu."
   ]
  },
  {
   "cell_type": "code",
   "execution_count": 21,
   "metadata": {
    "collapsed": false,
    "deletable": true,
    "editable": true
   },
   "outputs": [
    {
     "name": "stdout",
     "output_type": "stream",
     "text": [
      ". . . . . . . . . . . . . . . . . . . . . . . . . . . . . . . . . . . . . . . . . . . . . . . . . . . . . . . . . . . . . . . . . . . . . . . . . . ."
     ]
    },
    {
     "ename": "KeyboardInterrupt",
     "evalue": "",
     "output_type": "error",
     "traceback": [
      "\u001b[0;31m---------------------------------------------------------------------------\u001b[0m",
      "\u001b[0;31mKeyboardInterrupt\u001b[0m                         Traceback (most recent call last)",
      "\u001b[0;32m<ipython-input-21-8dcb727c0f27>\u001b[0m in \u001b[0;36m<module>\u001b[0;34m()\u001b[0m\n\u001b[1;32m      3\u001b[0m \u001b[0;32mwhile\u001b[0m \u001b[0mTrue\u001b[0m\u001b[0;34m:\u001b[0m\u001b[0;34m\u001b[0m\u001b[0m\n\u001b[1;32m      4\u001b[0m     \u001b[0;32mprint\u001b[0m\u001b[0;34m(\u001b[0m\u001b[0;34m'.'\u001b[0m\u001b[0;34m)\u001b[0m\u001b[0;34m,\u001b[0m                 \u001b[0;31m# the comma after the print statement keeps the next print output on the same line\u001b[0m\u001b[0;34m\u001b[0m\u001b[0m\n\u001b[0;32m----> 5\u001b[0;31m     \u001b[0mtime\u001b[0m\u001b[0;34m.\u001b[0m\u001b[0msleep\u001b[0m\u001b[0;34m(\u001b[0m\u001b[0;36m0.2\u001b[0m\u001b[0;34m)\u001b[0m             \u001b[0;31m# 0.2 seconds pause\u001b[0m\u001b[0;34m\u001b[0m\u001b[0m\n\u001b[0m",
      "\u001b[0;31mKeyboardInterrupt\u001b[0m: "
     ]
    }
   ],
   "source": [
    "import time                     # in order to use the time module; we'll -really- get back to importing libraries later\n",
    "\n",
    "while True:\n",
    "    print('.'),                 # the comma after the print statement keeps the next print output on the same line\n",
    "    time.sleep(0.2)             # 0.2 seconds pause"
   ]
  },
  {
   "cell_type": "markdown",
   "metadata": {
    "deletable": true,
    "editable": true
   },
   "source": [
    "Click the Stop button (<i class=\"fa-stop fa\"></i>) to end the execution.\n",
    "This method is sometimes use to start a program that needs to keep running indefinitely.\n",
    "\n",
    "#### Advanced: You can \"catch\" errors like the one you see above. This is a way of telling Python you were expecting this error might occur and handling it in an elegant way, so Python does not have to show the ugly error messages to the end user.\n",
    "\n",
    "This happens with a \"try except\" construct, in the following manner:"
   ]
  },
  {
   "cell_type": "code",
   "execution_count": 22,
   "metadata": {
    "collapsed": false,
    "deletable": true,
    "editable": true
   },
   "outputs": [
    {
     "name": "stdout",
     "output_type": "stream",
     "text": [
      " . . . . . . . . . . . . . . . . . . . \n",
      "The End\n"
     ]
    }
   ],
   "source": [
    "import time\n",
    "\n",
    "while True:\n",
    "    try:                                # execute some code...\n",
    "        print('.'),\n",
    "        time.sleep(0.2)\n",
    "    except KeyboardInterrupt:           # ... and if a KeyboardInterrupt error would occur, this is what should happen:\n",
    "        print('\\nThe End')                # print 'The End' (on a new line)\n",
    "        break                           # leave the while loop"
   ]
  },
  {
   "cell_type": "markdown",
   "metadata": {
    "deletable": true,
    "editable": true
   },
   "source": [
    "# Conditions\n",
    "With an \"if\" statement, we can influence the execution flow of our code.  \n",
    "It allows us to make the computer do something, not do something or do a different thing, all depending on the condition we impose."
   ]
  },
  {
   "cell_type": "code",
   "execution_count": 23,
   "metadata": {
    "collapsed": false,
    "deletable": true,
    "editable": true
   },
   "outputs": [
    {
     "name": "stdout",
     "output_type": "stream",
     "text": [
      "Well done\n"
     ]
    }
   ],
   "source": [
    "score = 85\n",
    "if score > 90:\n",
    "    print('Brilliant')\n",
    "elif score > 80:\n",
    "    print('Well done')\n",
    "elif score > 60:\n",
    "    print('OK')\n",
    "else:\n",
    "    print('Hm')"
   ]
  },
  {
   "cell_type": "markdown",
   "metadata": {
    "deletable": true,
    "editable": true
   },
   "source": [
    "For instance: that Jerry seems a bit greedy and we don't want any bad examples in our list, so:"
   ]
  },
  {
   "cell_type": "code",
   "execution_count": 24,
   "metadata": {
    "collapsed": false,
    "deletable": true,
    "editable": true
   },
   "outputs": [
    {
     "name": "stdout",
     "output_type": "stream",
     "text": [
      "('Dave', 'strawberry')\n",
      "('Stuart', 'vanille')\n",
      "--Glutton--\n",
      "('Jorge', 'chocolate')\n"
     ]
    }
   ],
   "source": [
    "for minion in minions:\n",
    "    if minion == 'Jerry':\n",
    "        print('--Glutton--')\n",
    "    else:\n",
    "        print(minion, minion_icecreams[minion])"
   ]
  },
  {
   "cell_type": "markdown",
   "metadata": {
    "deletable": true,
    "editable": true
   },
   "source": [
    "# Real programming\n",
    "We can also write our own functions in Python and then use them; this helps to keep code tidy and prevents us from having to repeat the same piece of code over and over again."
   ]
  },
  {
   "cell_type": "code",
   "execution_count": 25,
   "metadata": {
    "collapsed": true,
    "deletable": true,
    "editable": true
   },
   "outputs": [],
   "source": [
    "def greet(name):\n",
    "    print('Hi ' + name)"
   ]
  },
  {
   "cell_type": "markdown",
   "metadata": {
    "deletable": true,
    "editable": true
   },
   "source": [
    "Shall we try out our new fuction?"
   ]
  },
  {
   "cell_type": "code",
   "execution_count": 26,
   "metadata": {
    "collapsed": false,
    "deletable": true,
    "editable": true
   },
   "outputs": [
    {
     "name": "stdout",
     "output_type": "stream",
     "text": [
      "Hi Mariette\n"
     ]
    }
   ],
   "source": [
    "greet('Mariette')"
   ]
  },
  {
   "cell_type": "markdown",
   "metadata": {
    "deletable": true,
    "editable": true
   },
   "source": [
    "### And a little extra\n",
    "You'll often need to print stuff to the screen and in many cases this involves mixing fixed texts with variable values (strings, but also numbers or other kinds of data). In those circumstances we can use string templates and the String.format() function, which works in way similar to the Mail Merge functionality in a word processor.\n",
    "\n",
    "The format() function is used as follows:  \n",
    "'Hi {}'.format(name)  \n",
    "This replaces the braces with a text representation of the value of the name passed into the function"
   ]
  },
  {
   "cell_type": "code",
   "execution_count": 27,
   "metadata": {
    "collapsed": false,
    "deletable": true,
    "editable": true
   },
   "outputs": [
    {
     "name": "stdout",
     "output_type": "stream",
     "text": [
      "Hi Willy\n"
     ]
    }
   ],
   "source": [
    "def greet(name):\n",
    "    print('Hi {}'.format(name))\n",
    "\n",
    "greet('Willy')"
   ]
  },
  {
   "cell_type": "markdown",
   "metadata": {
    "deletable": true,
    "editable": true
   },
   "source": [
    "# Python libraries\n",
    "Of course, people have already written a lot of Python code that you could use and many of them have made that code available to you in the form of libraries that are ready to be installed and used.\n",
    "Once such a library is installed, you can import it and use the functions it provides (much like the random and time libraries we imported before):"
   ]
  },
  {
   "cell_type": "code",
   "execution_count": 28,
   "metadata": {
    "collapsed": false,
    "deletable": true,
    "editable": true
   },
   "outputs": [
    {
     "name": "stdout",
     "output_type": "stream",
     "text": [
      "PI: 3.14159265359\n",
      "sin(PI/2): -1.0\n"
     ]
    }
   ],
   "source": [
    "import math\n",
    "print(\"PI: {}\".format(math.pi))\n",
    "print(\"sin(PI/2): {}\".format(math.cos(math.pi)))"
   ]
  },
  {
   "cell_type": "markdown",
   "metadata": {
    "deletable": true,
    "editable": true
   },
   "source": [
    "requests is a library to load web pages; in the example below we visit openweathermap and print a part of the weather prediction for the city of Mechelen."
   ]
  },
  {
   "cell_type": "code",
   "execution_count": 34,
   "metadata": {
    "collapsed": false,
    "deletable": true,
    "editable": true
   },
   "outputs": [
    {
     "name": "stdout",
     "output_type": "stream",
     "text": [
      "Invalid API key. Please see http://openweathermap.org/faq#error401 for more info.\n"
     ]
    }
   ],
   "source": [
    "import requests\n",
    "r = requests.get('http://api.openweathermap.org/data/2.5/weather?q=Mechelen').json()\n",
    "print(r['message'])"
   ]
  },
  {
   "cell_type": "markdown",
   "metadata": {
    "deletable": true,
    "editable": true
   },
   "source": [
    "But we can just as easy get a quote from the online iheartquotes.com database:"
   ]
  },
  {
   "cell_type": "code",
   "execution_count": 35,
   "metadata": {
    "collapsed": false,
    "deletable": true,
    "editable": true
   },
   "outputs": [
    {
     "name": "stdout",
     "output_type": "stream",
     "text": [
      "<!DOCTYPE html>\n",
      "\t<html>\n",
      "\t  <head>\n",
      "\t\t<meta name=\"viewport\" content=\"width=device-width, initial-scale=1\">\n",
      "\t\t<meta charset=\"utf-8\">\n",
      "\t\t<title>Application Error</title>\n",
      "\t\t<style media=\"screen\">\n",
      "\t\t  html,body,iframe {\n",
      "\t\t\tmargin: 0;\n",
      "\t\t\tpadding: 0;\n",
      "\t\t  }\n",
      "\t\t  html,body {\n",
      "\t\t\theight: 100%;\n",
      "\t\t\toverflow: hidden;\n",
      "\t\t  }\n",
      "\t\t  iframe {\n",
      "\t\t\twidth: 100%;\n",
      "\t\t\theight: 100%;\n",
      "\t\t\tborder: 0;\n",
      "\t\t  }\n",
      "\t\t</style>\n",
      "\t  </head>\n",
      "\t  <body>\n",
      "\t\t<iframe src=\"//www.herokucdn.com/error-pages/application-error.html\"></iframe>\n",
      "\t  </body>\n",
      "\t</html>\n"
     ]
    }
   ],
   "source": [
    "import requests\n",
    "r = requests.get('http://www.iheartquotes.com/api/v1/random')\n",
    "print(r.text)"
   ]
  },
  {
   "cell_type": "markdown",
   "metadata": {
    "deletable": true,
    "editable": true
   },
   "source": [
    "Well done! you completed your first Python steps!"
   ]
  }
 ],
 "metadata": {
  "kernelspec": {
   "display_name": "Python 2",
   "language": "python",
   "name": "python2"
  },
  "language_info": {
   "codemirror_mode": {
    "name": "ipython",
    "version": 2
   },
   "file_extension": ".py",
   "mimetype": "text/x-python",
   "name": "python",
   "nbconvert_exporter": "python",
   "pygments_lexer": "ipython2",
   "version": "2.7.9"
  }
 },
 "nbformat": 4,
 "nbformat_minor": 0
}
