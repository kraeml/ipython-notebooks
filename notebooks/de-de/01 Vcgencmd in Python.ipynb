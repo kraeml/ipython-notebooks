{
 "cells": [
  {
   "cell_type": "markdown",
   "metadata": {},
   "source": [
    "# Vcgencmd in Python\n",
    "\n",
    "Link: http://nicmcd.github.io/vcgencmd/\n",
    "\n",
    "## Requirements\n",
    "\n",
    "Es werden pip3 und das Python Modul setuptools benötigt.\n",
    "\n",
    "__Hinweis:__ folgende Zellen wurden mit dem Bash-Kernel ausgeführt."
   ]
  },
  {
   "cell_type": "code",
   "execution_count": 1,
   "metadata": {
    "collapsed": false,
    "deletable": true,
    "editable": true
   },
   "outputs": [
    {
     "name": "stdout",
     "output_type": "stream",
     "text": [
      "Reading package lists... Done\n",
      "Building dependency tree       \n",
      "Reading state information... Done\n",
      "python3-pip is already the newest version.\n",
      "0 upgraded, 0 newly installed, 0 to remove and 0 not upgraded.\n"
     ]
    }
   ],
   "source": [
    "sudo apt-get install python3-pip"
   ]
  },
  {
   "cell_type": "code",
   "execution_count": 2,
   "metadata": {
    "collapsed": false,
    "deletable": true,
    "editable": true
   },
   "outputs": [
    {
     "name": "stdout",
     "output_type": "stream",
     "text": [
      "Requirement already up-to-date: setuptools in /usr/local/lib/python3.4/dist-packages\n",
      "Requirement already up-to-date: appdirs>=1.4.0 in /usr/local/lib/python3.4/dist-packages (from setuptools)\n",
      "Requirement already up-to-date: packaging>=16.8 in /usr/local/lib/python3.4/dist-packages (from setuptools)\n",
      "Requirement already up-to-date: six>=1.6.0 in /usr/local/lib/python3.4/dist-packages (from setuptools)\n",
      "Requirement already up-to-date: pyparsing in /usr/local/lib/python3.4/dist-packages (from packaging>=16.8->setuptools)\n"
     ]
    }
   ],
   "source": [
    "sudo pip3 install --upgrade setuptools"
   ]
  },
  {
   "cell_type": "code",
   "execution_count": 3,
   "metadata": {
    "collapsed": false,
    "deletable": true,
    "editable": true
   },
   "outputs": [
    {
     "name": "stdout",
     "output_type": "stream",
     "text": [
      "Collecting git+https://github.com/nicmcd/vcgencmd.git\n",
      "  Cloning https://github.com/nicmcd/vcgencmd.git to /tmp/pip-ebeaeubv-build\n",
      "  Requirement already satisfied (use --upgrade to upgrade): vcgencmd==0.1.0 from git+https://github.com/nicmcd/vcgencmd.git in /usr/local/lib/python3.4/dist-packages\n"
     ]
    }
   ],
   "source": [
    "sudo pip3 install git+https://github.com/nicmcd/vcgencmd.git"
   ]
  },
  {
   "cell_type": "code",
   "execution_count": 4,
   "metadata": {
    "collapsed": false,
    "deletable": true,
    "editable": true
   },
   "outputs": [
    {
     "name": "stdout",
     "output_type": "stream",
     "text": [
      "Clock Frequencies (Hz):\n",
      "  arm       : 900000000\n",
      "  core      : 250000000\n",
      "  h264      : 0\n",
      "  isp       : 250000000\n",
      "  v3d       : 250000000\n",
      "  uart      : 48000000\n",
      "  pwm       : 0\n",
      "  emmc      : 250000000\n",
      "  pixel     : 0\n",
      "  vec       : 108000000\n",
      "  hdmi      : 163683000\n",
      "  dpi       : 0\n",
      "Voltages (V):\n",
      "  core      : 1.3125\n",
      "  sdram_c   : 1.2\n",
      "  sdram_i   : 1.2\n",
      "  sdram_p   : 1.225\n",
      "Temperatures (C):\n",
      "            : 40.1\n",
      "Codecs Enabled:\n",
      "  h264      : False\n",
      "  mpg2      : False\n",
      "  wvc1      : False\n",
      "  mpg4      : False\n",
      "  mjpg      : False\n",
      "  wmv9      : False\n",
      "Memory Allocation (bytes):\n",
      "  arm       : 922746880\n",
      "  gpu       : 134217728\n"
     ]
    }
   ],
   "source": [
    "python3 -m vcgencmd"
   ]
  },
  {
   "cell_type": "markdown",
   "metadata": {},
   "source": [
    "## Python Shell\n",
    "\n",
    "Aufruf mit `python3`"
   ]
  },
  {
   "cell_type": "code",
   "execution_count": 1,
   "metadata": {
    "collapsed": true,
    "deletable": true,
    "editable": true
   },
   "outputs": [],
   "source": [
    "import vcgencmd"
   ]
  },
  {
   "cell_type": "markdown",
   "metadata": {},
   "source": [
    "Das Modul `vcgencmd` wird importiert.\n",
    "\n",
    "### Frequenzen\n",
    "\n",
    "Welche Frequenzen können mit `vcgencmd` gemessen werden?"
   ]
  },
  {
   "cell_type": "code",
   "execution_count": 2,
   "metadata": {
    "collapsed": false
   },
   "outputs": [
    {
     "data": {
      "text/plain": [
       "['arm',\n",
       " 'core',\n",
       " 'h264',\n",
       " 'isp',\n",
       " 'v3d',\n",
       " 'uart',\n",
       " 'pwm',\n",
       " 'emmc',\n",
       " 'pixel',\n",
       " 'vec',\n",
       " 'hdmi',\n",
       " 'dpi']"
      ]
     },
     "execution_count": 2,
     "metadata": {},
     "output_type": "execute_result"
    }
   ],
   "source": [
    "vcgencmd.frequency_sources()"
   ]
  },
  {
   "cell_type": "markdown",
   "metadata": {},
   "source": [
    "Einzelne Frequenzen ermitteln:"
   ]
  },
  {
   "cell_type": "code",
   "execution_count": 3,
   "metadata": {
    "collapsed": false,
    "deletable": true,
    "editable": true
   },
   "outputs": [
    {
     "data": {
      "text/plain": [
       "600000000"
      ]
     },
     "execution_count": 3,
     "metadata": {},
     "output_type": "execute_result"
    }
   ],
   "source": [
    "vcgencmd.measure_clock('arm')"
   ]
  },
  {
   "cell_type": "code",
   "execution_count": 4,
   "metadata": {
    "collapsed": false,
    "deletable": true,
    "editable": true
   },
   "outputs": [
    {
     "data": {
      "text/plain": [
       "163683000"
      ]
     },
     "execution_count": 4,
     "metadata": {},
     "output_type": "execute_result"
    }
   ],
   "source": [
    "vcgencmd.measure_clock('hdmi')"
   ]
  },
  {
   "cell_type": "markdown",
   "metadata": {},
   "source": [
    "## Spannungen"
   ]
  },
  {
   "cell_type": "code",
   "execution_count": 5,
   "metadata": {
    "collapsed": false
   },
   "outputs": [
    {
     "data": {
      "text/plain": [
       "['core', 'sdram_c', 'sdram_i', 'sdram_p']"
      ]
     },
     "execution_count": 5,
     "metadata": {},
     "output_type": "execute_result"
    }
   ],
   "source": [
    "vcgencmd.voltage_sources()"
   ]
  },
  {
   "cell_type": "code",
   "execution_count": 6,
   "metadata": {
    "collapsed": false
   },
   "outputs": [
    {
     "data": {
      "text/plain": [
       "1.2"
      ]
     },
     "execution_count": 6,
     "metadata": {},
     "output_type": "execute_result"
    }
   ],
   "source": [
    "vcgencmd.measure_volts('core')"
   ]
  },
  {
   "cell_type": "markdown",
   "metadata": {},
   "source": [
    "### Temperaturen"
   ]
  },
  {
   "cell_type": "code",
   "execution_count": 7,
   "metadata": {
    "collapsed": false
   },
   "outputs": [
    {
     "data": {
      "text/plain": [
       "39.5"
      ]
     },
     "execution_count": 7,
     "metadata": {},
     "output_type": "execute_result"
    }
   ],
   "source": [
    "vcgencmd.measure_temp()"
   ]
  },
  {
   "cell_type": "markdown",
   "metadata": {},
   "source": [
    "### Video Codec"
   ]
  },
  {
   "cell_type": "code",
   "execution_count": 8,
   "metadata": {
    "collapsed": false
   },
   "outputs": [
    {
     "data": {
      "text/plain": [
       "['h264', 'mpg2', 'wvc1', 'mpg4', 'mjpg', 'wmv9']"
      ]
     },
     "execution_count": 8,
     "metadata": {},
     "output_type": "execute_result"
    }
   ],
   "source": [
    "vcgencmd.codec_sources()"
   ]
  },
  {
   "cell_type": "code",
   "execution_count": 9,
   "metadata": {
    "collapsed": false
   },
   "outputs": [
    {
     "data": {
      "text/plain": [
       "False"
      ]
     },
     "execution_count": 9,
     "metadata": {},
     "output_type": "execute_result"
    }
   ],
   "source": [
    "vcgencmd.codec_enabled('mpg2')"
   ]
  },
  {
   "cell_type": "markdown",
   "metadata": {},
   "source": [
    "### Speicher"
   ]
  },
  {
   "cell_type": "code",
   "execution_count": 10,
   "metadata": {
    "collapsed": false
   },
   "outputs": [
    {
     "data": {
      "text/plain": [
       "['arm', 'gpu']"
      ]
     },
     "execution_count": 10,
     "metadata": {},
     "output_type": "execute_result"
    }
   ],
   "source": [
    "vcgencmd.memory_sources()"
   ]
  }
 ],
 "metadata": {
  "kernelspec": {
   "display_name": "Python 3",
   "language": "python",
   "name": "python3"
  },
  "language_info": {
   "codemirror_mode": {
    "name": "ipython",
    "version": 3
   },
   "file_extension": ".py",
   "mimetype": "text/x-python",
   "name": "python",
   "nbconvert_exporter": "python",
   "pygments_lexer": "ipython3",
   "version": "3.4.2"
  }
 },
 "nbformat": 4,
 "nbformat_minor": 2
}
