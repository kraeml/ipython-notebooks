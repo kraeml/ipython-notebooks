{
 "cells": [
  {
   "cell_type": "markdown",
   "metadata": {
    "deletable": true,
    "editable": true
   },
   "source": [
    "# Die Hardware des Raspberry Pi überwachen\n",
    "\n",
    "Mit dem Tool `vcgencmd` können wir die Gesundheit des Pi überwachen.\n",
    "\n",
    "Mit folgendem Aufruf zeigt das Tool seine Optionen an."
   ]
  },
  {
   "cell_type": "code",
   "execution_count": 1,
   "metadata": {
    "collapsed": false,
    "deletable": true,
    "editable": true
   },
   "outputs": [
    {
     "name": "stdout",
     "output_type": "stream",
     "text": [
      "commands=\"vcos, ap_output_control, ap_output_post_processing, vchi_test_init, vchi_test_exit, pm_set_policy, pm_get_status, pm_show_stats, pm_start_logging, pm_stop_logging, version, commands, set_vll_dir, set_backlight, set_logging, get_lcd_info, arbiter, cache_flush, otp_dump, test_result, codec_enabled, get_camera, get_mem, measure_clock, measure_volts, scaling_kernel, scaling_sharpness, get_hvs_asserts, get_throttled, measure_temp, get_config, hdmi_ntsc_freqs, hdmi_adjust_clock, hdmi_status_show, hvs_update_fields, pwm_speedup, force_audio, hdmi_stream_channels, hdmi_channel_map, display_power, read_ring_osc, memtest, dispmanx_list, get_rsts, schmoo, render_bar, disk_notify, inuse_notify, sus_suspend, sus_status, sus_is_enabled, sus_stop_test_thread, egl_platform_switch, mem_validate, mem_oom, mem_reloc_stats, hdmi_cvt, hdmi_timings, file, vctest_memmap, vctest_start, vctest_stop, vctest_set, vctest_get\"\n"
     ]
    }
   ],
   "source": [
    "vcgencmd commands"
   ]
  },
  {
   "cell_type": "markdown",
   "metadata": {
    "deletable": true,
    "editable": true
   },
   "source": [
    "Leider ist das Tool nicht sehr gut dokumentiert.\n",
    "\n",
    "[Projektseite][1]\n",
    "\n",
    "[1]: https://github.com/raspberrypi/firmware\n",
    "\n",
    "## Komponenten-Spannung messen\n",
    "\n",
    "### Die GPU-Core Spannung"
   ]
  },
  {
   "cell_type": "code",
   "execution_count": 2,
   "metadata": {
    "collapsed": false,
    "deletable": true,
    "editable": true
   },
   "outputs": [
    {
     "name": "stdout",
     "output_type": "stream",
     "text": [
      "volt=1.2000V\n"
     ]
    }
   ],
   "source": [
    "vcgencmd measure_volts core"
   ]
  },
  {
   "cell_type": "markdown",
   "metadata": {
    "deletable": true,
    "editable": true
   },
   "source": [
    "### Der SDRAM-Controller"
   ]
  },
  {
   "cell_type": "code",
   "execution_count": 3,
   "metadata": {
    "collapsed": false,
    "deletable": true,
    "editable": true
   },
   "outputs": [
    {
     "name": "stdout",
     "output_type": "stream",
     "text": [
      "volt=1.2000V\n"
     ]
    }
   ],
   "source": [
    "vcgencmd measure_volts sdram_c"
   ]
  },
  {
   "cell_type": "markdown",
   "metadata": {
    "deletable": true,
    "editable": true
   },
   "source": [
    "### Der SDRAM Input/Output (I/O)"
   ]
  },
  {
   "cell_type": "code",
   "execution_count": 4,
   "metadata": {
    "collapsed": false,
    "deletable": true,
    "editable": true
   },
   "outputs": [
    {
     "name": "stdout",
     "output_type": "stream",
     "text": [
      "volt=1.2000V\n"
     ]
    }
   ],
   "source": [
    "vcgencmd measure_volts sdram_i"
   ]
  },
  {
   "cell_type": "markdown",
   "metadata": {
    "deletable": true,
    "editable": true
   },
   "source": [
    "### Der SDRAM-Speicher"
   ]
  },
  {
   "cell_type": "code",
   "execution_count": 5,
   "metadata": {
    "collapsed": false,
    "deletable": true,
    "editable": true
   },
   "outputs": [
    {
     "name": "stdout",
     "output_type": "stream",
     "text": [
      "volt=1.2250V\n"
     ]
    }
   ],
   "source": [
    "vcgencmd measure_volts sdram_p"
   ]
  },
  {
   "cell_type": "markdown",
   "metadata": {
    "deletable": true,
    "editable": true
   },
   "source": [
    "Diese Spannungen sind eigentlich nur für das Übertackten wichtig. Die Betriebsspannung kan `vcgencmd` nicht ermitteln.\n",
    "\n",
    "## Temperatur messen"
   ]
  },
  {
   "cell_type": "code",
   "execution_count": 6,
   "metadata": {
    "collapsed": false,
    "deletable": true,
    "editable": true
   },
   "outputs": [
    {
     "name": "stdout",
     "output_type": "stream",
     "text": [
      "temp=40.6'C\n"
     ]
    }
   ],
   "source": [
    "vcgencmd measure_temp"
   ]
  },
  {
   "cell_type": "code",
   "execution_count": 7,
   "metadata": {
    "collapsed": false,
    "deletable": true,
    "editable": true
   },
   "outputs": [
    {
     "name": "stdout",
     "output_type": "stream",
     "text": [
      "40622\n"
     ]
    }
   ],
   "source": [
    "cat /sys/class/thermal/thermal_zone0/temp"
   ]
  },
  {
   "cell_type": "markdown",
   "metadata": {
    "deletable": true,
    "editable": true
   },
   "source": [
    "### Spaß mit Mathe und Physik\n",
    "\n",
    "* Den Wert in °C errechnet man mit dem Teiler 1000.\n",
    "* Den Wert in °F ermittelt man mit dem Multiplikator 1,8 und der Addition von 32.\n",
    "* Um Kelvin zu erhalten addieren wir 273,15 zu °C hinzu.\n",
    "\n",
    "## Speicheraufteilung ermitteln"
   ]
  },
  {
   "cell_type": "code",
   "execution_count": 8,
   "metadata": {
    "collapsed": false,
    "deletable": true,
    "editable": true
   },
   "outputs": [
    {
     "name": "stdout",
     "output_type": "stream",
     "text": [
      "arm=880M\n"
     ]
    }
   ],
   "source": [
    "sudo vcgencmd get_mem arm"
   ]
  },
  {
   "cell_type": "code",
   "execution_count": 9,
   "metadata": {
    "collapsed": false,
    "deletable": true,
    "editable": true
   },
   "outputs": [
    {
     "name": "stdout",
     "output_type": "stream",
     "text": [
      "gpu=128M\n"
     ]
    }
   ],
   "source": [
    "sudo su -c 'vcgencmd get_mem gpu'"
   ]
  },
  {
   "cell_type": "markdown",
   "metadata": {
    "deletable": true,
    "editable": true
   },
   "source": [
    "## Konfiguration überprüfen"
   ]
  },
  {
   "cell_type": "code",
   "execution_count": 10,
   "metadata": {
    "collapsed": false,
    "deletable": true,
    "editable": true
   },
   "outputs": [
    {
     "name": "stdout",
     "output_type": "stream",
     "text": [
      "arm_freq=900\n",
      "audio_pwm_mode=1\n",
      "config_hdmi_boost=5\n",
      "disable_commandline_tags=2\n",
      "disable_l2cache=1\n",
      "enable_uart=1\n",
      "force_eeprom_read=1\n",
      "force_pwm_open=1\n",
      "framebuffer_ignore_alpha=1\n",
      "framebuffer_swap=1\n",
      "hdmi_force_cec_address=65535\n",
      "init_uart_clock=0x2dc6c00\n",
      "lcd_framerate=60\n",
      "over_voltage_avs=0x1b774\n",
      "over_voltage_avs_boost=0x200b2\n",
      "overscan_bottom=32\n",
      "overscan_left=32\n",
      "overscan_right=32\n",
      "overscan_top=32\n",
      "pause_burst_frames=1\n",
      "program_serial_random=1\n",
      "sdram_freq=450\n",
      "temp_limit=85\n"
     ]
    }
   ],
   "source": [
    "sudo su -c 'vcgencmd get_config int'"
   ]
  },
  {
   "cell_type": "markdown",
   "metadata": {
    "deletable": true,
    "editable": true
   },
   "source": [
    "Es gibt ein paar wenige Konfigurations-Optionen, die ihren Wert als String zurückgeben können. Meist bleibt dieser Aufruf aber leer:"
   ]
  },
  {
   "cell_type": "code",
   "execution_count": 11,
   "metadata": {
    "collapsed": false,
    "deletable": true,
    "editable": true
   },
   "outputs": [
    {
     "name": "stdout",
     "output_type": "stream",
     "text": [
      "device_tree=-\n"
     ]
    }
   ],
   "source": [
    "sudo su -c 'vcgencmd get_config str'"
   ]
  },
  {
   "cell_type": "code",
   "execution_count": 12,
   "metadata": {
    "collapsed": false,
    "deletable": true,
    "editable": true
   },
   "outputs": [
    {
     "name": "stdout",
     "output_type": "stream",
     "text": [
      "arm_freq=900\n"
     ]
    }
   ],
   "source": [
    "sudo su -c 'vcgencmd get_config arm_freq'"
   ]
  },
  {
   "cell_type": "markdown",
   "metadata": {
    "deletable": true,
    "editable": true
   },
   "source": [
    "## Weitere Links\n",
    "\n",
    "* [Hacks für Raspberry Pi][1]\n",
    "* [HDMI-Ausgang unkompliziert ein- und ausschalten][2]\n",
    "* [Raspberry Pi Betriebstemperatur ermitteln][3]\n",
    "* [vcgencmd - Native Python][4]\n",
    "* [\"vcgencmd measure_temp\" command failing][5]\n",
    "* [vcgencmd - Native nodejs][6]\n",
    "* [Raspberry Pi: vcgencmd nach-installieren][7]\n",
    "* [Raspberry Pi: Systeminformationen ermitteln][8]\n",
    "* [RPI vcgencmd usage][9]\n",
    "\n",
    "[1]: https://www.oreilly.de/buecher/120062/9783955616328-hacks-f%C3%BCr-raspberry-pi.html\n",
    "[2]: https://pi-buch.info/hdmi-ausgang-unkompliziert-ein-und-ausschalten/\n",
    "[3]: https://developer-blog.net/raspberry-pi-betriebstemperatur-ermitteln/\n",
    "[4]: http://nicmcd.github.io/vcgencmd/\n",
    "[5]: https://www.raspberrypi.org/forums/viewtopic.php?f=63&t=34076\n",
    "[6]: https://www.npmjs.com/package/vcgencmd\n",
    "[7]: https://www.elektronik-kompendium.de/sites/raspberry-pi/2006081.htm\n",
    "[8]: https://www.elektronik-kompendium.de/sites/raspberry-pi/2006071.htm\n",
    "[9]: http://www.elinux.org/RPI_vcgencmd_usage\n",
    "\n",
    "## Gruppenzugehörigkeit SW-Pakete"
   ]
  },
  {
   "cell_type": "code",
   "execution_count": 13,
   "metadata": {
    "collapsed": false,
    "deletable": true,
    "editable": true
   },
   "outputs": [
    {
     "name": "stdout",
     "output_type": "stream",
     "text": [
      "uid=1000(pi) gid=1000(pi) groups=1000(pi),27(sudo),44(video),101(input),998(docker),999(gpio)\n"
     ]
    }
   ],
   "source": [
    "id"
   ]
  },
  {
   "cell_type": "code",
   "execution_count": 14,
   "metadata": {
    "collapsed": false,
    "deletable": true,
    "editable": true
   },
   "outputs": [
    {
     "name": "stdout",
     "output_type": "stream",
     "text": [
      "libraspberrypi-bin:\n",
      "  Installed: 1.20170215-1\n",
      "  Candidate: 1.20170215-1\n",
      "  Version table:\n",
      " *** 1.20170215-1 0\n",
      "        600 http://archive.raspberrypi.org/debian/ jessie/main armhf Packages\n",
      "        100 /var/lib/dpkg/status\n",
      "     1.20160523-1~nokernel2 0\n",
      "        500 http://mirrordirector.raspbian.org/raspbian/ jessie/firmware armhf Packages\n"
     ]
    }
   ],
   "source": [
    "apt-cache policy libraspberrypi-bin"
   ]
  }
 ],
 "metadata": {
  "kernelspec": {
   "display_name": "Bash",
   "language": "bash",
   "name": "bash"
  },
  "language_info": {
   "codemirror_mode": "shell",
   "file_extension": ".sh",
   "mimetype": "text/x-sh",
   "name": "bash"
  }
 },
 "nbformat": 4,
 "nbformat_minor": 2
}
