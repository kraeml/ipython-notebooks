{
 "cells": [
  {
   "cell_type": "markdown",
   "metadata": {
    "slideshow": {
     "slide_type": "slide"
    }
   },
   "source": [
    "# Die Hardware des Raspberry Pi überwachen\n",
    "\n",
    "Mit dem Tool `vcgencmd` können wir die Gesundheit des Pi überwachen.\n",
    "\n",
    "Mit folgendem Aufruf zeigt das Tool seine Optionen an."
   ]
  },
  {
   "cell_type": "markdown",
   "metadata": {
    "slideshow": {
     "slide_type": "fragment"
    }
   },
   "source": [
    "Leider ist das Tool nicht sehr gut dokumentiert.\n",
    "\n",
    "[Projektseite][1]\n",
    "\n",
    "[1]: https://github.com/raspberrypi/firmware"
   ]
  },
  {
   "cell_type": "code",
   "execution_count": 1,
   "metadata": {
    "slideshow": {
     "slide_type": "slide"
    }
   },
   "outputs": [
    {
     "name": "stdout",
     "output_type": "stream",
     "text": [
      "commands=\"vcos, ap_output_control, ap_output_post_processing, vctest_memmap, vctest_start, vctest_stop, vctest_set, vctest_get, pm_set_policy, pm_get_status, pm_show_stats, pm_start_logging, pm_stop_logging, version, commands, set_vll_dir, set_backlight, set_logging, get_lcd_info, arbiter, cache_flush, otp_dump, test_result, codec_enabled, get_camera, get_mem, measure_clock, measure_volts, scaling_kernel, scaling_sharpness, get_hvs_asserts, get_throttled, measure_temp, get_config, hdmi_ntsc_freqs, hdmi_adjust_clock, hdmi_status_show, hvs_update_fields, pwm_speedup, force_audio, hdmi_stream_channels, hdmi_channel_map, display_power, read_ring_osc, memtest, dispmanx_list, get_rsts, schmoo, render_bar, disk_notify, inuse_notify, sus_suspend, sus_status, sus_is_enabled, sus_stop_test_thread, egl_platform_switch, mem_validate, mem_oom, mem_reloc_stats, hdmi_cvt, hdmi_timings\"\n"
     ]
    }
   ],
   "source": [
    "vcgencmd commands"
   ]
  },
  {
   "cell_type": "markdown",
   "metadata": {
    "slideshow": {
     "slide_type": "slide"
    }
   },
   "source": [
    "## Komponenten-Spannung messen\n",
    "\n",
    "### Die GPU-Core Spannung"
   ]
  },
  {
   "cell_type": "code",
   "execution_count": 2,
   "metadata": {
    "slideshow": {
     "slide_type": "fragment"
    }
   },
   "outputs": [
    {
     "name": "stdout",
     "output_type": "stream",
     "text": [
      "volt=1.2000V\n"
     ]
    }
   ],
   "source": [
    "vcgencmd measure_volts core"
   ]
  },
  {
   "cell_type": "markdown",
   "metadata": {
    "slideshow": {
     "slide_type": "slide"
    }
   },
   "source": [
    "### Der SDRAM-Controller"
   ]
  },
  {
   "cell_type": "code",
   "execution_count": 3,
   "metadata": {
    "slideshow": {
     "slide_type": "fragment"
    }
   },
   "outputs": [
    {
     "name": "stdout",
     "output_type": "stream",
     "text": [
      "volt=1.2000V\n"
     ]
    }
   ],
   "source": [
    "vcgencmd measure_volts sdram_c"
   ]
  },
  {
   "cell_type": "markdown",
   "metadata": {
    "slideshow": {
     "slide_type": "slide"
    }
   },
   "source": [
    "### Der SDRAM Input/Output (I/O)"
   ]
  },
  {
   "cell_type": "code",
   "execution_count": 4,
   "metadata": {
    "slideshow": {
     "slide_type": "fragment"
    }
   },
   "outputs": [
    {
     "name": "stdout",
     "output_type": "stream",
     "text": [
      "volt=1.2000V\n"
     ]
    }
   ],
   "source": [
    "vcgencmd measure_volts sdram_i"
   ]
  },
  {
   "cell_type": "markdown",
   "metadata": {
    "slideshow": {
     "slide_type": "slide"
    }
   },
   "source": [
    "### Der SDRAM-Speicher"
   ]
  },
  {
   "cell_type": "code",
   "execution_count": 5,
   "metadata": {
    "slideshow": {
     "slide_type": "fragment"
    }
   },
   "outputs": [
    {
     "name": "stdout",
     "output_type": "stream",
     "text": [
      "volt=1.2250V\n"
     ]
    }
   ],
   "source": [
    "vcgencmd measure_volts sdram_p"
   ]
  },
  {
   "cell_type": "markdown",
   "metadata": {
    "slideshow": {
     "slide_type": "fragment"
    }
   },
   "source": [
    "Diese Spannungen sind eigentlich nur für das Übertackten wichtig. Die Betriebsspannung kan `vcgencmd` nicht ermitteln."
   ]
  },
  {
   "cell_type": "markdown",
   "metadata": {
    "slideshow": {
     "slide_type": "slide"
    }
   },
   "source": [
    "## Temperatur messen"
   ]
  },
  {
   "cell_type": "code",
   "execution_count": 6,
   "metadata": {
    "slideshow": {
     "slide_type": "fragment"
    }
   },
   "outputs": [
    {
     "name": "stdout",
     "output_type": "stream",
     "text": [
      "temp=45.1'C\n"
     ]
    }
   ],
   "source": [
    "vcgencmd measure_temp"
   ]
  },
  {
   "cell_type": "code",
   "execution_count": 7,
   "metadata": {
    "slideshow": {
     "slide_type": "fragment"
    }
   },
   "outputs": [
    {
     "name": "stdout",
     "output_type": "stream",
     "text": [
      "45084\n"
     ]
    }
   ],
   "source": [
    "cat /sys/class/thermal/thermal_zone0/temp"
   ]
  },
  {
   "cell_type": "markdown",
   "metadata": {
    "slideshow": {
     "slide_type": "slide"
    }
   },
   "source": [
    "### Spaß mit Mathe und Physik\n",
    "\n",
    "* Den Wert in °C errechnet man mit dem Teiler 1000.\n",
    "* Den Wert in °F ermittelt man mit dem Multiplikator 1,8 und der Addition von 32.\n",
    "* Um Kelvin zu erhalten addieren wir 273,15 zu °C hinzu."
   ]
  },
  {
   "cell_type": "markdown",
   "metadata": {
    "slideshow": {
     "slide_type": "slide"
    }
   },
   "source": [
    "## Speicheraufteilung ermitteln"
   ]
  },
  {
   "cell_type": "code",
   "execution_count": 8,
   "metadata": {
    "slideshow": {
     "slide_type": "fragment"
    }
   },
   "outputs": [
    {
     "name": "stdout",
     "output_type": "stream",
     "text": [
      "arm=998M\n"
     ]
    }
   ],
   "source": [
    "sudo vcgencmd get_mem arm"
   ]
  },
  {
   "cell_type": "code",
   "execution_count": 9,
   "metadata": {
    "slideshow": {
     "slide_type": "fragment"
    }
   },
   "outputs": [
    {
     "name": "stdout",
     "output_type": "stream",
     "text": [
      "gpu=16M\n"
     ]
    }
   ],
   "source": [
    "sudo su -c 'vcgencmd get_mem gpu'"
   ]
  },
  {
   "cell_type": "markdown",
   "metadata": {
    "slideshow": {
     "slide_type": "slide"
    }
   },
   "source": [
    "## Konfiguration überprüfen"
   ]
  },
  {
   "cell_type": "code",
   "execution_count": 10,
   "metadata": {
    "slideshow": {
     "slide_type": "subslide"
    }
   },
   "outputs": [
    {
     "name": "stdout",
     "output_type": "stream",
     "text": [
      "arm_freq=1200\n",
      "audio_pwm_mode=1\n",
      "config_hdmi_boost=5\n",
      "core_freq=250\n",
      "desired_osc_freq=0x36ee80\n",
      "disable_commandline_tags=2\n",
      "disable_l2cache=1\n",
      "enable_uart=1\n",
      "force_eeprom_read=1\n",
      "force_pwm_open=1\n",
      "framebuffer_depth=16\n",
      "framebuffer_ignore_alpha=1\n",
      "framebuffer_swap=1\n",
      "gpu_freq=300\n",
      "hdmi_force_cec_address=65535\n",
      "init_uart_clock=0x2dc6c00\n",
      "lcd_framerate=60\n",
      "over_voltage_avs=31250\n",
      "over_voltage_avs_boost=31250\n",
      "overscan_bottom=32\n",
      "overscan_left=32\n",
      "overscan_right=32\n",
      "overscan_top=32\n",
      "pause_burst_frames=1\n",
      "program_serial_random=1\n",
      "sdram_freq=450\n",
      "temp_limit=85\n"
     ]
    }
   ],
   "source": [
    "sudo su -c 'vcgencmd get_config int'"
   ]
  },
  {
   "cell_type": "markdown",
   "metadata": {
    "slideshow": {
     "slide_type": "subslide"
    }
   },
   "source": [
    "Es gibt ein paar wenige Konfigurations-Optionen, die ihren Wert als String zurückgeben können. Meist bleibt dieser Aufruf aber leer:"
   ]
  },
  {
   "cell_type": "code",
   "execution_count": 11,
   "metadata": {
    "slideshow": {
     "slide_type": "fragment"
    }
   },
   "outputs": [
    {
     "name": "stdout",
     "output_type": "stream",
     "text": [
      "device_tree=-\n"
     ]
    }
   ],
   "source": [
    "sudo su -c 'vcgencmd get_config str'"
   ]
  },
  {
   "cell_type": "code",
   "execution_count": 12,
   "metadata": {
    "slideshow": {
     "slide_type": "fragment"
    }
   },
   "outputs": [
    {
     "name": "stdout",
     "output_type": "stream",
     "text": [
      "arm_freq=1200\n"
     ]
    }
   ],
   "source": [
    "sudo su -c 'vcgencmd get_config arm_freq'"
   ]
  },
  {
   "cell_type": "markdown",
   "metadata": {
    "slideshow": {
     "slide_type": "slide"
    }
   },
   "source": [
    "## Weitere Links\n",
    "\n",
    "* [Hacks für Raspberry Pi][1]\n",
    "* [HDMI-Ausgang unkompliziert ein- und ausschalten][2]\n",
    "* [Raspberry Pi Betriebstemperatur ermitteln][3]\n",
    "* [vcgencmd - Native Python][4]\n",
    "* [\"vcgencmd measure_temp\" command failing][5]\n",
    "* [vcgencmd - Native nodejs][6]\n",
    "* [Raspberry Pi: vcgencmd nach-installieren][7]\n",
    "* [Raspberry Pi: Systeminformationen ermitteln][8]\n",
    "* [RPI vcgencmd usage][9]\n",
    "\n",
    "[1]: https://www.oreilly.de/buecher/120062/9783955616328-hacks-f%C3%BCr-raspberry-pi.html\n",
    "[2]: https://pi-buch.info/hdmi-ausgang-unkompliziert-ein-und-ausschalten/\n",
    "[3]: https://developer-blog.net/raspberry-pi-betriebstemperatur-ermitteln/\n",
    "[4]: http://nicmcd.github.io/vcgencmd/\n",
    "[5]: https://www.raspberrypi.org/forums/viewtopic.php?f=63&t=34076\n",
    "[6]: https://www.npmjs.com/package/vcgencmd\n",
    "[7]: https://www.elektronik-kompendium.de/sites/raspberry-pi/2006081.htm\n",
    "[8]: https://www.elektronik-kompendium.de/sites/raspberry-pi/2006071.htm\n",
    "[9]: http://www.elinux.org/RPI_vcgencmd_usage"
   ]
  },
  {
   "cell_type": "markdown",
   "metadata": {
    "slideshow": {
     "slide_type": "slide"
    }
   },
   "source": [
    "## Gruppenzugehörigkeit SW-Pakete"
   ]
  },
  {
   "cell_type": "code",
   "execution_count": 13,
   "metadata": {
    "slideshow": {
     "slide_type": "subslide"
    }
   },
   "outputs": [
    {
     "name": "stdout",
     "output_type": "stream",
     "text": [
      "uid=1000(pi) gid=1000(pi) Gruppen=1000(pi),4(adm),20(dialout),27(sudo),33(www-data),44(video),100(users),106(input),998(docker),999(gpio)\n"
     ]
    }
   ],
   "source": [
    "id"
   ]
  },
  {
   "cell_type": "code",
   "execution_count": 16,
   "metadata": {
    "slideshow": {
     "slide_type": "slide"
    }
   },
   "outputs": [
    {
     "name": "stdout",
     "output_type": "stream",
     "text": [
      "Holen:1 http://mirrordirector.raspbian.org/raspbian stretch InRelease [15,0 kB]\n",
      "OK:2 http://archive.raspberrypi.org/debian stretch InRelease                   \u001b[0m33m\n",
      "OK:3 https://download.docker.com/linux/debian stretch InRelease                \n",
      "OK:4 https://deb.nodesource.com/node_6.x stretch InRelease\n",
      "Holen:5 http://mirrordirector.raspbian.org/raspbian stretch/main armhf Packages [11,7 MB]\n",
      "Es wurden 11,7 MB in 17 s geholt (686 kB/s).                                   \u001b[0m\u001b[33m\n",
      "Paketlisten werden gelesen... Fertig\n",
      "Abhängigkeitsbaum wird aufgebaut.       \n",
      "Statusinformationen werden eingelesen.... Fertig\n",
      "Aktualisierung für 4 Pakete verfügbar. Führen Sie »apt list --upgradable« aus, um sie anzuzeigen.\n"
     ]
    }
   ],
   "source": [
    "sudo apt update"
   ]
  },
  {
   "cell_type": "code",
   "execution_count": 17,
   "metadata": {
    "slideshow": {
     "slide_type": "subslide"
    }
   },
   "outputs": [
    {
     "name": "stdout",
     "output_type": "stream",
     "text": [
      "Auflistung... Fertig\n",
      "\u001b[32mcurl\u001b[0m/stable 7.52.1-5+deb9u3 armhf [aktualisierbar von: 7.52.1-5+deb9u2]\n",
      "\u001b[32mlibcurl3\u001b[0m/stable 7.52.1-5+deb9u3 armhf [aktualisierbar von: 7.52.1-5+deb9u2]\n",
      "\u001b[32mlibcurl3-gnutls\u001b[0m/stable 7.52.1-5+deb9u3 armhf [aktualisierbar von: 7.52.1-5+deb9u2]\n",
      "\u001b[32mraspi-gpio\u001b[0m/stable 0.20171123 armhf [aktualisierbar von: 0.20170105]\n"
     ]
    }
   ],
   "source": [
    "apt list --upgradable"
   ]
  },
  {
   "cell_type": "code",
   "execution_count": 20,
   "metadata": {
    "slideshow": {
     "slide_type": "subslide"
    }
   },
   "outputs": [
    {
     "name": "stdout",
     "output_type": "stream",
     "text": [
      "Paketlisten werden gelesen... Fertig\n",
      "Abhängigkeitsbaum wird aufgebaut.       \n",
      "Statusinformationen werden eingelesen.... Fertig\n",
      "Paketaktualisierung (Upgrade) wird berechnet... Fertig\n",
      "Die folgenden Pakete werden aktualisiert (Upgrade):\n",
      "  curl libcurl3 libcurl3-gnutls raspi-gpio\n",
      "4 aktualisiert, 0 neu installiert, 0 zu entfernen und 0 nicht aktualisiert.\n",
      "Es müssen 749 kB an Archiven heruntergeladen werden.\n",
      "Nach dieser Operation werden 20,5 kB Plattenplatz freigegeben.\n",
      "Holen:1 http://archive.raspberrypi.org/debian stretch/main armhf raspi-gpio armhf 0.20171123 [8.968 B]\n",
      "Holen:2 http://mirrordirector.raspbian.org/raspbian stretch/main armhf curl armhf 7.52.1-5+deb9u3 [220 kB]\n",
      "Holen:3 http://mirrordirector.raspbian.org/raspbian stretch/main armhf libcurl3 armhf 7.52.1-5+deb9u3 [261 kB]\n",
      "Holen:4 http://mirrordirector.raspbian.org/raspbian stretch/main armhf libcurl3-gnutls armhf 7.52.1-5+deb9u3 [259 kB]\n",
      "Es wurden 749 kB in 1 s geholt (563 kB/s).[0m\u001b[33m\n",
      "debconf: unable to initialize frontend: Dialog\n",
      "debconf: (Dialog frontend will not work on a dumb terminal, an emacs shell buffer, or without a controlling terminal.)\n",
      "debconf: falling back to frontend: Readline\n",
      "\n",
      "(Lese Datenbank ... 113928 Dateien und Verzeichnisse sind derzeit installiert.)\n",
      "Vorbereitung zum Entpacken von .../curl_7.52.1-5+deb9u3_armhf.deb ...\n",
      "\u001b7\u001b[24;0f\u001b[42m\u001b[30mFortschritt: [  0%]\u001b[49m\u001b[39m [.......................................................] \u001b8\u001b7\u001b[24;0f\u001b[42m\u001b[30mFortschritt: [  4%]\u001b[49m\u001b[39m [##.....................................................] \u001b8Entpacken von curl (7.52.1-5+deb9u3) über (7.52.1-5+deb9u2) ...\n",
      "\u001b7\u001b[24;0f\u001b[42m\u001b[30mFortschritt: [  9%]\u001b[49m\u001b[39m [#####..................................................] \u001b8\u001b7\u001b[24;0f\u001b[42m\u001b[30mFortschritt: [ 14%]\u001b[49m\u001b[39m [#######................................................] \u001b8Vorbereitung zum Entpacken von .../libcurl3_7.52.1-5+deb9u3_armhf.deb ...\n",
      "\u001b7\u001b[24;0f\u001b[42m\u001b[30mFortschritt: [ 19%]\u001b[49m\u001b[39m [##########.............................................] \u001b8Entpacken von libcurl3:armhf (7.52.1-5+deb9u3) über (7.52.1-5+deb9u2) ...\n",
      "\u001b7\u001b[24;0f\u001b[42m\u001b[30mFortschritt: [ 23%]\u001b[49m\u001b[39m [#############..........................................] \u001b8\u001b7\u001b[24;0f\u001b[42m\u001b[30mFortschritt: [ 28%]\u001b[49m\u001b[39m [###############........................................] \u001b8Vorbereitung zum Entpacken von .../libcurl3-gnutls_7.52.1-5+deb9u3_armhf.deb ...\n",
      "\u001b7\u001b[24;0f\u001b[42m\u001b[30mFortschritt: [ 33%]\u001b[49m\u001b[39m [##################.....................................] \u001b8Entpacken von libcurl3-gnutls:armhf (7.52.1-5+deb9u3) über (7.52.1-5+deb9u2) ...\n",
      "\u001b7\u001b[24;0f\u001b[42m\u001b[30mFortschritt: [ 38%]\u001b[49m\u001b[39m [####################...................................] \u001b8\u001b7\u001b[24;0f\u001b[42m\u001b[30mFortschritt: [ 42%]\u001b[49m\u001b[39m [#######################................................] \u001b8Vorbereitung zum Entpacken von .../raspi-gpio_0.20171123_armhf.deb ...\n",
      "\u001b7\u001b[24;0f\u001b[42m\u001b[30mFortschritt: [ 47%]\u001b[49m\u001b[39m [##########################.............................] \u001b8Entpacken von raspi-gpio (0.20171123) über (0.20170105) ...\n",
      "\u001b7\u001b[24;0f\u001b[42m\u001b[30mFortschritt: [ 52%]\u001b[49m\u001b[39m [############################...........................] \u001b8\u001b7\u001b[24;0f\u001b[42m\u001b[30mFortschritt: [ 57%]\u001b[49m\u001b[39m [###############################........................] \u001b8libcurl3:armhf (7.52.1-5+deb9u3) wird eingerichtet ...\n",
      "\u001b7\u001b[24;0f\u001b[42m\u001b[30mFortschritt: [ 61%]\u001b[49m\u001b[39m [##################################.....................] \u001b8\u001b7\u001b[24;0f\u001b[42m\u001b[30mFortschritt: [ 66%]\u001b[49m\u001b[39m [####################################...................] \u001b8libcurl3-gnutls:armhf (7.52.1-5+deb9u3) wird eingerichtet ...\n",
      "\u001b7\u001b[24;0f\u001b[42m\u001b[30mFortschritt: [ 71%]\u001b[49m\u001b[39m [#######################################................] \u001b8\u001b7\u001b[24;0f\u001b[42m\u001b[30mFortschritt: [ 76%]\u001b[49m\u001b[39m [#########################################..............] \u001b8Trigger für libc-bin (2.24-11+deb9u1) werden verarbeitet ...\n",
      "Trigger für man-db (2.7.6.1-2) werden verarbeitet ...\n",
      "raspi-gpio (0.20171123) wird eingerichtet ...\n",
      "\u001b7\u001b[24;0f\u001b[42m\u001b[30mFortschritt: [ 80%]\u001b[49m\u001b[39m [############################################...........] \u001b8\u001b7\u001b[24;0f\u001b[42m\u001b[30mFortschritt: [ 85%]\u001b[49m\u001b[39m [###############################################........] \u001b8curl (7.52.1-5+deb9u3) wird eingerichtet ...\n",
      "\u001b7\u001b[24;0f\u001b[42m\u001b[30mFortschritt: [ 90%]\u001b[49m\u001b[39m [#################################################......] \u001b8\u001b7\u001b[24;0f\u001b[42m\u001b[30mFortschritt: [ 95%]\u001b[49m\u001b[39m [####################################################...] \u001b8\n",
      "\u001b7\u001b[0;24r\u001b8\u001b[1A\u001b[J"
     ]
    }
   ],
   "source": [
    "sudo apt upgrade --yes"
   ]
  },
  {
   "cell_type": "code",
   "execution_count": 15,
   "metadata": {
    "slideshow": {
     "slide_type": "subslide"
    }
   },
   "outputs": [
    {
     "name": "stdout",
     "output_type": "stream",
     "text": [
      "libraspberrypi-bin:\n",
      "  Installiert:           1.20171029-1\n",
      "  Installationskandidat: 1.20171029-1\n",
      "  Versionstabelle:\n",
      " *** 1.20171029-1 600\n",
      "        600 http://archive.raspberrypi.org/debian stretch/main armhf Packages\n",
      "        100 /var/lib/dpkg/status\n",
      "     1.20170427-1~nokernel1 500\n",
      "        500 http://mirrordirector.raspbian.org/raspbian stretch/firmware armhf Packages\n"
     ]
    }
   ],
   "source": [
    "apt policy libraspberrypi-bin"
   ]
  }
 ],
 "metadata": {
  "celltoolbar": "Slideshow",
  "kernelspec": {
   "display_name": "Bash",
   "language": "bash",
   "name": "bash"
  },
  "language_info": {
   "codemirror_mode": "shell",
   "file_extension": ".sh",
   "mimetype": "text/x-sh",
   "name": "bash"
  }
 },
 "nbformat": 4,
 "nbformat_minor": 2
}
