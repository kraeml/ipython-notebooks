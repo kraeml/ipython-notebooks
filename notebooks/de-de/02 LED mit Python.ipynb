{
 "cells": [
  {
   "cell_type": "markdown",
   "metadata": {},
   "source": [
    "# LED mit Python"
   ]
  },
  {
   "cell_type": "code",
   "execution_count": 1,
   "metadata": {
    "collapsed": false,
    "scrolled": true
   },
   "outputs": [
    {
     "name": "stdout",
     "output_type": "stream",
     "text": [
      "Hit http://archive.raspberrypi.org jessie InRelease\n",
      "Get:1 http://mirrordirector.raspbian.org jessie InRelease [14.9 kB]\n",
      "Ign http://giteduberger.fr rpimonitor/ InRelease   \n",
      "Hit http://giteduberger.fr rpimonitor/ Release.gpg \n",
      "Hit http://giteduberger.fr rpimonitor/ Release\n",
      "Hit http://archive.raspberrypi.org jessie/main armhf Packages                  \n",
      "Hit https://apt.dockerproject.org raspbian-jessie InRelease                    \n",
      "Get:2 http://mirrordirector.raspbian.org jessie/main armhf Packages [8,981 kB] \n",
      "Hit http://giteduberger.fr rpimonitor/ Packages                                \n",
      "Hit https://apt.dockerproject.org raspbian-jessie/main armhf Packages          \n",
      "Get:3 https://apt.dockerproject.org raspbian-jessie/main Translation-en_US [454 B]\n",
      "Get:4 https://apt.dockerproject.org raspbian-jessie/main Translation-en [454 B]\n",
      "Get:5 https://apt.dockerproject.org raspbian-jessie/main Translation-en_US [454 B]\n",
      "Get:6 https://apt.dockerproject.org raspbian-jessie/main Translation-en [454 B]\n",
      "Ign http://giteduberger.fr rpimonitor/ Translation-en_US                       \n",
      "Ign http://giteduberger.fr rpimonitor/ Translation-en                          \n",
      "Get:7 https://apt.dockerproject.org raspbian-jessie/main Translation-en_US [454 B]\n",
      "Get:8 https://apt.dockerproject.org raspbian-jessie/main Translation-en [454 B]\n",
      "Ign http://archive.raspberrypi.org jessie/main Translation-en_US               \n",
      "Ign http://archive.raspberrypi.org jessie/main Translation-en                  \n",
      "Get:9 https://apt.dockerproject.org raspbian-jessie/main Translation-en_US [454 B]\n",
      "Get:10 https://apt.dockerproject.org raspbian-jessie/main Translation-en [454 B]\n",
      "Get:11 https://apt.dockerproject.org raspbian-jessie/main Translation-en_US [454 B]\n",
      "Ign https://apt.dockerproject.org raspbian-jessie/main Translation-en_US  \n",
      "Get:12 https://apt.dockerproject.org raspbian-jessie/main Translation-en [454 B]\n",
      "Ign https://apt.dockerproject.org raspbian-jessie/main Translation-en  \n",
      "Get:13 http://mirrordirector.raspbian.org jessie/contrib armhf Packages [37.5 kB]\n",
      "Get:14 http://mirrordirector.raspbian.org jessie/non-free armhf Packages [70.3 kB]\n",
      "Get:15 http://mirrordirector.raspbian.org jessie/firmware armhf Packages [1,232 B]\n",
      "Ign http://mirrordirector.raspbian.org jessie/contrib Translation-en_US        \n",
      "Ign http://mirrordirector.raspbian.org jessie/contrib Translation-en           \n",
      "Ign http://mirrordirector.raspbian.org jessie/firmware Translation-en_US       \n",
      "Ign http://mirrordirector.raspbian.org jessie/firmware Translation-en          \n",
      "Ign http://mirrordirector.raspbian.org jessie/main Translation-en_US           \n",
      "Ign http://mirrordirector.raspbian.org jessie/main Translation-en              \n",
      "Ign http://mirrordirector.raspbian.org jessie/non-free Translation-en_US       \n",
      "Ign http://mirrordirector.raspbian.org jessie/non-free Translation-en          \n",
      "Fetched 9,105 kB in 25s (362 kB/s)                                             \n",
      "Reading package lists... Done\n",
      "Reading package lists... Done\n",
      "Building dependency tree       \n",
      "Reading state information... Done\n",
      "python-dev is already the newest version.\n",
      "0 upgraded, 0 newly installed, 0 to remove and 0 not upgraded.\n",
      "Reading package lists... Done\n",
      "Building dependency tree       \n",
      "Reading state information... Done\n",
      "python-rpi.gpio is already the newest version.\n",
      "0 upgraded, 0 newly installed, 0 to remove and 0 not upgraded.\n"
     ]
    }
   ],
   "source": [
    "!sudo apt-get update\n",
    "!sudo apt-get install python-dev\n",
    "!sudo apt-get install python-rpi.gpio "
   ]
  },
  {
   "cell_type": "code",
   "execution_count": 2,
   "metadata": {
    "collapsed": true
   },
   "outputs": [],
   "source": [
    "import time\n",
    "import RPi.GPIO as GPIO"
   ]
  },
  {
   "cell_type": "markdown",
   "metadata": {},
   "source": [
    "Setzen der Briadcom-GPIO Nummer"
   ]
  },
  {
   "cell_type": "code",
   "execution_count": 3,
   "metadata": {
    "collapsed": true
   },
   "outputs": [],
   "source": [
    "GPIO.setmode(GPIO.BCM)"
   ]
  },
  {
   "cell_type": "markdown",
   "metadata": {},
   "source": [
    "Pin GPIO 17 (Pin 11) auf Output setzen"
   ]
  },
  {
   "cell_type": "code",
   "execution_count": 8,
   "metadata": {
    "collapsed": false
   },
   "outputs": [],
   "source": [
    "GPIO.setup(17, GPIO.OUT)"
   ]
  },
  {
   "cell_type": "code",
   "execution_count": 9,
   "metadata": {
    "collapsed": true
   },
   "outputs": [],
   "source": [
    "GPIO.output(17, GPIO.LOW)"
   ]
  },
  {
   "cell_type": "code",
   "execution_count": 10,
   "metadata": {
    "collapsed": true,
    "deletable": true,
    "editable": true
   },
   "outputs": [],
   "source": [
    "GPIO.output(17, GPIO.HIGH)"
   ]
  },
  {
   "cell_type": "markdown",
   "metadata": {},
   "source": [
    "Danach immer aufräumen"
   ]
  },
  {
   "cell_type": "code",
   "execution_count": 11,
   "metadata": {
    "collapsed": true
   },
   "outputs": [],
   "source": [
    "GPIO.cleanup()"
   ]
  },
  {
   "cell_type": "markdown",
   "metadata": {},
   "source": [
    "## Software PWM"
   ]
  },
  {
   "cell_type": "code",
   "execution_count": 18,
   "metadata": {
    "collapsed": false
   },
   "outputs": [],
   "source": [
    "GPIO.setmode(GPIO.BCM)\n",
    "GPIO.setup(17, GPIO.OUT)"
   ]
  },
  {
   "cell_type": "code",
   "execution_count": 19,
   "metadata": {
    "collapsed": true
   },
   "outputs": [],
   "source": [
    "pwm = GPIO.PWM(17, 2)"
   ]
  },
  {
   "cell_type": "code",
   "execution_count": 20,
   "metadata": {
    "collapsed": true
   },
   "outputs": [],
   "source": [
    "pwm.start(50)\n",
    "time.sleep(10)\n",
    "pwm.stop()"
   ]
  },
  {
   "cell_type": "code",
   "execution_count": 16,
   "metadata": {
    "collapsed": true
   },
   "outputs": [],
   "source": [
    "GPIO.cleanup()"
   ]
  },
  {
   "cell_type": "markdown",
   "metadata": {},
   "source": [
    "## Versionen herausfinden"
   ]
  },
  {
   "cell_type": "code",
   "execution_count": 21,
   "metadata": {
    "collapsed": false
   },
   "outputs": [
    {
     "name": "stdout",
     "output_type": "stream",
     "text": [
      "RPI.GPIO-Version 0.6.3\n"
     ]
    }
   ],
   "source": [
    "print('RPI.GPIO-Version', GPIO.VERSION)"
   ]
  },
  {
   "cell_type": "code",
   "execution_count": 22,
   "metadata": {
    "collapsed": false,
    "deletable": true,
    "editable": true
   },
   "outputs": [
    {
     "name": "stdout",
     "output_type": "stream",
     "text": [
      "{'REVISION': 'a01041', 'RAM': '1024M', 'MANUFACTURER': 'Sony', 'P1_REVISION': 3, 'TYPE': 'Pi 2 Model B', 'PROCESSOR': 'BCM2836'}\n"
     ]
    }
   ],
   "source": [
    "print(GPIO.RPI_INFO)"
   ]
  },
  {
   "cell_type": "code",
   "execution_count": 24,
   "metadata": {
    "collapsed": false
   },
   "outputs": [
    {
     "name": "stdout",
     "output_type": "stream",
     "text": [
      "Pi 2 Model B\n"
     ]
    }
   ],
   "source": [
    "print(GPIO.RPI_INFO['TYPE'])"
   ]
  }
 ],
 "metadata": {
  "kernelspec": {
   "display_name": "Python 3",
   "language": "python",
   "name": "python3"
  },
  "language_info": {
   "codemirror_mode": {
    "name": "ipython",
    "version": 3
   },
   "file_extension": ".py",
   "mimetype": "text/x-python",
   "name": "python",
   "nbconvert_exporter": "python",
   "pygments_lexer": "ipython3",
   "version": "3.4.2"
  }
 },
 "nbformat": 4,
 "nbformat_minor": 2
}
