{
 "cells": [
  {
   "cell_type": "markdown",
   "metadata": {},
   "source": [
    "# Raspberry Systeminformationen\n",
    "\n",
    "Link: https://www.elektronik-kompendium.de/sites/raspberry-pi/2006071.htm"
   ]
  },
  {
   "cell_type": "code",
   "execution_count": 1,
   "metadata": {
    "collapsed": false
   },
   "outputs": [
    {
     "name": "stdout",
     "output_type": "stream",
     "text": [
      "Raspberry Pi 2 Model B Rev 1.1\u0000"
     ]
    }
   ],
   "source": [
    "cat /sys/firmware/devicetree/base/model"
   ]
  },
  {
   "cell_type": "code",
   "execution_count": 3,
   "metadata": {
    "collapsed": false
   },
   "outputs": [
    {
     "name": "stdout",
     "output_type": "stream",
     "text": [
      "dma.dmachans=0x7f35 bcm2708_fb.fbwidth=656 bcm2708_fb.fbheight=416 bcm2709.boardrev=0xa01041 bcm2709.serial=0xe96e4dfe smsc95xx.macaddr=B8:27:EB:6E:4D:FE bcm2708_fb.fbswap=1 bcm2709.uart_clock=48000000 bcm2709.disk_led_gpio=47 bcm2709.disk_led_active_low=0 vc_mem.mem_base=0x3dc00000 vc_mem.mem_size=0x3f000000  dwc_otg.lpm_enable=0 console=ttyAMA0,115200 console=tty1 elevator=deadline fsck.repair=yes net.ifnames=0 root=/dev/sda1 rootfstype=ext4 rootwait loglevel=3\n"
     ]
    }
   ],
   "source": [
    "cat /proc/cmdline"
   ]
  },
  {
   "cell_type": "code",
   "execution_count": 2,
   "metadata": {
    "collapsed": false
   },
   "outputs": [
    {
     "name": "stdout",
     "output_type": "stream",
     "text": [
      "0xa01041\n"
     ]
    }
   ],
   "source": [
    "cat /proc/cmdline | awk -v RS=\" \" -F= '/boardrev/ { print $2 }'"
   ]
  },
  {
   "cell_type": "code",
   "execution_count": 6,
   "metadata": {
    "collapsed": false
   },
   "outputs": [
    {
     "name": "stdout",
     "output_type": "stream",
     "text": [
      "{MPG2}=disabled\n"
     ]
    }
   ],
   "source": [
    "vcgencmd codec_enabled {MPG2}"
   ]
  },
  {
   "cell_type": "code",
   "execution_count": 12,
   "metadata": {
    "collapsed": false
   },
   "outputs": [
    {
     "name": "stdout",
     "output_type": "stream",
     "text": [
      "Reading package lists... Done\n",
      "Building dependency tree       \n",
      "Reading state information... Done\n",
      "lshw is already the newest version.\n",
      "0 upgraded, 0 newly installed, 0 to remove and 0 not upgraded.\n"
     ]
    }
   ],
   "source": [
    "sudo apt-get install -y lshw"
   ]
  },
  {
   "cell_type": "code",
   "execution_count": 14,
   "metadata": {
    "collapsed": false,
    "scrolled": false
   },
   "outputs": [
    {
     "name": "stdout",
     "output_type": "stream",
     "text": [
      "pi-sense                  \n",
      "    description: Computer\n",
      "    product: Raspberry Pi 2 Model B Rev 1.1\n",
      "    serial: 00000000e96e4dfe\n",
      "    width: 32 bits\n",
      "  *-core\n",
      "       description: Motherboard\n",
      "       physical id: 0\n",
      "       capabilities: brcm_bcm2709\n",
      "     *-cpu:0\n",
      "          description: CPU\n",
      "          product: cpu\n",
      "          physical id: 0\n",
      "          bus info: cpu@0\n",
      "          size: 900MHz\n",
      "          capacity: 900MHz\n",
      "          capabilities: cpufreq\n",
      "     *-cpu:1 DISABLED\n",
      "          description: CPU\n",
      "          product: cpu\n",
      "          physical id: 1\n",
      "          bus info: cpu@1\n",
      "          size: 900MHz\n",
      "          capacity: 900MHz\n",
      "          capabilities: cpufreq\n",
      "     *-cpu:2 DISABLED\n",
      "          description: CPU\n",
      "          product: cpu\n",
      "          physical id: 2\n",
      "          bus info: cpu@2\n",
      "          size: 900MHz\n",
      "          capacity: 900MHz\n",
      "          capabilities: cpufreq\n",
      "     *-cpu:3 DISABLED\n",
      "          description: CPU\n",
      "          product: cpu\n",
      "          physical id: 3\n",
      "          bus info: cpu@3\n",
      "          size: 900MHz\n",
      "          capacity: 900MHz\n",
      "          capabilities: cpufreq\n",
      "     *-memory\n",
      "          description: System memory\n",
      "          physical id: 4\n",
      "          size: 862MiB\n",
      "  *-usbhost\n",
      "       product: DWC OTG Controller\n",
      "       vendor: Linux 4.4.48-v7+ dwc_otg_hcd\n",
      "       physical id: 1\n",
      "       bus info: usb@1\n",
      "       logical name: usb1\n",
      "       version: 4.04\n",
      "       capabilities: usb-2.00\n",
      "       configuration: driver=hub slots=1 speed=480Mbit/s\n",
      "     *-usb\n",
      "          description: USB hub\n",
      "          vendor: Standard Microsystems Corp.\n",
      "          physical id: 1\n",
      "          bus info: usb@1:1\n",
      "          version: 2.00\n",
      "          capabilities: usb-2.00\n",
      "          configuration: driver=hub maxpower=2mA slots=5 speed=480Mbit/s\n",
      "        *-usb:0\n",
      "             description: Generic USB device\n",
      "             product: SMSC9512/9514 Fast Ethernet Adapter\n",
      "             vendor: Standard Microsystems Corp.\n",
      "             physical id: 1\n",
      "             bus info: usb@1:1.1\n",
      "             version: 2.00\n",
      "             capabilities: usb-2.00\n",
      "             configuration: driver=smsc95xx maxpower=2mA speed=480Mbit/s\n",
      "        *-usb:1\n",
      "             description: Mass storage device\n",
      "             product: Ultra Fit\n",
      "             vendor: SanDisk\n",
      "             physical id: 4\n",
      "             bus info: usb@1:1.4\n",
      "             logical name: scsi0\n",
      "             version: 1.00\n",
      "             serial: 4C530001160810103432\n",
      "             capabilities: usb-2.10 scsi emulated\n",
      "             configuration: driver=usb-storage maxpower=224mA speed=480Mbit/s\n",
      "           *-disk\n",
      "                description: SCSI Disk\n",
      "                product: Ultra Fit\n",
      "                vendor: SanDisk\n",
      "                physical id: 0.0.0\n",
      "                bus info: scsi@0:0.0.0\n",
      "                logical name: /dev/sda\n",
      "                version: 1.00\n",
      "                serial: 4C530001160810103432\n",
      "                size: 57GiB (62GB)\n",
      "                capabilities: removable\n",
      "                configuration: ansiversion=6 logicalsectorsize=512 sectorsize=512\n",
      "              *-medium\n",
      "                   physical id: 0\n",
      "                   logical name: /dev/sda\n",
      "                   size: 57GiB (62GB)\n",
      "                   capabilities: partitioned partitioned:dos\n",
      "                   configuration: signature=f647d4ea\n",
      "                 *-volume\n",
      "                      description: EXT4 volume\n",
      "                      vendor: Linux\n",
      "                      physical id: 1\n",
      "                      logical name: /dev/sda1\n",
      "                      version: 1.0\n",
      "                      serial: f33198ac-0c18-406a-ab5c-1b5e96ce1690\n",
      "                      size: 57GiB\n",
      "                      capacity: 57GiB\n",
      "                      capabilities: primary journaled extended_attributes large_files huge_files dir_nlink extents ext4 ext2 initialized\n",
      "                      configuration: created=2017-02-04 15:21:31 filesystem=ext4 lastmountpoint=/ modified=1970-01-01 01:00:05 mounted=2017-02-28 16:44:35 state=clean\n",
      "        *-usb:2\n",
      "             description: Wireless interface\n",
      "             product: 802.11n WLAN Adapter\n",
      "             vendor: Realtek\n",
      "             physical id: 5\n",
      "             bus info: usb@1:1.5\n",
      "             logical name: wlan0\n",
      "             version: 2.00\n",
      "             serial: 00e04c000001\n",
      "             capabilities: usb-2.00 ethernet physical wireless\n",
      "             configuration: broadcast=yes driver=rtl8192cu ip=192.168.56.196 maxpower=500mA multicast=yes speed=480Mbit/s wireless=IEEE 802.11bgn\n",
      "  *-network\n",
      "       description: Ethernet interface\n",
      "       physical id: 2\n",
      "       logical name: eth0\n",
      "       serial: b8:27:eb:6e:4d:fe\n",
      "       size: 10Mbit/s\n",
      "       capacity: 100Mbit/s\n",
      "       capabilities: ethernet physical tp mii 10bt 10bt-fd 100bt 100bt-fd autonegotiation\n",
      "       configuration: autonegotiation=on broadcast=yes driver=smsc95xx driverversion=22-Aug-2005 duplex=half firmware=smsc95xx USB 2.0 Ethernet link=no multicast=yes port=MII speed=10Mbit/s\n"
     ]
    }
   ],
   "source": [
    "sudo lshw"
   ]
  },
  {
   "cell_type": "code",
   "execution_count": 15,
   "metadata": {
    "collapsed": false
   },
   "outputs": [
    {
     "name": "stdout",
     "output_type": "stream",
     "text": [
      "\r",
      "\r",
      "DMI\r",
      "\r",
      "   \r",
      "SMP\r",
      "\r",
      "   \r",
      "PA-RISC\r",
      "\r",
      "       \r",
      "device-tree\r",
      "\r",
      "           \r",
      "SPD\r",
      "\r",
      "   \r",
      "memory\r",
      "\r",
      "      \r",
      "/proc/cpuinfo\r",
      "\r",
      "             \r",
      "CPUID\r",
      "\r",
      "     \r",
      "PCI (sysfs)\r",
      "\r",
      "           \r",
      "ISA PnP\r",
      "\r",
      "       \r",
      "PCMCIA\r",
      "\r",
      "      \r",
      "PCMCIA\r",
      "\r",
      "      \r",
      "kernel device tree (sysfs)\r",
      "\r",
      "                          \r",
      "USB\r",
      "\r",
      "   \r",
      "IDE\r",
      "\r",
      "   \r",
      "SCSI\r",
      "\r",
      "    \r",
      "Network interfaces\r",
      "\r",
      "                  \r",
      "Framebuffer devices\r",
      "\r",
      "                   \r",
      "Display\r",
      "\r",
      "       \r",
      "CPUFreq\r",
      "\r",
      "       \r",
      "ABI\r",
      "\r",
      "   \r",
      "\r",
      "    product: Raspberry Pi 2 Model B Rev 1.1\n"
     ]
    }
   ],
   "source": [
    "sudo lshw | grep \"product:\" -m 1"
   ]
  },
  {
   "cell_type": "code",
   "execution_count": 16,
   "metadata": {
    "collapsed": false
   },
   "outputs": [
    {
     "name": "stdout",
     "output_type": "stream",
     "text": [
      "       size: 10Mbit/s     \n",
      "       capacity: 100Mbit/s\n",
      "       capabilities: ethernet physical tp mii 10bt 10bt-fd 100bt 100bt-fd autonegotiation\n",
      "       configuration: autonegotiation=on broadcast=yes driver=smsc95xx driverversion=22-Aug-2005 duplex=half firmware=smsc95xx USB 2.0 Ethernet link=no multicast=yes port=MII speed=10Mbit/s\n"
     ]
    }
   ],
   "source": [
    "sudo lshw | tail -n 9 | grep -iE \"size|capacity|capabilities|speed\""
   ]
  },
  {
   "cell_type": "code",
   "execution_count": 17,
   "metadata": {
    "collapsed": false
   },
   "outputs": [
    {
     "name": "stdout",
     "output_type": "stream",
     "text": [
      "commands=\"vcos, ap_output_control, ap_output_post_processing, vchi_test_init, vchi_test_exit, pm_set_policy, pm_get_status, pm_show_stats, pm_start_logging, pm_stop_logging, version, commands, set_vll_dir, set_backlight, set_logging, get_lcd_info, arbiter, cache_flush, otp_dump, test_result, codec_enabled, get_camera, get_mem, measure_clock, measure_volts, scaling_kernel, scaling_sharpness, get_hvs_asserts, get_throttled, measure_temp, get_config, hdmi_ntsc_freqs, hdmi_adjust_clock, hdmi_status_show, hvs_update_fields, pwm_speedup, force_audio, hdmi_stream_channels, hdmi_channel_map, display_power, read_ring_osc, memtest, dispmanx_list, get_rsts, schmoo, render_bar, disk_notify, inuse_notify, sus_suspend, sus_status, sus_is_enabled, sus_stop_test_thread, egl_platform_switch, mem_validate, mem_oom, mem_reloc_stats, hdmi_cvt, hdmi_timings, file, vctest_memmap, vctest_start, vctest_stop, vctest_set, vctest_get\"\n"
     ]
    }
   ],
   "source": [
    "vcgencmd commands"
   ]
  },
  {
   "cell_type": "code",
   "execution_count": 18,
   "metadata": {
    "collapsed": false
   },
   "outputs": [
    {
     "name": "stdout",
     "output_type": "stream",
     "text": [
      "arm_freq=900\n",
      "audio_pwm_mode=1\n",
      "config_hdmi_boost=5\n",
      "disable_commandline_tags=2\n",
      "disable_l2cache=1\n",
      "enable_uart=1\n",
      "force_eeprom_read=1\n",
      "force_pwm_open=1\n",
      "framebuffer_ignore_alpha=1\n",
      "framebuffer_swap=1\n",
      "hdmi_force_cec_address=65535\n",
      "init_uart_clock=0x2dc6c00\n",
      "lcd_framerate=60\n",
      "over_voltage_avs=0x1b774\n",
      "over_voltage_avs_boost=0x200b2\n",
      "overscan_bottom=32\n",
      "overscan_left=32\n",
      "overscan_right=32\n",
      "overscan_top=32\n",
      "pause_burst_frames=1\n",
      "program_serial_random=1\n",
      "sdram_freq=450\n",
      "temp_limit=85\n"
     ]
    }
   ],
   "source": [
    "vcgencmd get_config int"
   ]
  },
  {
   "cell_type": "code",
   "execution_count": 19,
   "metadata": {
    "collapsed": false
   },
   "outputs": [
    {
     "name": "stdout",
     "output_type": "stream",
     "text": [
      "# For more options and information see\n",
      "# http://www.raspberrypi.org/documentation/configuration/config-txt.md\n",
      "# Some settings may impact device functionality. See link above for details\n",
      "\n",
      "# uncomment if you get no picture on HDMI for a default \"safe\" mode\n",
      "#hdmi_safe=1\n",
      "\n",
      "# uncomment this if your display has a black border of unused pixels visible\n",
      "# and your display can output without overscan\n",
      "#disable_overscan=1\n",
      "\n",
      "# uncomment the following to adjust overscan. Use positive numbers if console\n",
      "# goes off screen, and negative if there is too much border\n",
      "#overscan_left=16\n",
      "#overscan_right=16\n",
      "#overscan_top=16\n",
      "#overscan_bottom=16\n",
      "\n",
      "# uncomment to force a console size. By default it will be display's size minus\n",
      "# overscan.\n",
      "#framebuffer_width=1280\n",
      "#framebuffer_height=720\n",
      "\n",
      "# uncomment if hdmi display is not detected and composite is being output\n",
      "#hdmi_force_hotplug=1\n",
      "\n",
      "# uncomment to force a specific HDMI mode (this will force VGA)\n",
      "#hdmi_group=1\n",
      "#hdmi_mode=1\n",
      "\n",
      "# uncomment to force a HDMI mode rather than DVI. This can make audio work in\n",
      "# DMT (computer monitor) modes\n",
      "#hdmi_drive=2\n",
      "\n",
      "# uncomment to increase signal to HDMI, if you have interference, blanking, or\n",
      "# no display\n",
      "#config_hdmi_boost=4\n",
      "\n",
      "# uncomment for composite PAL\n",
      "#sdtv_mode=2\n",
      "\n",
      "#uncomment to overclock the arm. 700 MHz is the default.\n",
      "#arm_freq=800\n",
      "\n",
      "# Uncomment some or all of these to enable the optional hardware interfaces\n",
      "dtparam=i2c_arm=on\n",
      "#dtparam=i2s=on\n",
      "dtparam=spi=on\n",
      "\n",
      "# Uncomment this to enable the lirc-rpi module\n",
      "#dtoverlay=lirc-rpi\n",
      "\n",
      "# Additional overlays and parameters are documented /boot/overlays/README\n",
      "\n",
      "# Enable audio (loads snd_bcm2835)\n",
      "dtparam=audio=on\n",
      "\n",
      "[pi3]\n",
      "# Enable serial port\n",
      "enable_uart=1\n",
      "\n",
      "[all]\n",
      "# Add other config parameters below this line.\n",
      "start_x=1\n",
      "gpu_mem=128\n"
     ]
    }
   ],
   "source": [
    "cat /boot/config.txt"
   ]
  },
  {
   "cell_type": "code",
   "execution_count": 20,
   "metadata": {
    "collapsed": false
   },
   "outputs": [
    {
     "name": "stdout",
     "output_type": "stream",
     "text": [
      "  PID TTY          TIME CMD\n",
      "11156 pts/4    00:00:00 bash\n",
      "14582 pts/4    00:00:00 ps\n"
     ]
    }
   ],
   "source": [
    "ps"
   ]
  },
  {
   "cell_type": "code",
   "execution_count": 21,
   "metadata": {
    "collapsed": false,
    "scrolled": false
   },
   "outputs": [
    {
     "name": "stdout",
     "output_type": "stream",
     "text": [
      "USER       PID %CPU %MEM    VSZ   RSS TTY      STAT START   TIME COMMAND\n",
      "root         1  0.0  0.4   5460  3868 ?        Ss   Feb28   0:09 /sbin/init\n",
      "root         2  0.0  0.0      0     0 ?        S    Feb28   0:00 [kthreadd]\n",
      "root         3  0.0  0.0      0     0 ?        S    Feb28   0:02 [ksoftirqd/0]\n",
      "root         5  0.0  0.0      0     0 ?        S<   Feb28   0:00 [kworker/0:0H]\n",
      "root         7  0.0  0.0      0     0 ?        R    Feb28   0:10 [rcu_sched]\n",
      "root         8  0.0  0.0      0     0 ?        S    Feb28   0:00 [rcu_bh]\n",
      "root         9  0.0  0.0      0     0 ?        S    Feb28   0:00 [migration/0]\n",
      "root        10  0.0  0.0      0     0 ?        S    Feb28   0:00 [migration/1]\n",
      "root        11  0.0  0.0      0     0 ?        S    Feb28   0:01 [ksoftirqd/1]\n",
      "root        13  0.0  0.0      0     0 ?        S<   Feb28   0:00 [kworker/1:0H]\n",
      "root        14  0.0  0.0      0     0 ?        S    Feb28   0:00 [migration/2]\n",
      "root        15  0.0  0.0      0     0 ?        S    Feb28   0:01 [ksoftirqd/2]\n",
      "root        17  0.0  0.0      0     0 ?        S<   Feb28   0:00 [kworker/2:0H]\n",
      "root        18  0.0  0.0      0     0 ?        S    Feb28   0:00 [migration/3]\n",
      "root        19  0.0  0.0      0     0 ?        S    Feb28   0:00 [ksoftirqd/3]\n",
      "root        21  0.0  0.0      0     0 ?        S<   Feb28   0:00 [kworker/3:0H]\n",
      "root        22  0.0  0.0      0     0 ?        S    Feb28   0:00 [kdevtmpfs]\n",
      "root        23  0.0  0.0      0     0 ?        S<   Feb28   0:00 [netns]\n",
      "root        24  0.0  0.0      0     0 ?        S<   Feb28   0:00 [perf]\n",
      "root        25  0.0  0.0      0     0 ?        S    Feb28   0:00 [khungtaskd]\n",
      "root        26  0.0  0.0      0     0 ?        S<   Feb28   0:00 [writeback]\n",
      "root        27  0.0  0.0      0     0 ?        S<   Feb28   0:00 [crypto]\n",
      "root        28  0.0  0.0      0     0 ?        S<   Feb28   0:00 [bioset]\n",
      "root        29  0.0  0.0      0     0 ?        S<   Feb28   0:00 [kblockd]\n",
      "root        31  0.0  0.0      0     0 ?        S<   Feb28   0:00 [rpciod]\n",
      "root        32  0.0  0.0      0     0 ?        S    Feb28   0:00 [kswapd0]\n",
      "root        33  0.0  0.0      0     0 ?        S<   Feb28   0:00 [vmstat]\n",
      "root        34  0.0  0.0      0     0 ?        S    Feb28   0:00 [fsnotify_mark]\n",
      "root        35  0.0  0.0      0     0 ?        S<   Feb28   0:00 [nfsiod]\n",
      "root        44  0.0  0.0      0     0 ?        S<   Feb28   0:00 [kthrotld]\n",
      "root        45  0.0  0.0      0     0 ?        S<   Feb28   0:00 [bioset]\n",
      "root        46  0.0  0.0      0     0 ?        S<   Feb28   0:00 [bioset]\n",
      "root        47  0.0  0.0      0     0 ?        S<   Feb28   0:00 [bioset]\n",
      "root        48  0.0  0.0      0     0 ?        S<   Feb28   0:00 [bioset]\n",
      "root        49  0.0  0.0      0     0 ?        S<   Feb28   0:00 [bioset]\n",
      "root        50  0.0  0.0      0     0 ?        S<   Feb28   0:00 [bioset]\n",
      "root        51  0.0  0.0      0     0 ?        S<   Feb28   0:00 [bioset]\n",
      "root        52  0.0  0.0      0     0 ?        S<   Feb28   0:00 [bioset]\n",
      "root        53  0.0  0.0      0     0 ?        S<   Feb28   0:00 [bioset]\n",
      "root        54  0.0  0.0      0     0 ?        S<   Feb28   0:00 [bioset]\n",
      "root        55  0.0  0.0      0     0 ?        S<   Feb28   0:00 [bioset]\n",
      "root        56  0.0  0.0      0     0 ?        S<   Feb28   0:00 [bioset]\n",
      "root        57  0.0  0.0      0     0 ?        S<   Feb28   0:00 [bioset]\n",
      "root        58  0.0  0.0      0     0 ?        S<   Feb28   0:00 [bioset]\n",
      "root        59  0.0  0.0      0     0 ?        S<   Feb28   0:00 [bioset]\n",
      "root        60  0.0  0.0      0     0 ?        S<   Feb28   0:00 [bioset]\n",
      "root        61  0.0  0.0      0     0 ?        S<   Feb28   0:00 [bioset]\n",
      "root        62  0.0  0.0      0     0 ?        S<   Feb28   0:00 [bioset]\n",
      "root        63  0.0  0.0      0     0 ?        S<   Feb28   0:00 [bioset]\n",
      "root        64  0.0  0.0      0     0 ?        S<   Feb28   0:00 [bioset]\n",
      "root        65  0.0  0.0      0     0 ?        S<   Feb28   0:00 [bioset]\n",
      "root        66  0.0  0.0      0     0 ?        S<   Feb28   0:00 [bioset]\n",
      "root        67  0.0  0.0      0     0 ?        S<   Feb28   0:00 [bioset]\n",
      "root        68  0.0  0.0      0     0 ?        S<   Feb28   0:00 [bioset]\n",
      "root        69  0.0  0.0      0     0 ?        S<   Feb28   0:00 [VCHIQ-0]\n",
      "root        70  0.0  0.0      0     0 ?        S<   Feb28   0:00 [VCHIQr-0]\n",
      "root        71  0.0  0.0      0     0 ?        S<   Feb28   0:00 [VCHIQs-0]\n",
      "root        72  0.0  0.0      0     0 ?        S<   Feb28   0:00 [iscsi_eh]\n",
      "root        73  0.0  0.0      0     0 ?        S<   Feb28   0:00 [dwc_otg]\n",
      "root        75  0.0  0.0      0     0 ?        S<   Feb28   0:00 [DWC Notificati\n",
      "root        77  0.0  0.0      0     0 ?        S    Feb28   0:00 [VCHIQka-0]\n",
      "root        78  0.0  0.0      0     0 ?        S<   Feb28   0:00 [SMIO]\n",
      "root        79  0.0  0.0      0     0 ?        S<   Feb28   0:00 [deferwq]\n",
      "root        81  0.0  0.0      0     0 ?        S<   Feb28   0:00 [bioset]\n",
      "root        82  0.0  0.0      0     0 ?        S    Feb28   0:00 [mmcqd/0]\n",
      "root        86  0.0  0.0      0     0 ?        S    Feb28   0:00 [scsi_eh_0]\n",
      "root        87  0.0  0.0      0     0 ?        S<   Feb28   0:00 [scsi_tmf_0]\n",
      "root        88  0.0  0.0      0     0 ?        S    Feb28   0:11 [usb-storage]\n",
      "root        89  0.0  0.0      0     0 ?        S<   Feb28   0:00 [bioset]\n",
      "root        91  0.0  0.0      0     0 ?        S    Feb28   0:02 [jbd2/sda1-8]\n",
      "root        92  0.0  0.0      0     0 ?        S<   Feb28   0:00 [ext4-rsv-conve\n",
      "root        94  0.0  0.0      0     0 ?        S<   Feb28   0:00 [ipv6_addrconf]\n",
      "root       108  0.0  0.0      0     0 ?        S<   Feb28   0:00 [kworker/1:1H]\n",
      "root       115  0.0  0.0      0     0 ?        S<   Feb28   0:00 [kworker/3:1H]\n",
      "root       151  0.0  0.4   9540  4328 ?        Ss   Feb28   0:06 /lib/systemd/sy\n",
      "root       155  0.0  0.3  11944  3044 ?        Ss   Feb28   0:00 /lib/systemd/sy\n",
      "root       199  0.0  0.0      0     0 ?        S    Feb28   0:00 [spi0]\n",
      "root       245  0.0  0.0      0     0 ?        S<   Feb28   0:00 [cfg80211]\n",
      "systemd+   358  0.0  0.2  12668  2108 ?        Ssl  Feb28   0:00 /lib/systemd/sy\n",
      "root       434  0.0  0.0      0     0 ?        S    Feb28   0:37 [RTW_CMD_THREAD\n",
      "root       460  0.0  0.4   7864  4384 ?        Ss   Feb28   0:00 /usr/sbin/sshd \n",
      "root       462  0.0  0.2   5576  2520 ?        Ss   Feb28   0:00 /usr/sbin/cron \n",
      "root       466  0.0  0.2   3852  2408 ?        Ss   Feb28   0:00 /lib/systemd/sy\n",
      "avahi      484  0.0  0.2   3876  2472 ?        Ss   Feb28   0:02 avahi-daemon: r\n",
      "message+   490  0.0  0.3   5492  2868 ?        Ss   Feb28   0:00 /usr/bin/dbus-d\n",
      "root       493  0.0  0.1  27600  1220 ?        SLsl Feb28   0:13 /usr/sbin/rngd \n",
      "avahi      521  0.0  0.1   3876  1472 ?        S    Feb28   0:00 avahi-daemon: c\n",
      "root       546  0.0  0.3  32144  2748 ?        Ssl  Feb28   0:01 /usr/sbin/rsysl\n",
      "root       548  0.0  0.4   6700  3780 ?        Ss   Feb28   0:01 /sbin/wpa_suppl\n",
      "root       552  0.8  3.5 910920 31760 ?        Ssl  Feb28   6:21 /usr/bin/docker\n",
      "root       558  0.0  0.0      0     0 ?        S<   Feb28   0:00 [kworker/0:1H]\n",
      "root       589  0.0  0.1   4528  1748 tty1     Ss+  Feb28   0:00 /sbin/agetty --\n",
      "root       590  0.0  0.2   4348  2016 ?        Ss+  Feb28   0:00 /sbin/agetty --\n",
      "root       593  0.4  0.9 887900  8336 ?        Ssl  Feb28   3:49 docker-containe\n",
      "root       602  0.0  1.0  22628  9496 ?        SNs  Feb28   0:00 /usr/bin/perl /\n",
      "pi         616  0.0  1.0  22772  9560 ?        SN   Feb28   0:00 /usr/bin/perl /\n",
      "root       617  0.4  1.1  22748 10108 ?        SN   Feb28   3:25 /usr/bin/perl /\n",
      "root       807  0.0  0.6   8728  6164 ?        Ss   Feb28   0:00 dhclient -v -pf\n",
      "root      1041  0.0  0.7   8728  6432 ?        Ss   Feb28   0:00 dhclient -v -pf\n",
      "ntp       1413  0.0  0.4   5776  3684 ?        Ss   08:30   0:01 /usr/sbin/ntpd \n",
      "pi        1445  0.0  0.3   4976  3264 ?        Ss   08:30   0:00 /lib/systemd/sy\n",
      "pi        1449  0.0  0.1   6816  1284 ?        S    08:30   0:00 (sd-pam)  \n",
      "pi        2739  0.0  0.3   7436  2892 ?        Ss   08:40   0:03 /usr/bin/SCREEN\n",
      "pi        2740  1.7  0.3   6984  2912 pts/1    Ss+  08:40   3:12 htop\n",
      "pi        2741  0.0  0.6   9104  5524 pts/2    Ss   08:40   0:01 bash\n",
      "pi        2903  0.6  4.2  62964 37740 pts/2    Rl+  08:42   1:08 /usr/bin/python\n",
      "pi        4717  0.0  3.0  96276 26644 ?        Ssl  09:10   0:05 /usr/bin/python\n",
      "pi        4740  0.0  0.6   9044  5372 pts/3    Ss+  09:10   0:00 /bin/bash --rcf\n",
      "root      6471  0.0  0.5  12076  5124 ?        Ss   09:38   0:00 sshd: pi [priv]\n",
      "pi        6477  0.0  0.4  12220  3680 ?        S    09:38   0:00 sshd: pi@notty \n",
      "pi        6479  0.0  0.1   2336  1560 ?        Ss   09:38   0:00 /usr/lib/openss\n",
      "root      9888  0.0  0.0      0     0 ?        S    10:37   0:00 [kworker/1:1]\n",
      "pi       10590  0.2  3.2 107048 28696 ?        Ssl  10:47   0:06 /usr/bin/python\n",
      "root     11047  0.0  0.0      0     0 ?        S<   01:43   0:00 [kworker/2:1H]\n",
      "root     11048  0.0  0.0      0     0 ?        S    10:55   0:00 [kworker/3:1]\n",
      "root     11134  0.0  0.0      0     0 ?        S    10:57   0:00 [kworker/2:1]\n",
      "pi       11135  0.2  2.9  96276 26324 ?        Rsl  10:57   0:06 /usr/bin/python\n",
      "pi       11156  0.0  0.6   9044  5364 pts/4    Ss   10:57   0:00 /bin/bash --rcf\n",
      "root     12529  0.0  0.0      0     0 ?        S    11:21   0:00 [kworker/u8:0]\n",
      "root     12557  0.0  0.0      0     0 ?        S    11:21   0:00 [kworker/0:3]\n",
      "pi       12777  0.0  0.5   8924  5108 pts/5    Ss+  11:25   0:00 /bin/bash\n",
      "pi       12783  0.0  0.2   6768  2348 pts/5    S+   11:25   0:00 /usr/bin/screen\n",
      "pi       12789  0.1  0.6   9132  5592 pts/0    Ss+  11:25   0:01 /bin/bash\n",
      "root     12903  0.0  0.0      0     0 ?        S    11:26   0:00 [kworker/u8:2]\n",
      "root     13266  0.0  0.0      0     0 ?        S    11:31   0:00 [kworker/1:2]\n",
      "root     13293  0.0  0.0      0     0 ?        S    11:31   0:00 [kworker/2:0]\n",
      "root     13494  0.0  0.0      0     0 ?        S    11:33   0:00 [kworker/0:0]\n",
      "root     13560  0.0  0.0      0     0 ?        S    11:34   0:00 [kworker/3:0]\n",
      "root     14328  0.0  0.0      0     0 ?        S    11:36   0:00 [kworker/1:0]\n",
      "root     14451  0.0  0.0      0     0 ?        S    11:38   0:00 [kworker/u8:1]\n",
      "root     14508  0.0  0.0      0     0 ?        S    11:39   0:00 [kworker/2:2]\n",
      "root     14531  0.0  0.0      0     0 ?        S    11:39   0:00 [kworker/0:1]\n",
      "pi       14592  0.0  0.2   6436  2088 pts/4    R+   11:40   0:00 ps aux\n"
     ]
    }
   ],
   "source": [
    "ps aux"
   ]
  },
  {
   "cell_type": "code",
   "execution_count": 22,
   "metadata": {
    "collapsed": false,
    "scrolled": false
   },
   "outputs": [
    {
     "name": "stdout",
     "output_type": "stream",
     "text": [
      "USER       PID %CPU %MEM    VSZ   RSS TTY      STAT START   TIME COMMAND\n",
      "root         1  0.0  0.4   5460  3868 ?        Ss   Feb28   0:09 /sbin/init\n",
      "root         2  0.0  0.0      0     0 ?        S    Feb28   0:00 [kthreadd]\n",
      "root         3  0.0  0.0      0     0 ?        S    Feb28   0:02 [ksoftirqd/0]\n",
      "root         5  0.0  0.0      0     0 ?        S<   Feb28   0:00 [kworker/0:0H]\n",
      "root         7  0.0  0.0      0     0 ?        S    Feb28   0:10 [rcu_sched]\n",
      "root         8  0.0  0.0      0     0 ?        S    Feb28   0:00 [rcu_bh]\n",
      "root         9  0.0  0.0      0     0 ?        S    Feb28   0:00 [migration/0]\n",
      "root        10  0.0  0.0      0     0 ?        S    Feb28   0:00 [migration/1]\n",
      "root        11  0.0  0.0      0     0 ?        S    Feb28   0:01 [ksoftirqd/1]\n",
      "root        13  0.0  0.0      0     0 ?        S<   Feb28   0:00 [kworker/1:0H]\n",
      "root        14  0.0  0.0      0     0 ?        S    Feb28   0:00 [migration/2]\n",
      "root        15  0.0  0.0      0     0 ?        S    Feb28   0:01 [ksoftirqd/2]\n",
      "root        17  0.0  0.0      0     0 ?        S<   Feb28   0:00 [kworker/2:0H]\n",
      "root        18  0.0  0.0      0     0 ?        S    Feb28   0:00 [migration/3]\n",
      "root        19  0.0  0.0      0     0 ?        S    Feb28   0:00 [ksoftirqd/3]\n",
      "root        21  0.0  0.0      0     0 ?        S<   Feb28   0:00 [kworker/3:0H]\n",
      "root        22  0.0  0.0      0     0 ?        S    Feb28   0:00 [kdevtmpfs]\n",
      "root        23  0.0  0.0      0     0 ?        S<   Feb28   0:00 [netns]\n",
      "root        24  0.0  0.0      0     0 ?        S<   Feb28   0:00 [perf]\n",
      "root        25  0.0  0.0      0     0 ?        S    Feb28   0:00 [khungtaskd]\n",
      "root        26  0.0  0.0      0     0 ?        S<   Feb28   0:00 [writeback]\n",
      "root        27  0.0  0.0      0     0 ?        S<   Feb28   0:00 [crypto]\n",
      "root        28  0.0  0.0      0     0 ?        S<   Feb28   0:00 [bioset]\n",
      "root        29  0.0  0.0      0     0 ?        S<   Feb28   0:00 [kblockd]\n",
      "root        31  0.0  0.0      0     0 ?        S<   Feb28   0:00 [rpciod]\n",
      "root        32  0.0  0.0      0     0 ?        S    Feb28   0:00 [kswapd0]\n",
      "root        33  0.0  0.0      0     0 ?        S<   Feb28   0:00 [vmstat]\n",
      "root        34  0.0  0.0      0     0 ?        S    Feb28   0:00 [fsnotify_mark]\n",
      "root        35  0.0  0.0      0     0 ?        S<   Feb28   0:00 [nfsiod]\n",
      "root        44  0.0  0.0      0     0 ?        S<   Feb28   0:00 [kthrotld]\n",
      "root        45  0.0  0.0      0     0 ?        S<   Feb28   0:00 [bioset]\n",
      "root        46  0.0  0.0      0     0 ?        S<   Feb28   0:00 [bioset]\n",
      "root        47  0.0  0.0      0     0 ?        S<   Feb28   0:00 [bioset]\n",
      "root        48  0.0  0.0      0     0 ?        S<   Feb28   0:00 [bioset]\n",
      "root        49  0.0  0.0      0     0 ?        S<   Feb28   0:00 [bioset]\n",
      "root        50  0.0  0.0      0     0 ?        S<   Feb28   0:00 [bioset]\n",
      "root        51  0.0  0.0      0     0 ?        S<   Feb28   0:00 [bioset]\n",
      "root        52  0.0  0.0      0     0 ?        S<   Feb28   0:00 [bioset]\n",
      "root        53  0.0  0.0      0     0 ?        S<   Feb28   0:00 [bioset]\n",
      "root        54  0.0  0.0      0     0 ?        S<   Feb28   0:00 [bioset]\n",
      "root        55  0.0  0.0      0     0 ?        S<   Feb28   0:00 [bioset]\n",
      "root        56  0.0  0.0      0     0 ?        S<   Feb28   0:00 [bioset]\n",
      "root        57  0.0  0.0      0     0 ?        S<   Feb28   0:00 [bioset]\n",
      "root        58  0.0  0.0      0     0 ?        S<   Feb28   0:00 [bioset]\n",
      "root        59  0.0  0.0      0     0 ?        S<   Feb28   0:00 [bioset]\n",
      "root        60  0.0  0.0      0     0 ?        S<   Feb28   0:00 [bioset]\n",
      "root        61  0.0  0.0      0     0 ?        S<   Feb28   0:00 [bioset]\n",
      "root        62  0.0  0.0      0     0 ?        S<   Feb28   0:00 [bioset]\n",
      "root        63  0.0  0.0      0     0 ?        S<   Feb28   0:00 [bioset]\n",
      "root        64  0.0  0.0      0     0 ?        S<   Feb28   0:00 [bioset]\n",
      "root        65  0.0  0.0      0     0 ?        S<   Feb28   0:00 [bioset]\n",
      "root        66  0.0  0.0      0     0 ?        S<   Feb28   0:00 [bioset]\n",
      "root        67  0.0  0.0      0     0 ?        S<   Feb28   0:00 [bioset]\n",
      "root        68  0.0  0.0      0     0 ?        S<   Feb28   0:00 [bioset]\n",
      "root        69  0.0  0.0      0     0 ?        S<   Feb28   0:00 [VCHIQ-0]\n",
      "root        70  0.0  0.0      0     0 ?        S<   Feb28   0:00 [VCHIQr-0]\n",
      "root        71  0.0  0.0      0     0 ?        S<   Feb28   0:00 [VCHIQs-0]\n",
      "root        72  0.0  0.0      0     0 ?        S<   Feb28   0:00 [iscsi_eh]\n",
      "root        73  0.0  0.0      0     0 ?        S<   Feb28   0:00 [dwc_otg]\n",
      "root        75  0.0  0.0      0     0 ?        S<   Feb28   0:00 [DWC Notificatio]\n",
      "root        77  0.0  0.0      0     0 ?        S    Feb28   0:00 [VCHIQka-0]\n",
      "root        78  0.0  0.0      0     0 ?        S<   Feb28   0:00 [SMIO]\n",
      "root        79  0.0  0.0      0     0 ?        S<   Feb28   0:00 [deferwq]\n",
      "root        81  0.0  0.0      0     0 ?        S<   Feb28   0:00 [bioset]\n",
      "root        82  0.0  0.0      0     0 ?        S    Feb28   0:00 [mmcqd/0]\n",
      "root        86  0.0  0.0      0     0 ?        S    Feb28   0:00 [scsi_eh_0]\n",
      "root        87  0.0  0.0      0     0 ?        S<   Feb28   0:00 [scsi_tmf_0]\n",
      "root        88  0.0  0.0      0     0 ?        S    Feb28   0:11 [usb-storage]\n",
      "root        89  0.0  0.0      0     0 ?        S<   Feb28   0:00 [bioset]\n",
      "root        91  0.0  0.0      0     0 ?        S    Feb28   0:02 [jbd2/sda1-8]\n",
      "root        92  0.0  0.0      0     0 ?        S<   Feb28   0:00 [ext4-rsv-conver]\n",
      "root        94  0.0  0.0      0     0 ?        S<   Feb28   0:00 [ipv6_addrconf]\n",
      "root       108  0.0  0.0      0     0 ?        S<   Feb28   0:00 [kworker/1:1H]\n",
      "root       115  0.0  0.0      0     0 ?        S<   Feb28   0:00 [kworker/3:1H]\n",
      "root       151  0.0  0.4   9540  4328 ?        Ss   Feb28   0:06 /lib/systemd/systemd-journald\n",
      "root       155  0.0  0.3  11944  3044 ?        Ss   Feb28   0:00 /lib/systemd/systemd-udevd\n",
      "root       199  0.0  0.0      0     0 ?        S    Feb28   0:00 [spi0]\n",
      "root       245  0.0  0.0      0     0 ?        S<   Feb28   0:00 [cfg80211]\n",
      "systemd+   358  0.0  0.2  12668  2108 ?        Ssl  Feb28   0:00 /lib/systemd/systemd-timesyncd\n",
      "root       434  0.0  0.0      0     0 ?        S    Feb28   0:37 [RTW_CMD_THREAD]\n",
      "root       460  0.0  0.4   7864  4384 ?        Ss   Feb28   0:00 /usr/sbin/sshd -D\n",
      "root       462  0.0  0.2   5576  2520 ?        Ss   Feb28   0:00 /usr/sbin/cron -f\n",
      "root       466  0.0  0.2   3852  2408 ?        Ss   Feb28   0:00 /lib/systemd/systemd-logind\n",
      "avahi      484  0.0  0.2   3876  2472 ?        Ss   Feb28   0:02 avahi-daemon: running [pi-sense.local]\n",
      "message+   490  0.0  0.3   5492  2868 ?        Ss   Feb28   0:00 /usr/bin/dbus-daemon --system --address=systemd: --nofork --nopidfi\n",
      "root       493  0.0  0.1  27600  1220 ?        SLsl Feb28   0:13 /usr/sbin/rngd -r /dev/hwrng\n",
      "avahi      521  0.0  0.1   3876  1472 ?        S    Feb28   0:00 avahi-daemon: chroot helper\n",
      "root       546  0.0  0.3  32144  2748 ?        Ssl  Feb28   0:01 /usr/sbin/rsyslogd -n\n",
      "root       548  0.0  0.4   6700  3780 ?        Ss   Feb28   0:01 /sbin/wpa_supplicant -s -B -P /run/wpa_supplicant.wlan0.pid -i wlan\n",
      "root       552  0.8  3.5 910920 31760 ?        Ssl  Feb28   6:21 /usr/bin/dockerd -H fd://\n",
      "root       558  0.0  0.0      0     0 ?        S<   Feb28   0:00 [kworker/0:1H]\n",
      "root       589  0.0  0.1   4528  1748 tty1     Ss+  Feb28   0:00 /sbin/agetty --noclear tty1 linux\n",
      "root       590  0.0  0.2   4348  2016 ?        Ss+  Feb28   0:00 /sbin/agetty --keep-baud 115200 38400 9600 ttyAMA0 vt102\n",
      "root       593  0.4  0.9 887900  8336 ?        Ssl  Feb28   3:49 docker-containerd -l unix:///var/run/docker/libcontainerd/docker-co\n",
      "root       602  0.0  1.0  22628  9496 ?        SNs  Feb28   0:00 /usr/bin/perl /usr/bin/rpimonitord -b /var/run/rpimonitord.pid -l /\n",
      "pi         616  0.0  1.0  22772  9560 ?        SN   Feb28   0:00 /usr/bin/perl /usr/bin/rpimonitord -b /var/run/rpimonitord.pid -l /\n",
      "root       617  0.4  1.1  22748 10108 ?        SN   Feb28   3:25 /usr/bin/perl /usr/bin/rpimonitord -b /var/run/rpimonitord.pid -l /\n",
      "root       807  0.0  0.6   8728  6164 ?        Ss   Feb28   0:00 dhclient -v -pf /run/dhclient.wlan0.pid -lf /var/lib/dhcp/dhclient.\n",
      "root      1041  0.0  0.7   8728  6432 ?        Ss   Feb28   0:00 dhclient -v -pf /run/dhclient.eth0.pid -lf /var/lib/dhcp/dhclient.e\n",
      "ntp       1413  0.0  0.4   5776  3684 ?        Ss   08:30   0:01 /usr/sbin/ntpd -p /var/run/ntpd.pid -g -u 107:113\n",
      "pi        1445  0.0  0.3   4976  3264 ?        Ss   08:30   0:00 /lib/systemd/systemd --user\n",
      "pi        1449  0.0  0.1   6816  1284 ?        S    08:30   0:00 (sd-pam)  \n",
      "pi        2739  0.0  0.3   7436  2892 ?        Ss   08:40   0:03 /usr/bin/SCREEN -S sshscreen -d -R\n",
      "pi        2740  1.7  0.3   6984  2912 pts/1    Ss+  08:40   3:12 htop\n",
      "pi        2741  0.0  0.6   9104  5524 pts/2    Ss   08:40   0:01 bash\n",
      "pi        2903  0.6  4.2  62964 37740 pts/2    Rl+  08:42   1:09 /usr/bin/python3 /usr/local/bin/jupyter-notebook\n",
      "pi        4717  0.0  3.0  96276 26644 ?        Ssl  09:10   0:05 /usr/bin/python -m bash_kernel -f /run/user/1000/jupyter/kernel-b83\n",
      "pi        4740  0.0  0.6   9044  5372 pts/3    Ss+  09:10   0:00 /bin/bash --rcfile /usr/local/lib/python2.7/dist-packages/pexpect/b\n",
      "root      6471  0.0  0.5  12076  5124 ?        Ss   09:38   0:00 sshd: pi [priv]     \n",
      "pi        6477  0.0  0.4  12220  3680 ?        S    09:38   0:00 sshd: pi@notty      \n",
      "pi        6479  0.0  0.1   2336  1560 ?        Ss   09:38   0:00 /usr/lib/openssh/sftp-server\n",
      "root      9888  0.0  0.0      0     0 ?        S    10:37   0:00 [kworker/1:1]\n",
      "pi       10590  0.2  3.2 107048 28696 ?        Ssl  10:47   0:06 /usr/bin/python3 -m ipykernel -f /run/user/1000/jupyter/kernel-4d7c\n",
      "root     11047  0.0  0.0      0     0 ?        S<   01:43   0:00 [kworker/2:1H]\n",
      "root     11048  0.0  0.0      0     0 ?        S    10:55   0:00 [kworker/3:1]\n",
      "root     11134  0.0  0.0      0     0 ?        S    10:57   0:00 [kworker/2:1]\n",
      "pi       11135  0.2  2.9  96276 26432 ?        Rsl  10:57   0:07 /usr/bin/python -m bash_kernel -f /run/user/1000/jupyter/kernel-ac6\n",
      "pi       11156  0.0  0.6   9044  5364 pts/4    Ss   10:57   0:00 /bin/bash --rcfile /usr/local/lib/python2.7/dist-packages/pexpect/b\n",
      "root     12529  0.0  0.0      0     0 ?        S    11:21   0:00 [kworker/u8:0]\n",
      "root     12557  0.0  0.0      0     0 ?        S    11:21   0:00 [kworker/0:3]\n",
      "pi       12777  0.0  0.5   8924  5108 pts/5    Ss+  11:25   0:00 /bin/bash\n",
      "pi       12783  0.0  0.2   6768  2348 pts/5    S+   11:25   0:00 /usr/bin/screen -S sshscreen -d -R\n",
      "pi       12789  0.1  0.6   9132  5592 pts/0    Ss+  11:25   0:01 /bin/bash\n",
      "root     12903  0.0  0.0      0     0 ?        S    11:26   0:00 [kworker/u8:2]\n",
      "root     13266  0.0  0.0      0     0 ?        S    11:31   0:00 [kworker/1:2]\n",
      "root     13293  0.0  0.0      0     0 ?        S    11:31   0:00 [kworker/2:0]\n",
      "root     13494  0.0  0.0      0     0 ?        S    11:33   0:00 [kworker/0:0]\n",
      "root     13560  0.0  0.0      0     0 ?        S    11:34   0:00 [kworker/3:0]\n",
      "root     14328  0.0  0.0      0     0 ?        S    11:36   0:00 [kworker/1:0]\n",
      "root     14451  0.0  0.0      0     0 ?        S    11:38   0:00 [kworker/u8:1]\n",
      "root     14508  0.0  0.0      0     0 ?        S    11:39   0:00 [kworker/2:2]\n",
      "root     14531  0.0  0.0      0     0 ?        S    11:39   0:00 [kworker/0:1]\n",
      "pi       14602  0.0  0.2   6436  2116 pts/4    R+   11:40   0:00 ps auxw\n"
     ]
    }
   ],
   "source": [
    "ps auxw"
   ]
  },
  {
   "cell_type": "code",
   "execution_count": 23,
   "metadata": {
    "collapsed": false,
    "scrolled": false
   },
   "outputs": [
    {
     "name": "stdout",
     "output_type": "stream",
     "text": [
      " PPID   PID  PGID   SID TTY      TPGID STAT   UID   TIME COMMAND\n",
      "    0     2     0     0 ?           -1 S        0   0:00 [kthreadd]\n",
      "    2     3     0     0 ?           -1 S        0   0:02  \\_ [ksoftirqd/0]\n",
      "    2     5     0     0 ?           -1 S<       0   0:00  \\_ [kworker/0:0H]\n",
      "    2     7     0     0 ?           -1 S        0   0:10  \\_ [rcu_sched]\n",
      "    2     8     0     0 ?           -1 S        0   0:00  \\_ [rcu_bh]\n",
      "    2     9     0     0 ?           -1 S        0   0:00  \\_ [migration/0]\n",
      "    2    10     0     0 ?           -1 S        0   0:00  \\_ [migration/1]\n",
      "    2    11     0     0 ?           -1 S        0   0:01  \\_ [ksoftirqd/1]\n",
      "    2    13     0     0 ?           -1 S<       0   0:00  \\_ [kworker/1:0H]\n",
      "    2    14     0     0 ?           -1 S        0   0:00  \\_ [migration/2]\n",
      "    2    15     0     0 ?           -1 S        0   0:01  \\_ [ksoftirqd/2]\n",
      "    2    17     0     0 ?           -1 S<       0   0:00  \\_ [kworker/2:0H]\n",
      "    2    18     0     0 ?           -1 S        0   0:00  \\_ [migration/3]\n",
      "    2    19     0     0 ?           -1 S        0   0:00  \\_ [ksoftirqd/3]\n",
      "    2    21     0     0 ?           -1 S<       0   0:00  \\_ [kworker/3:0H]\n",
      "    2    22     0     0 ?           -1 S        0   0:00  \\_ [kdevtmpfs]\n",
      "    2    23     0     0 ?           -1 S<       0   0:00  \\_ [netns]\n",
      "    2    24     0     0 ?           -1 S<       0   0:00  \\_ [perf]\n",
      "    2    25     0     0 ?           -1 S        0   0:00  \\_ [khungtaskd]\n",
      "    2    26     0     0 ?           -1 S<       0   0:00  \\_ [writeback]\n",
      "    2    27     0     0 ?           -1 S<       0   0:00  \\_ [crypto]\n",
      "    2    28     0     0 ?           -1 S<       0   0:00  \\_ [bioset]\n",
      "    2    29     0     0 ?           -1 S<       0   0:00  \\_ [kblockd]\n",
      "    2    31     0     0 ?           -1 S<       0   0:00  \\_ [rpciod]\n",
      "    2    32     0     0 ?           -1 S        0   0:00  \\_ [kswapd0]\n",
      "    2    33     0     0 ?           -1 S<       0   0:00  \\_ [vmstat]\n",
      "    2    34     0     0 ?           -1 S        0   0:00  \\_ [fsnotify_mark]\n",
      "    2    35     0     0 ?           -1 S<       0   0:00  \\_ [nfsiod]\n",
      "    2    44     0     0 ?           -1 S<       0   0:00  \\_ [kthrotld]\n",
      "    2    45     0     0 ?           -1 S<       0   0:00  \\_ [bioset]\n",
      "    2    46     0     0 ?           -1 S<       0   0:00  \\_ [bioset]\n",
      "    2    47     0     0 ?           -1 S<       0   0:00  \\_ [bioset]\n",
      "    2    48     0     0 ?           -1 S<       0   0:00  \\_ [bioset]\n",
      "    2    49     0     0 ?           -1 S<       0   0:00  \\_ [bioset]\n",
      "    2    50     0     0 ?           -1 S<       0   0:00  \\_ [bioset]\n",
      "    2    51     0     0 ?           -1 S<       0   0:00  \\_ [bioset]\n",
      "    2    52     0     0 ?           -1 S<       0   0:00  \\_ [bioset]\n",
      "    2    53     0     0 ?           -1 S<       0   0:00  \\_ [bioset]\n",
      "    2    54     0     0 ?           -1 S<       0   0:00  \\_ [bioset]\n",
      "    2    55     0     0 ?           -1 S<       0   0:00  \\_ [bioset]\n",
      "    2    56     0     0 ?           -1 S<       0   0:00  \\_ [bioset]\n",
      "    2    57     0     0 ?           -1 S<       0   0:00  \\_ [bioset]\n",
      "    2    58     0     0 ?           -1 S<       0   0:00  \\_ [bioset]\n",
      "    2    59     0     0 ?           -1 S<       0   0:00  \\_ [bioset]\n",
      "    2    60     0     0 ?           -1 S<       0   0:00  \\_ [bioset]\n",
      "    2    61     0     0 ?           -1 S<       0   0:00  \\_ [bioset]\n",
      "    2    62     0     0 ?           -1 S<       0   0:00  \\_ [bioset]\n",
      "    2    63     0     0 ?           -1 S<       0   0:00  \\_ [bioset]\n",
      "    2    64     0     0 ?           -1 S<       0   0:00  \\_ [bioset]\n",
      "    2    65     0     0 ?           -1 S<       0   0:00  \\_ [bioset]\n",
      "    2    66     0     0 ?           -1 S<       0   0:00  \\_ [bioset]\n",
      "    2    67     0     0 ?           -1 S<       0   0:00  \\_ [bioset]\n",
      "    2    68     0     0 ?           -1 S<       0   0:00  \\_ [bioset]\n",
      "    2    69     0     0 ?           -1 S<       0   0:00  \\_ [VCHIQ-0]\n",
      "    2    70     0     0 ?           -1 S<       0   0:00  \\_ [VCHIQr-0]\n",
      "    2    71     0     0 ?           -1 S<       0   0:00  \\_ [VCHIQs-0]\n",
      "    2    72     0     0 ?           -1 S<       0   0:00  \\_ [iscsi_eh]\n",
      "    2    73     0     0 ?           -1 S<       0   0:00  \\_ [dwc_otg]\n",
      "    2    75     0     0 ?           -1 S<       0   0:00  \\_ [DWC Notificatio]\n",
      "    2    77     0     0 ?           -1 S        0   0:00  \\_ [VCHIQka-0]\n",
      "    2    78     0     0 ?           -1 S<       0   0:00  \\_ [SMIO]\n",
      "    2    79     0     0 ?           -1 S<       0   0:00  \\_ [deferwq]\n",
      "    2    81     0     0 ?           -1 S<       0   0:00  \\_ [bioset]\n",
      "    2    82     0     0 ?           -1 S        0   0:00  \\_ [mmcqd/0]\n",
      "    2    86     0     0 ?           -1 S        0   0:00  \\_ [scsi_eh_0]\n",
      "    2    87     0     0 ?           -1 S<       0   0:00  \\_ [scsi_tmf_0]\n",
      "    2    88     0     0 ?           -1 S        0   0:11  \\_ [usb-storage]\n",
      "    2    89     0     0 ?           -1 S<       0   0:00  \\_ [bioset]\n",
      "    2    91     0     0 ?           -1 S        0   0:02  \\_ [jbd2/sda1-8]\n",
      "    2    92     0     0 ?           -1 S<       0   0:00  \\_ [ext4-rsv-conver]\n",
      "    2    94     0     0 ?           -1 S<       0   0:00  \\_ [ipv6_addrconf]\n",
      "    2   108     0     0 ?           -1 S<       0   0:00  \\_ [kworker/1:1H]\n",
      "    2   115     0     0 ?           -1 S<       0   0:00  \\_ [kworker/3:1H]\n",
      "    2   199     0     0 ?           -1 S        0   0:00  \\_ [spi0]\n",
      "    2   245     0     0 ?           -1 S<       0   0:00  \\_ [cfg80211]\n",
      "    2   434     0     0 ?           -1 S        0   0:37  \\_ [RTW_CMD_THREAD]\n",
      "    2   558     0     0 ?           -1 S<       0   0:00  \\_ [kworker/0:1H]\n",
      "    2 11047     0     0 ?           -1 S<       0   0:00  \\_ [kworker/2:1H]\n",
      "    2  9888     0     0 ?           -1 S        0   0:00  \\_ [kworker/1:1]\n",
      "    2 11048     0     0 ?           -1 S        0   0:00  \\_ [kworker/3:1]\n",
      "    2 11134     0     0 ?           -1 S        0   0:00  \\_ [kworker/2:1]\n",
      "    2 12529     0     0 ?           -1 S        0   0:00  \\_ [kworker/u8:0]\n",
      "    2 12557     0     0 ?           -1 S        0   0:00  \\_ [kworker/0:3]\n",
      "    2 12903     0     0 ?           -1 S        0   0:00  \\_ [kworker/u8:2]\n",
      "    2 13266     0     0 ?           -1 S        0   0:00  \\_ [kworker/1:2]\n",
      "    2 13293     0     0 ?           -1 S        0   0:00  \\_ [kworker/2:0]\n",
      "    2 13494     0     0 ?           -1 S        0   0:00  \\_ [kworker/0:0]\n",
      "    2 13560     0     0 ?           -1 S        0   0:00  \\_ [kworker/3:0]\n",
      "    2 14328     0     0 ?           -1 S        0   0:00  \\_ [kworker/1:0]\n",
      "    2 14451     0     0 ?           -1 S        0   0:00  \\_ [kworker/u8:1]\n",
      "    2 14508     0     0 ?           -1 S        0   0:00  \\_ [kworker/2:2]\n",
      "    2 14531     0     0 ?           -1 S        0   0:00  \\_ [kworker/0:1]\n",
      "    2 14603     0     0 ?           -1 S        0   0:00  \\_ [kworker/3:2]\n",
      "    0     1     1     1 ?           -1 Ss       0   0:09 /sbin/init\n",
      "    1   151   151   151 ?           -1 Ss       0   0:06 /lib/systemd/systemd-jo\n",
      "    1   155   155   155 ?           -1 Ss       0   0:00 /lib/systemd/systemd-ud\n",
      "    1   358   358   358 ?           -1 Ssl    100   0:00 /lib/systemd/systemd-ti\n",
      "    1   460   460   460 ?           -1 Ss       0   0:00 /usr/sbin/sshd -D\n",
      "  460  6471  6471  6471 ?           -1 Ss       0   0:00  \\_ sshd: pi [priv]    \n",
      " 6471  6477  6471  6471 ?           -1 S     1000   0:00      \\_ sshd: pi@notty \n",
      " 6477  6479  6479  6479 ?           -1 Ss    1000   0:00          \\_ /usr/lib/op\n",
      "    1   462   462   462 ?           -1 Ss       0   0:00 /usr/sbin/cron -f\n",
      "    1   466   466   466 ?           -1 Ss       0   0:00 /lib/systemd/systemd-lo\n",
      "    1   484   484   484 ?           -1 Ss     106   0:02 avahi-daemon: running [\n",
      "  484   521   484   484 ?           -1 S      106   0:00  \\_ avahi-daemon: chroo\n",
      "    1   490   490   490 ?           -1 Ss     104   0:00 /usr/bin/dbus-daemon --\n",
      "    1   493   493   493 ?           -1 SLsl     0   0:13 /usr/sbin/rngd -r /dev/\n",
      "    1   546   546   546 ?           -1 Ssl      0   0:01 /usr/sbin/rsyslogd -n\n",
      "    1   548   548   548 ?           -1 Ss       0   0:01 /sbin/wpa_supplicant -s\n",
      "    1   552   552   552 ?           -1 Ssl      0   6:21 /usr/bin/dockerd -H fd:\n",
      "  552   593   593   593 ?           -1 Ssl      0   3:49  \\_ docker-containerd -\n",
      "    1   589   589   589 tty1       589 Ss+      0   0:00 /sbin/agetty --noclear \n",
      "    1   590   590   590 ?          590 Ss+      0   0:00 /sbin/agetty --keep-bau\n",
      "    1   602   602   602 ?           -1 SNs      0   0:00 /usr/bin/perl /usr/bin/\n",
      "  602   616   602   602 ?           -1 SN    1000   0:00  \\_ /usr/bin/perl /usr/\n",
      "  602   617   602   602 ?           -1 SN       0   3:25  \\_ /usr/bin/perl /usr/\n",
      "    1   807   807   807 ?           -1 Ss       0   0:00 dhclient -v -pf /run/dh\n",
      "    1  1041  1041  1041 ?           -1 Ss       0   0:00 dhclient -v -pf /run/dh\n",
      "    1  1413  1413  1413 ?           -1 Ss     107   0:01 /usr/sbin/ntpd -p /var/\n",
      "    1  1445  1445  1445 ?           -1 Ss    1000   0:00 /lib/systemd/systemd --\n",
      " 1445  1449  1445  1445 ?           -1 S     1000   0:00  \\_ (sd-pam)  \n",
      "    1  2739  2739  2739 ?           -1 Ss    1000   0:03 /usr/bin/SCREEN -S sshs\n",
      " 2739  2740  2740  2740 pts/1     2740 Ss+   1000   3:12  \\_ htop\n",
      " 2739  2741  2741  2741 pts/2     2903 Ss    1000   0:01  \\_ bash\n",
      " 2741  2903  2903  2741 pts/2     2903 Sl+   1000   1:10  |   \\_ /usr/bin/python\n",
      " 2903  4717  4717  4717 ?           -1 Ssl   1000   0:05  |       \\_ /usr/bin/py\n",
      " 4717  4740  4740  4740 pts/3     4740 Ss+   1000   0:00  |       |   \\_ /bin/ba\n",
      " 2903 10590 10590 10590 ?           -1 Ssl   1000   0:06  |       \\_ /usr/bin/py\n",
      " 2903 11135 11135 11135 ?           -1 Ssl   1000   0:08  |       \\_ /usr/bin/py\n",
      "11135 11156 11156 11156 pts/4    14622 Ss    1000   0:00  |       |   \\_ /bin/ba\n",
      "11156 14622 14622 11156 pts/4    14622 R+    1000   0:00  |       |       \\_ ps \n",
      " 2903 12777 12777 12777 pts/5    12777 Ss+   1000   0:00  |       \\_ /bin/bash\n",
      "12777 12783 12777 12777 pts/5    12777 S+    1000   0:00  |           \\_ /usr/bi\n",
      " 2739 12789 12789 12789 pts/0    12789 Ss+   1000   0:01  \\_ /bin/bash\n"
     ]
    }
   ],
   "source": [
    "ps axjf"
   ]
  },
  {
   "cell_type": "code",
   "execution_count": 24,
   "metadata": {
    "collapsed": false
   },
   "outputs": [
    {
     "name": "stdout",
     "output_type": "stream",
     "text": [
      "bash: pstree: command not found\n"
     ]
    },
    {
     "ename": "",
     "evalue": "127",
     "output_type": "error",
     "traceback": []
    }
   ],
   "source": [
    "pstree"
   ]
  },
  {
   "cell_type": "code",
   "execution_count": 26,
   "metadata": {
    "collapsed": false
   },
   "outputs": [
    {
     "name": "stdout",
     "output_type": "stream",
     "text": [
      "Reading package lists... Done\n",
      "Building dependency tree       \n",
      "Reading state information... Done\n",
      "E: Unable to locate package pstree\n"
     ]
    },
    {
     "ename": "",
     "evalue": "100",
     "output_type": "error",
     "traceback": []
    }
   ],
   "source": [
    "sudo apt-get install -y pstree"
   ]
  },
  {
   "cell_type": "code",
   "execution_count": 28,
   "metadata": {
    "collapsed": false
   },
   "outputs": [
    {
     "name": "stdout",
     "output_type": "stream",
     "text": [
      "psmisc - utilities that use the proc file system\n"
     ]
    }
   ],
   "source": [
    "sudo apt-cache search pstree"
   ]
  },
  {
   "cell_type": "code",
   "execution_count": 29,
   "metadata": {
    "collapsed": false
   },
   "outputs": [
    {
     "name": "stdout",
     "output_type": "stream",
     "text": [
      "Reading package lists... Done\n",
      "Building dependency tree       \n",
      "Reading state information... Done\n",
      "The following NEW packages will be installed:\n",
      "  psmisc\n",
      "0 upgraded, 1 newly installed, 0 to remove and 0 not upgraded.\n",
      "Need to get 117 kB of archives.\n",
      "After this operation, 489 kB of additional disk space will be used.\n",
      "Get:1 http://mirrordirector.raspbian.org/raspbian/ jessie/main psmisc armhf 22.21-2 [117 kB]\n",
      "Fetched 117 kB in 10s (11.6 kB/s)\n",
      "Selecting previously unselected package psmisc.\n",
      "(Reading database ... 184168 files and directories currently installed.)\n",
      "Preparing to unpack .../psmisc_22.21-2_armhf.deb ...\n",
      "Unpacking psmisc (22.21-2) ...\n",
      "Processing triggers for man-db (2.7.0.2-5) ...\n",
      "Setting up psmisc (22.21-2) ...\n"
     ]
    }
   ],
   "source": [
    "sudo apt-get install -y psmisc"
   ]
  },
  {
   "cell_type": "code",
   "execution_count": 30,
   "metadata": {
    "collapsed": false
   },
   "outputs": [
    {
     "name": "stdout",
     "output_type": "stream",
     "text": [
      "systemd─┬─2*[agetty]\n",
      "        ├─avahi-daemon───avahi-daemon\n",
      "        ├─cron\n",
      "        ├─dbus-daemon\n",
      "        ├─2*[dhclient]\n",
      "        ├─dockerd─┬─docker-containe───10*[{docker-containe}]\n",
      "        │         └─10*[{dockerd}]\n",
      "        ├─ntpd\n",
      "        ├─rngd───3*[{rngd}]\n",
      "        ├─rpimonitord───2*[rpimonitord]\n",
      "        ├─rsyslogd─┬─{in:imklog}\n",
      "        │          ├─{in:imuxsock}\n",
      "        │          └─{rs:main Q:Reg}\n",
      "        ├─screen─┬─bash───jupyter-noteboo─┬─bash───screen\n",
      "        │        │                        ├─python─┬─bash\n",
      "        │        │                        │        └─7*[{python}]\n",
      "        │        │                        ├─python─┬─bash───pstree\n",
      "        │        │                        │        └─7*[{python}]\n",
      "        │        │                        ├─python3───8*[{python3}]\n",
      "        │        │                        └─2*[{jupyter-noteboo}]\n",
      "        │        ├─bash\n",
      "        │        └─htop\n",
      "        ├─sshd───sshd───sshd───sftp-server\n",
      "        ├─systemd───(sd-pam)\n",
      "        ├─systemd-journal\n",
      "        ├─systemd-logind\n",
      "        ├─systemd-timesyn───{sd-resolve}\n",
      "        ├─systemd-udevd\n",
      "        └─wpa_supplicant\n"
     ]
    }
   ],
   "source": [
    "pstree"
   ]
  }
 ],
 "metadata": {
  "kernelspec": {
   "display_name": "Bash",
   "language": "bash",
   "name": "bash"
  },
  "language_info": {
   "codemirror_mode": "shell",
   "file_extension": ".sh",
   "mimetype": "text/x-sh",
   "name": "bash"
  }
 },
 "nbformat": 4,
 "nbformat_minor": 2
}
