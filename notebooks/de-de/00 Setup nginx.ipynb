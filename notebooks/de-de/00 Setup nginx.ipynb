{
 "cells": [
  {
   "cell_type": "markdown",
   "metadata": {
    "deletable": true,
    "editable": true
   },
   "source": [
    "# Install Nginx\n",
    "\n",
    "Eine Anleitung findet man hier: https://www.raspberrypi.org/documentation/remote-access/web-server/nginx.md\n",
    "\n",
    "Zunächst die Paketdatenbank aktualisieren. Danach das Paket nginx installieren. Die Option `--yes` kann auch durch `-y` ersetzt werden."
   ]
  },
  {
   "cell_type": "code",
   "execution_count": null,
   "metadata": {
    "collapsed": false,
    "deletable": true,
    "editable": true
   },
   "outputs": [],
   "source": [
    "sudo apt-get update\n",
    "sudo apt-get install --yes nginx"
   ]
  },
  {
   "cell_type": "markdown",
   "metadata": {
    "deletable": true,
    "editable": true
   },
   "source": [
    "Nun kann man auf http://pi-sense  (_pi-sense_ durch eigenen Hostname ersetzen) die Nginx Webseite besucht werden."
   ]
  },
  {
   "cell_type": "code",
   "execution_count": null,
   "metadata": {
    "collapsed": false,
    "deletable": true,
    "editable": true
   },
   "outputs": [],
   "source": [
    "cat /var/www/html/index.nginx-debian.html"
   ]
  },
  {
   "cell_type": "code",
   "execution_count": null,
   "metadata": {
    "collapsed": true,
    "deletable": true,
    "editable": true
   },
   "outputs": [],
   "source": [
    "sudo sed -i 's/to nginx/to pi-sense/g' /var/www/html/index.nginx-debian.html"
   ]
  },
  {
   "cell_type": "code",
   "execution_count": null,
   "metadata": {
    "collapsed": true,
    "deletable": true,
    "editable": true
   },
   "outputs": [],
   "source": [
    "sudo sed -i 's/Debian/Respbian/g' /var/www/html/index.nginx-debian.html"
   ]
  },
  {
   "cell_type": "code",
   "execution_count": null,
   "metadata": {
    "collapsed": true,
    "deletable": true,
    "editable": true
   },
   "outputs": [],
   "source": [
    "sudo sed -i 's/debian/respbian/g' /var/www/html/index.nginx-debian.html"
   ]
  },
  {
   "cell_type": "code",
   "execution_count": null,
   "metadata": {
    "collapsed": true,
    "deletable": true,
    "editable": true
   },
   "outputs": [],
   "source": [
    "sudo sed -i 's/respbian.org/debian.org/g' /var/www/html/index.nginx-debian.html"
   ]
  },
  {
   "cell_type": "markdown",
   "metadata": {
    "deletable": true,
    "editable": true
   },
   "source": [
    "## Konfiguration von nginx"
   ]
  },
  {
   "cell_type": "code",
   "execution_count": null,
   "metadata": {
    "collapsed": false,
    "deletable": true,
    "editable": true
   },
   "outputs": [],
   "source": [
    "cat /etc/nginx/nginx.conf"
   ]
  },
  {
   "cell_type": "markdown",
   "metadata": {
    "deletable": true,
    "editable": true
   },
   "source": [
    "Für uns ist zunächst die Zeilen `include /etc/nginx/conf.d/*.conf;` und `include /etc/nginx/sites-enabled/*;` wichtig.\n",
    "\n",
    "Mit `include /etc/nginx/conf.d/*.conf;` werden alle Dateien mit der Endung __.conf__ im Pfad __/etc/nginx/conf.d/__ inkludiert.\n",
    "\n",
    "Mit `include /etc/nginx/sites-enabled/*;` werden alle Dateien aus dem Ordner __/etc/nginx/sites-enabled__ inkludiert."
   ]
  },
  {
   "cell_type": "code",
   "execution_count": null,
   "metadata": {
    "collapsed": false,
    "deletable": true,
    "editable": true
   },
   "outputs": [],
   "source": [
    "ls -lachi /etc/nginx/conf.d"
   ]
  },
  {
   "cell_type": "code",
   "execution_count": null,
   "metadata": {
    "collapsed": false,
    "deletable": true,
    "editable": true
   },
   "outputs": [],
   "source": [
    "ls -lachi /etc/nginx/sites-enabled"
   ]
  },
  {
   "cell_type": "markdown",
   "metadata": {
    "deletable": true,
    "editable": true
   },
   "source": [
    "Hier finden wir einen Link zur Datei `/etc/nginx/sites-available/default`"
   ]
  },
  {
   "cell_type": "code",
   "execution_count": null,
   "metadata": {
    "collapsed": false,
    "deletable": true,
    "editable": true
   },
   "outputs": [],
   "source": [
    "cat -n /etc/nginx/sites-available/default"
   ]
  },
  {
   "cell_type": "markdown",
   "metadata": {
    "deletable": true,
    "editable": true
   },
   "source": [
    "Nach http://serverfault.com/questions/312494/hosting-folder-in-the-home-directory-using-nginx soll folgender Block im Abschnitt server eingefügt werden.\n",
    "\n",
    "```\n",
    "location ~ ^/~(.+?)(/.*)?$ {\n",
    "    alias /home/$1/www$2;\n",
    "    autoindex on;\n",
    "}\n",
    "```\n",
    "\n",
    "Dies können wir mit dem Editor erledigen.\n",
    "\n",
    "### Sed Ausflug\n",
    "\n",
    "Hier das Einfügen mit `sed` und grep.\n",
    "\n",
    "Das Suchen nach der Zeichenkette __#}__\n",
    "\n",
    "__Achtung__ Das Zeichen # muss demaskiert werden"
   ]
  },
  {
   "cell_type": "code",
   "execution_count": null,
   "metadata": {
    "collapsed": false,
    "deletable": true,
    "editable": true
   },
   "outputs": [],
   "source": [
    "grep -n \\#} /etc/nginx/sites-available/default"
   ]
  },
  {
   "cell_type": "markdown",
   "metadata": {
    "deletable": true,
    "editable": true
   },
   "source": [
    "Mit `grep` kann man nach einem Suchstring (RegEx) in einer Datei gesucht werden. Die Option `-n` gibt die Zeilen nummer aus."
   ]
  },
  {
   "cell_type": "code",
   "execution_count": null,
   "metadata": {
    "collapsed": false,
    "deletable": true,
    "editable": true
   },
   "outputs": [],
   "source": [
    "grep -n $'\\t#}' /etc/nginx/sites-available/default"
   ]
  },
  {
   "cell_type": "markdown",
   "metadata": {
    "deletable": true,
    "editable": true
   },
   "source": [
    "Ein Hack um nach Tabulatoren zu suchen. Siehe hier: http://stackoverflow.com/questions/1825552/grep-a-tab-in-unix\n",
    "\n",
    "Das Kommando `sed` ohne die Option `-i` gibt die Datei auf der Konsole aus, ohne diese zu verändern."
   ]
  },
  {
   "cell_type": "code",
   "execution_count": null,
   "metadata": {
    "collapsed": false,
    "deletable": true,
    "editable": true
   },
   "outputs": [],
   "source": [
    "sed 's/\\t#}/foo/' /etc/nginx/sites-available/default"
   ]
  },
  {
   "cell_type": "markdown",
   "metadata": {
    "deletable": true,
    "editable": true
   },
   "source": [
    "Erwischt also alle zwei Vorkommen."
   ]
  },
  {
   "cell_type": "code",
   "execution_count": null,
   "metadata": {
    "collapsed": false,
    "deletable": true,
    "editable": true
   },
   "outputs": [],
   "source": [
    "sudo sed '0,/\\t#}/s/\\t#}/foo/' /etc/nginx/sites-available/default"
   ]
  },
  {
   "cell_type": "markdown",
   "metadata": {
    "deletable": true,
    "editable": true
   },
   "source": [
    "Erwischt erstes Vorkommen (Informatiker zählen ab 0). Siehe hier: http://stackoverflow.com/questions/148451/how-to-use-sed-to-replace-only-the-first-occurrence-in-a-file"
   ]
  },
  {
   "cell_type": "code",
   "execution_count": null,
   "metadata": {
    "collapsed": false,
    "deletable": true,
    "editable": true
   },
   "outputs": [],
   "source": [
    "sudo sed '1,/\\t#}/s/\\t#}/foo/' /etc/nginx/sites-available/default"
   ]
  },
  {
   "cell_type": "code",
   "execution_count": null,
   "metadata": {
    "collapsed": false,
    "deletable": true,
    "editable": true
   },
   "outputs": [],
   "source": [
    "sudo sed '0,/\\t#}/s/\\t#}/\\t#}\\n\\n\\tlocation ~ ^\\/~(.+?)(\\/.*)?$ {\\n\\t\\talias \\/home\\/$1\\/www$2;\\n\\t\\tautoindex on;\\n\\t}/' /etc/nginx/sites-available/default"
   ]
  },
  {
   "cell_type": "code",
   "execution_count": null,
   "metadata": {
    "collapsed": false,
    "deletable": true,
    "editable": true
   },
   "outputs": [],
   "source": [
    "sudo sed -i '0,/\\t#}/s/\\t#}/\\t#}\\n\\n\\tlocation ~ ^\\/~(.+?)(\\/.*)?$ {\\n\\t\\talias \\/home\\/$1\\/www$2;\\n\\t\\tautoindex on;\\n\\t}/' /etc/nginx/sites-available/default"
   ]
  },
  {
   "cell_type": "markdown",
   "metadata": {
    "deletable": true,
    "editable": true
   },
   "source": [
    "Jetzt steht der Block drinnen. :-)\n",
    "\n",
    "## Nginx neu starten"
   ]
  },
  {
   "cell_type": "code",
   "execution_count": null,
   "metadata": {
    "collapsed": true,
    "deletable": true,
    "editable": true
   },
   "outputs": [],
   "source": [
    "sudo service nginx restart"
   ]
  },
  {
   "cell_type": "markdown",
   "metadata": {
    "deletable": true,
    "editable": true
   },
   "source": [
    "Ein Besuch auf http://pi-sense/~pi liefert noch eine 404 Meldung."
   ]
  },
  {
   "cell_type": "code",
   "execution_count": null,
   "metadata": {
    "collapsed": false,
    "deletable": true,
    "editable": true
   },
   "outputs": [],
   "source": [
    "pwd"
   ]
  },
  {
   "cell_type": "code",
   "execution_count": null,
   "metadata": {
    "collapsed": true,
    "deletable": true,
    "editable": true
   },
   "outputs": [],
   "source": [
    "mkdir /home/pi/www"
   ]
  },
  {
   "cell_type": "markdown",
   "metadata": {
    "deletable": true,
    "editable": true
   },
   "source": [
    "Jetzt ist die 404 Meldung weg. Es kann nun eine Webseite erstellt werden."
   ]
  },
  {
   "cell_type": "code",
   "execution_count": null,
   "metadata": {
    "collapsed": true,
    "deletable": true,
    "editable": true
   },
   "outputs": [],
   "source": [
    "cp /var/www/html/index.nginx-debian.html /home/pi/www/index.html"
   ]
  },
  {
   "cell_type": "code",
   "execution_count": null,
   "metadata": {
    "collapsed": true,
    "deletable": true,
    "editable": true
   },
   "outputs": [],
   "source": [
    "sudo sed -i 's/Welcome to pi-sense on Respbian!/Welcome to pi Homepage!/g' /home/pi/www/index.html"
   ]
  },
  {
   "cell_type": "markdown",
   "metadata": {
    "deletable": true,
    "editable": true
   },
   "source": [
    "## PHP und Nginx"
   ]
  },
  {
   "cell_type": "code",
   "execution_count": null,
   "metadata": {
    "collapsed": false,
    "deletable": true,
    "editable": true
   },
   "outputs": [],
   "source": [
    "sudo apt-get install --yes php5-fpm"
   ]
  },
  {
   "cell_type": "code",
   "execution_count": null,
   "metadata": {
    "collapsed": false,
    "deletable": true,
    "editable": true
   },
   "outputs": [],
   "source": [
    "grep -n php /etc/nginx/sites-available/default"
   ]
  },
  {
   "cell_type": "code",
   "execution_count": null,
   "metadata": {
    "collapsed": false
   },
   "outputs": [],
   "source": [
    "sed -n '45,52p' /etc/nginx/sites-available/default"
   ]
  },
  {
   "cell_type": "code",
   "execution_count": null,
   "metadata": {
    "collapsed": false,
    "deletable": true,
    "editable": true
   },
   "outputs": [],
   "source": [
    "sudo sed -i '45,48s/#//' /etc/nginx/sites-available/default"
   ]
  },
  {
   "cell_type": "code",
   "execution_count": null,
   "metadata": {
    "collapsed": false,
    "deletable": true,
    "editable": true
   },
   "outputs": [],
   "source": [
    "sudo sed -i '50,52s/#//' /etc/nginx/sites-available/default"
   ]
  },
  {
   "cell_type": "code",
   "execution_count": null,
   "metadata": {
    "collapsed": false,
    "deletable": true,
    "editable": true
   },
   "outputs": [],
   "source": [
    "sudo sed -i 's/index index.html/index index.php index.html/' /etc/nginx/sites-available/default"
   ]
  },
  {
   "cell_type": "code",
   "execution_count": null,
   "metadata": {
    "collapsed": false,
    "deletable": true,
    "editable": true
   },
   "outputs": [],
   "source": [
    "sudo service nginx restart"
   ]
  },
  {
   "cell_type": "code",
   "execution_count": null,
   "metadata": {
    "collapsed": false,
    "deletable": true,
    "editable": true
   },
   "outputs": [],
   "source": [
    "echo '<?php echo phpinfo(); ?>' | sudo tee /var/www/html/index.php"
   ]
  }
 ],
 "metadata": {
  "kernelspec": {
   "display_name": "Bash",
   "language": "bash",
   "name": "bash"
  },
  "language_info": {
   "codemirror_mode": "shell",
   "file_extension": ".sh",
   "mimetype": "text/x-sh",
   "name": "bash"
  }
 },
 "nbformat": 4,
 "nbformat_minor": 2
}
