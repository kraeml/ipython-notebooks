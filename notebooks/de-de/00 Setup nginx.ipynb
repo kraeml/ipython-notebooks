{
 "cells": [
  {
   "cell_type": "markdown",
   "metadata": {},
   "source": [
    "# Install Nginx\n",
    "\n",
    "Eine Anleitung findet man hier: https://www.raspberrypi.org/documentation/remote-access/web-server/nginx.md\n",
    "\n",
    "Zunächst die Paketdatenbank aktualisieren. Danach das Paket nginx installieren. Die Option `--yes` kann auch durch `-y` ersetzt werden."
   ]
  },
  {
   "cell_type": "code",
   "execution_count": 8,
   "metadata": {},
   "outputs": [
    {
     "name": "stdout",
     "output_type": "stream",
     "text": [
      "Holen:1 http://mirrordirector.raspbian.org/raspbian stretch InRelease [15,0 kB]\n",
      "OK:2 http://archive.raspberrypi.org/debian stretch InRelease\n",
      "OK:3 https://download.docker.com/linux/debian stretch InRelease\n",
      "OK:4 https://deb.nodesource.com/node_6.x stretch InRelease\n",
      "Es wurden 15,0 kB in 2 s geholt (6.354 B/s).\n",
      "Paketlisten werden gelesen... Fertig\n",
      "Paketlisten werden gelesen... Fertig\n",
      "Abhängigkeitsbaum wird aufgebaut.       \n",
      "Statusinformationen werden eingelesen.... Fertig\n",
      "nginx-full ist schon die neueste Version (1.10.3-1+deb9u1).\n",
      "0 aktualisiert, 0 neu installiert, 0 zu entfernen und 1 nicht aktualisiert.\n"
     ]
    }
   ],
   "source": [
    "sudo apt-get update\n",
    "sudo apt-get install --yes nginx-full"
   ]
  },
  {
   "cell_type": "markdown",
   "metadata": {},
   "source": [
    "Nun kann man auf http://pi-sense  (_pi-sense_ durch eigenen Hostname ersetzen) die Nginx Webseite besucht werden."
   ]
  },
  {
   "cell_type": "code",
   "execution_count": 2,
   "metadata": {},
   "outputs": [
    {
     "name": "stdout",
     "output_type": "stream",
     "text": [
      "<!DOCTYPE html>\n",
      "<html>\n",
      "<head>\n",
      "<title>Welcome to nginx!</title>\n",
      "<style>\n",
      "    body {\n",
      "        width: 35em;\n",
      "        margin: 0 auto;\n",
      "        font-family: Tahoma, Verdana, Arial, sans-serif;\n",
      "    }\n",
      "</style>\n",
      "</head>\n",
      "<body>\n",
      "<h1>Welcome to nginx!</h1>\n",
      "<p>If you see this page, the nginx web server is successfully installed and\n",
      "working. Further configuration is required.</p>\n",
      "\n",
      "<p>For online documentation and support please refer to\n",
      "<a href=\"http://nginx.org/\">nginx.org</a>.<br/>\n",
      "Commercial support is available at\n",
      "<a href=\"http://nginx.com/\">nginx.com</a>.</p>\n",
      "\n",
      "<p><em>Thank you for using nginx.</em></p>\n",
      "</body>\n",
      "</html>\n"
     ]
    }
   ],
   "source": [
    "cat /var/www/html/index.nginx-debian.html"
   ]
  },
  {
   "cell_type": "code",
   "execution_count": 3,
   "metadata": {},
   "outputs": [],
   "source": [
    "sudo sed -i 's/to nginx/to pi-sense/g' /var/www/html/index.nginx-debian.html"
   ]
  },
  {
   "cell_type": "code",
   "execution_count": 4,
   "metadata": {},
   "outputs": [],
   "source": [
    "sudo sed -i 's/Debian/Respbian/g' /var/www/html/index.nginx-debian.html"
   ]
  },
  {
   "cell_type": "code",
   "execution_count": 5,
   "metadata": {},
   "outputs": [],
   "source": [
    "sudo sed -i 's/debian/respbian/g' /var/www/html/index.nginx-debian.html"
   ]
  },
  {
   "cell_type": "code",
   "execution_count": 6,
   "metadata": {},
   "outputs": [],
   "source": [
    "sudo sed -i 's/respbian.org/debian.org/g' /var/www/html/index.nginx-debian.html"
   ]
  },
  {
   "cell_type": "markdown",
   "metadata": {},
   "source": [
    "## Konfiguration von nginx"
   ]
  },
  {
   "cell_type": "code",
   "execution_count": 7,
   "metadata": {},
   "outputs": [
    {
     "name": "stdout",
     "output_type": "stream",
     "text": [
      "user www-data;\n",
      "worker_processes auto;\n",
      "pid /run/nginx.pid;\n",
      "include /etc/nginx/modules-enabled/*.conf;\n",
      "\n",
      "events {\n",
      "\tworker_connections 768;\n",
      "\t# multi_accept on;\n",
      "}\n",
      "\n",
      "http {\n",
      "\n",
      "\t##\n",
      "\t# Basic Settings\n",
      "\t##\n",
      "\n",
      "\tsendfile on;\n",
      "\ttcp_nopush on;\n",
      "\ttcp_nodelay on;\n",
      "\tkeepalive_timeout 65;\n",
      "\ttypes_hash_max_size 2048;\n",
      "\t# server_tokens off;\n",
      "\n",
      "\t# server_names_hash_bucket_size 64;\n",
      "\t# server_name_in_redirect off;\n",
      "\n",
      "\tinclude /etc/nginx/mime.types;\n",
      "\tdefault_type application/octet-stream;\n",
      "\n",
      "\t##\n",
      "\t# SSL Settings\n",
      "\t##\n",
      "\n",
      "\tssl_protocols TLSv1 TLSv1.1 TLSv1.2; # Dropping SSLv3, ref: POODLE\n",
      "\tssl_prefer_server_ciphers on;\n",
      "\n",
      "\t##\n",
      "\t# Logging Settings\n",
      "\t##\n",
      "\n",
      "\taccess_log /var/log/nginx/access.log;\n",
      "\terror_log /var/log/nginx/error.log;\n",
      "\n",
      "\t##\n",
      "\t# Gzip Settings\n",
      "\t##\n",
      "\n",
      "\tgzip on;\n",
      "\tgzip_disable \"msie6\";\n",
      "\n",
      "\t# gzip_vary on;\n",
      "\t# gzip_proxied any;\n",
      "\t# gzip_comp_level 6;\n",
      "\t# gzip_buffers 16 8k;\n",
      "\t# gzip_http_version 1.1;\n",
      "\t# gzip_types text/plain text/css application/json application/javascript text/xml application/xml application/xml+rss text/javascript;\n",
      "\n",
      "\t##\n",
      "\t# Virtual Host Configs\n",
      "\t##\n",
      "\n",
      "\tinclude /etc/nginx/conf.d/*.conf;\n",
      "\tinclude /etc/nginx/sites-enabled/*;\n",
      "}\n",
      "\n",
      "\n",
      "#mail {\n",
      "#\t# See sample authentication script at:\n",
      "#\t# http://wiki.nginx.org/ImapAuthenticateWithApachePhpScript\n",
      "# \n",
      "#\t# auth_http localhost/auth.php;\n",
      "#\t# pop3_capabilities \"TOP\" \"USER\";\n",
      "#\t# imap_capabilities \"IMAP4rev1\" \"UIDPLUS\";\n",
      "# \n",
      "#\tserver {\n",
      "#\t\tlisten     localhost:110;\n",
      "#\t\tprotocol   pop3;\n",
      "#\t\tproxy      on;\n",
      "#\t}\n",
      "# \n",
      "#\tserver {\n",
      "#\t\tlisten     localhost:143;\n",
      "#\t\tprotocol   imap;\n",
      "#\t\tproxy      on;\n",
      "#\t}\n",
      "#}\n"
     ]
    }
   ],
   "source": [
    "cat /etc/nginx/nginx.conf"
   ]
  },
  {
   "cell_type": "markdown",
   "metadata": {},
   "source": [
    "Für uns ist zunächst die Zeilen `include /etc/nginx/conf.d/*.conf;` und `include /etc/nginx/sites-enabled/*;` wichtig.\n",
    "\n",
    "Mit `include /etc/nginx/conf.d/*.conf;` werden alle Dateien mit der Endung __.conf__ im Pfad __/etc/nginx/conf.d/__ inkludiert.\n",
    "\n",
    "Mit `include /etc/nginx/sites-enabled/*;` werden alle Dateien aus dem Ordner __/etc/nginx/sites-enabled__ inkludiert."
   ]
  },
  {
   "cell_type": "code",
   "execution_count": null,
   "metadata": {},
   "outputs": [],
   "source": [
    "ls -lachi /etc/nginx/conf.d"
   ]
  },
  {
   "cell_type": "code",
   "execution_count": null,
   "metadata": {},
   "outputs": [],
   "source": [
    "ls -lachi /etc/nginx/sites-enabled"
   ]
  },
  {
   "cell_type": "markdown",
   "metadata": {},
   "source": [
    "Hier finden wir einen Link zur Datei `/etc/nginx/sites-available/default`"
   ]
  },
  {
   "cell_type": "code",
   "execution_count": null,
   "metadata": {},
   "outputs": [],
   "source": [
    "cat -n /etc/nginx/sites-available/default"
   ]
  },
  {
   "cell_type": "markdown",
   "metadata": {},
   "source": [
    "Nach http://serverfault.com/questions/312494/hosting-folder-in-the-home-directory-using-nginx soll folgender Block im Abschnitt server eingefügt werden.\n",
    "\n",
    "```\n",
    "location ~ ^/~(.+?)(/.*)?$ {\n",
    "    alias /home/$1/www$2;\n",
    "    autoindex on;\n",
    "}\n",
    "```\n",
    "\n",
    "Dies können wir mit dem Editor erledigen.\n",
    "\n",
    "### Sed Ausflug\n",
    "\n",
    "Hier das Einfügen mit `sed` und grep.\n",
    "\n",
    "Das Suchen nach der Zeichenkette __#}__\n",
    "\n",
    "__Achtung__ Das Zeichen # muss demaskiert werden"
   ]
  },
  {
   "cell_type": "code",
   "execution_count": null,
   "metadata": {},
   "outputs": [],
   "source": [
    "grep -n \\#} /etc/nginx/sites-available/default"
   ]
  },
  {
   "cell_type": "markdown",
   "metadata": {},
   "source": [
    "Mit `grep` kann man nach einem Suchstring (RegEx) in einer Datei gesucht werden. Die Option `-n` gibt die Zeilen nummer aus."
   ]
  },
  {
   "cell_type": "code",
   "execution_count": null,
   "metadata": {},
   "outputs": [],
   "source": [
    "grep -n $'\\t#}' /etc/nginx/sites-available/default"
   ]
  },
  {
   "cell_type": "markdown",
   "metadata": {},
   "source": [
    "Ein Hack um nach Tabulatoren zu suchen. Siehe hier: http://stackoverflow.com/questions/1825552/grep-a-tab-in-unix\n",
    "\n",
    "Das Kommando `sed` ohne die Option `-i` gibt die Datei auf der Konsole aus, ohne diese zu verändern."
   ]
  },
  {
   "cell_type": "code",
   "execution_count": null,
   "metadata": {},
   "outputs": [],
   "source": [
    "sed 's/\\t#}/foo/' /etc/nginx/sites-available/default"
   ]
  },
  {
   "cell_type": "markdown",
   "metadata": {},
   "source": [
    "Erwischt also alle zwei Vorkommen."
   ]
  },
  {
   "cell_type": "code",
   "execution_count": null,
   "metadata": {},
   "outputs": [],
   "source": [
    "sudo sed '0,/\\t#}/s/\\t#}/foo/' /etc/nginx/sites-available/default"
   ]
  },
  {
   "cell_type": "markdown",
   "metadata": {},
   "source": [
    "Erwischt erstes Vorkommen (Informatiker zählen ab 0). Siehe hier: http://stackoverflow.com/questions/148451/how-to-use-sed-to-replace-only-the-first-occurrence-in-a-file"
   ]
  },
  {
   "cell_type": "code",
   "execution_count": null,
   "metadata": {},
   "outputs": [],
   "source": [
    "sudo sed '1,/\\t#}/s/\\t#}/foo/' /etc/nginx/sites-available/default"
   ]
  },
  {
   "cell_type": "code",
   "execution_count": null,
   "metadata": {},
   "outputs": [],
   "source": [
    "sudo sed '0,/\\t#}/s/\\t#}/\\t#}\\n\\n\\tlocation ~ ^\\/~(.+?)(\\/.*)?$ {\\n\\t\\talias \\/home\\/$1\\/www$2;\\n\\t\\tautoindex on;\\n\\t}/' /etc/nginx/sites-available/default"
   ]
  },
  {
   "cell_type": "code",
   "execution_count": null,
   "metadata": {},
   "outputs": [],
   "source": [
    "sudo sed -i '0,/\\t#}/s/\\t#}/\\t#}\\n\\n\\tlocation ~ ^\\/~(.+?)(\\/.*)?$ {\\n\\t\\talias \\/home\\/$1\\/www$2;\\n\\t\\tautoindex on;\\n\\t}/' /etc/nginx/sites-available/default"
   ]
  },
  {
   "cell_type": "markdown",
   "metadata": {},
   "source": [
    "Jetzt steht der Block drinnen. :-)\n",
    "\n",
    "## Nginx neu starten"
   ]
  },
  {
   "cell_type": "code",
   "execution_count": null,
   "metadata": {
    "collapsed": true
   },
   "outputs": [],
   "source": [
    "sudo service nginx restart"
   ]
  },
  {
   "cell_type": "markdown",
   "metadata": {},
   "source": [
    "Ein Besuch auf http://pi-sense/~pi liefert noch eine 404 Meldung."
   ]
  },
  {
   "cell_type": "code",
   "execution_count": null,
   "metadata": {},
   "outputs": [],
   "source": [
    "pwd"
   ]
  },
  {
   "cell_type": "code",
   "execution_count": null,
   "metadata": {
    "collapsed": true
   },
   "outputs": [],
   "source": [
    "mkdir /home/pi/www"
   ]
  },
  {
   "cell_type": "markdown",
   "metadata": {},
   "source": [
    "Jetzt ist die 404 Meldung weg. Es kann nun eine Webseite erstellt werden."
   ]
  },
  {
   "cell_type": "code",
   "execution_count": null,
   "metadata": {
    "collapsed": true
   },
   "outputs": [],
   "source": [
    "cp /var/www/html/index.nginx-debian.html /home/pi/www/index.html"
   ]
  },
  {
   "cell_type": "code",
   "execution_count": null,
   "metadata": {
    "collapsed": true
   },
   "outputs": [],
   "source": [
    "sudo sed -i 's/Welcome to pi-sense on Respbian!/Welcome to pi Homepage!/g' /home/pi/www/index.html"
   ]
  },
  {
   "cell_type": "markdown",
   "metadata": {},
   "source": [
    "## PHP und Nginx"
   ]
  },
  {
   "cell_type": "code",
   "execution_count": null,
   "metadata": {},
   "outputs": [],
   "source": [
    "sudo apt-get install --yes php5-fpm"
   ]
  },
  {
   "cell_type": "code",
   "execution_count": null,
   "metadata": {},
   "outputs": [],
   "source": [
    "grep -n php /etc/nginx/sites-available/default"
   ]
  },
  {
   "cell_type": "code",
   "execution_count": null,
   "metadata": {},
   "outputs": [],
   "source": [
    "sed -n '45,52p' /etc/nginx/sites-available/default"
   ]
  },
  {
   "cell_type": "code",
   "execution_count": null,
   "metadata": {},
   "outputs": [],
   "source": [
    "sudo sed -i '45,48s/#//' /etc/nginx/sites-available/default"
   ]
  },
  {
   "cell_type": "code",
   "execution_count": null,
   "metadata": {},
   "outputs": [],
   "source": [
    "sudo sed -i '50,52s/#//' /etc/nginx/sites-available/default"
   ]
  },
  {
   "cell_type": "code",
   "execution_count": null,
   "metadata": {},
   "outputs": [],
   "source": [
    "sudo sed -i 's/index index.html/index index.php index.html/' /etc/nginx/sites-available/default"
   ]
  },
  {
   "cell_type": "code",
   "execution_count": null,
   "metadata": {},
   "outputs": [],
   "source": [
    "sudo service nginx restart"
   ]
  },
  {
   "cell_type": "code",
   "execution_count": null,
   "metadata": {},
   "outputs": [],
   "source": [
    "echo '<?php echo phpinfo(); ?>' | sudo tee /var/www/html/index.php"
   ]
  }
 ],
 "metadata": {
  "kernelspec": {
   "display_name": "Bash",
   "language": "bash",
   "name": "bash"
  },
  "language_info": {
   "codemirror_mode": "shell",
   "file_extension": ".sh",
   "mimetype": "text/x-sh",
   "name": "bash"
  }
 },
 "nbformat": 4,
 "nbformat_minor": 2
}
