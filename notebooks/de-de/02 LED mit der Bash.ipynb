{
 "cells": [
  {
   "cell_type": "markdown",
   "metadata": {
    "deletable": true,
    "editable": true
   },
   "source": [
    "# LED mit der bash\n",
    "\n",
    "Links:\n",
    "\n",
    "* https://www.raspberrypi.org/documentation/usage/gpio-plus-and-raspi2/\n",
    "* http://www.pidramble.com/wiki/hardware/rgb-led-gpio\n",
    "* https://www.elektronik-kompendium.de/sites/raspberry-pi/1905251.htm\n",
    "* https://www.elektronik-kompendium.de/sites/raspberry-pi/1907101.htm\n",
    "\n",
    "Hier interaktiv:\n",
    "\n",
    "* https://de.pinout.xyz/#\n",
    "\n",
    "![Graphical Pinout](https://pinout.xyz/resources/raspberry-pi-pinout.png)\n",
    "\n",
    "## Welche Bedeutung haben diese Nummern?\n",
    "\n",
    "* BCM - Broadcom Anschlussnummer, meist als \"GPIO\" bezeichnet. Dies sind die Pins die Du wahscheinlich mit RPi.GPIO benutzen wirst\n",
    "* WiringPi - Wiring Pi Anschlussnummer, für Gordon Henderson's Wiring Pi library\n",
    "* Physical - Die Anschlussnummer, die dem physikalischen Pin an der Anschlussleiste des Raspberry Pi entspricht.\n",
    "\n",
    "## Anleitung Pi GPIO\n",
    "\n",
    "* http://raspberrypiguide.de/howtos/raspberry-pi-gpio-how-to/\n"
   ]
  },
  {
   "cell_type": "code",
   "execution_count": 1,
   "metadata": {
    "collapsed": true,
    "deletable": true,
    "editable": true
   },
   "outputs": [],
   "source": [
    "echo \"17\" > /sys/class/gpio/export"
   ]
  },
  {
   "cell_type": "code",
   "execution_count": 2,
   "metadata": {
    "collapsed": true,
    "deletable": true,
    "editable": true
   },
   "outputs": [],
   "source": [
    "echo \"out\" > /sys/class/gpio/gpio17/direction"
   ]
  },
  {
   "cell_type": "code",
   "execution_count": 3,
   "metadata": {
    "collapsed": true,
    "deletable": true,
    "editable": true
   },
   "outputs": [],
   "source": [
    "echo \"1\" > /sys/class/gpio/gpio17/value"
   ]
  },
  {
   "cell_type": "code",
   "execution_count": 4,
   "metadata": {
    "collapsed": false,
    "deletable": true,
    "editable": true
   },
   "outputs": [
    {
     "name": "stdout",
     "output_type": "stream",
     "text": [
      "\u001b[0m\u001b[01;32mexport\u001b[0m  \u001b[01;36mgpio17\u001b[0m  \u001b[01;36mgpiochip0\u001b[0m  \u001b[01;32munexport\u001b[0m\n"
     ]
    }
   ],
   "source": [
    "ls /sys/class/gpio"
   ]
  },
  {
   "cell_type": "code",
   "execution_count": 5,
   "metadata": {
    "collapsed": true,
    "deletable": true,
    "editable": true
   },
   "outputs": [],
   "source": [
    "echo \"0\" > /sys/class/gpio/gpio17/value"
   ]
  },
  {
   "cell_type": "code",
   "execution_count": 6,
   "metadata": {
    "collapsed": true,
    "deletable": true,
    "editable": true
   },
   "outputs": [],
   "source": [
    "echo \"27\" > /sys/class/gpio/export"
   ]
  },
  {
   "cell_type": "code",
   "execution_count": 7,
   "metadata": {
    "collapsed": true,
    "deletable": true,
    "editable": true
   },
   "outputs": [],
   "source": [
    "echo \"out\" > /sys/class/gpio/gpio27/direction"
   ]
  },
  {
   "cell_type": "code",
   "execution_count": 8,
   "metadata": {
    "collapsed": true,
    "deletable": true,
    "editable": true
   },
   "outputs": [],
   "source": [
    "echo \"1\" > /sys/class/gpio/gpio27/value"
   ]
  },
  {
   "cell_type": "code",
   "execution_count": 9,
   "metadata": {
    "collapsed": true,
    "deletable": true,
    "editable": true
   },
   "outputs": [],
   "source": [
    "echo \"0\" > /sys/class/gpio/gpio27/value"
   ]
  },
  {
   "cell_type": "code",
   "execution_count": 10,
   "metadata": {
    "collapsed": false,
    "deletable": true,
    "editable": true
   },
   "outputs": [],
   "source": [
    "echo \"18\" > /sys/class/gpio/export\n",
    "echo \"out\" > /sys/class/gpio/gpio18/direction\n",
    "echo \"1\" > /sys/class/gpio/gpio18/value"
   ]
  },
  {
   "cell_type": "code",
   "execution_count": 11,
   "metadata": {
    "collapsed": false,
    "deletable": true,
    "editable": true
   },
   "outputs": [],
   "source": [
    "echo \"0\" > /sys/class/gpio/gpio18/value"
   ]
  },
  {
   "cell_type": "code",
   "execution_count": 12,
   "metadata": {
    "collapsed": false,
    "deletable": true,
    "editable": true
   },
   "outputs": [],
   "source": [
    "for i in 17 18 27\n",
    "do\n",
    "    echo \"1\" > /sys/class/gpio/gpio${i}/value\n",
    "done"
   ]
  },
  {
   "cell_type": "code",
   "execution_count": 13,
   "metadata": {
    "collapsed": false,
    "deletable": true,
    "editable": true
   },
   "outputs": [
    {
     "name": "stdout",
     "output_type": "stream",
     "text": [
      "\u001b[0m\u001b[01;32mexport\u001b[0m  \u001b[01;36mgpio17\u001b[0m  \u001b[01;36mgpio18\u001b[0m  \u001b[01;36mgpio27\u001b[0m  \u001b[01;36mgpiochip0\u001b[0m  \u001b[01;32munexport\u001b[0m\n"
     ]
    }
   ],
   "source": [
    "ls /sys/class/gpio"
   ]
  },
  {
   "cell_type": "code",
   "execution_count": 14,
   "metadata": {
    "collapsed": false,
    "deletable": true,
    "editable": true
   },
   "outputs": [],
   "source": [
    "echo \"17\" > /sys/class/gpio/unexport\n",
    "echo \"18\" > /sys/class/gpio/unexport\n",
    "echo \"27\" > /sys/class/gpio/unexport"
   ]
  },
  {
   "cell_type": "code",
   "execution_count": 15,
   "metadata": {
    "collapsed": false,
    "deletable": true,
    "editable": true
   },
   "outputs": [
    {
     "name": "stdout",
     "output_type": "stream",
     "text": [
      "\u001b[0m\u001b[01;32mexport\u001b[0m  \u001b[01;36mgpiochip0\u001b[0m  \u001b[01;32munexport\u001b[0m\n"
     ]
    }
   ],
   "source": [
    "ls /sys/class/gpio"
   ]
  },
  {
   "cell_type": "markdown",
   "metadata": {
    "deletable": true,
    "editable": true
   },
   "source": [
    "## WiringPi\n",
    "\n",
    "WiringPi benutzt eine andere GPIO-Belegung (Tabelle oben). \n",
    "\n",
    "Die Option -g weist WiringPi an, die normale Raspberry Pi Belegung zu benutzen. \n",
    "\n",
    "Mit der Option -1 (eine Eins kein kleines L) wird die physikalische Zählung verwendet."
   ]
  },
  {
   "cell_type": "code",
   "execution_count": 16,
   "metadata": {
    "collapsed": false,
    "deletable": true,
    "editable": true
   },
   "outputs": [
    {
     "name": "stdout",
     "output_type": "stream",
     "text": [
      "Reading package lists... Done\n",
      "Building dependency tree       \n",
      "Reading state information... Done\n",
      "wiringpi is already the newest version.\n",
      "0 upgraded, 0 newly installed, 0 to remove and 0 not upgraded.\n"
     ]
    }
   ],
   "source": [
    "sudo apt-get install wiringpi"
   ]
  },
  {
   "cell_type": "code",
   "execution_count": 17,
   "metadata": {
    "collapsed": false,
    "deletable": true,
    "editable": true
   },
   "outputs": [],
   "source": [
    "gpio export 17 out"
   ]
  },
  {
   "cell_type": "code",
   "execution_count": 18,
   "metadata": {
    "collapsed": true,
    "deletable": true,
    "editable": true
   },
   "outputs": [],
   "source": [
    "gpio -g write 17 1 "
   ]
  },
  {
   "cell_type": "code",
   "execution_count": 19,
   "metadata": {
    "collapsed": true,
    "deletable": true,
    "editable": true
   },
   "outputs": [],
   "source": [
    "gpio export 18 out\n",
    "gpio export 27 out\n",
    "gpio -g write 18 1\n",
    "gpio -g write 27 1 "
   ]
  },
  {
   "cell_type": "code",
   "execution_count": 20,
   "metadata": {
    "collapsed": false,
    "deletable": true,
    "editable": true
   },
   "outputs": [
    {
     "name": "stdout",
     "output_type": "stream",
     "text": [
      "\u001b[0m\u001b[01;32mexport\u001b[0m  \u001b[01;36mgpio17\u001b[0m  \u001b[01;36mgpio18\u001b[0m  \u001b[01;36mgpio27\u001b[0m  \u001b[01;36mgpiochip0\u001b[0m  \u001b[01;32munexport\u001b[0m\n"
     ]
    }
   ],
   "source": [
    "ls /sys/class/gpio"
   ]
  },
  {
   "cell_type": "code",
   "execution_count": 21,
   "metadata": {
    "collapsed": false,
    "deletable": true,
    "editable": true
   },
   "outputs": [],
   "source": [
    "gpio unexport 17\n",
    "gpio unexport 18\n",
    "gpio unexport 27"
   ]
  },
  {
   "cell_type": "code",
   "execution_count": 22,
   "metadata": {
    "collapsed": false,
    "deletable": true,
    "editable": true
   },
   "outputs": [
    {
     "name": "stdout",
     "output_type": "stream",
     "text": [
      "\u001b[0m\u001b[01;32mexport\u001b[0m  \u001b[01;36mgpiochip0\u001b[0m  \u001b[01;32munexport\u001b[0m\n"
     ]
    }
   ],
   "source": [
    "ls /sys/class/gpio"
   ]
  },
  {
   "cell_type": "code",
   "execution_count": 23,
   "metadata": {
    "collapsed": false
   },
   "outputs": [
    {
     "name": "stdout",
     "output_type": "stream",
     "text": [
      " +-----+-----+---------+------+---+---Pi 2---+---+------+---------+-----+-----+\n",
      " | BCM | wPi |   Name  | Mode | V | Physical | V | Mode | Name    | wPi | BCM |\n",
      " +-----+-----+---------+------+---+----++----+---+------+---------+-----+-----+\n",
      " |     |     |    3.3v |      |   |  1 || 2  |   |      | 5v      |     |     |\n",
      " |   2 |   8 |   SDA.1 | ALT0 | 1 |  3 || 4  |   |      | 5v      |     |     |\n",
      " |   3 |   9 |   SCL.1 | ALT0 | 1 |  5 || 6  |   |      | 0v      |     |     |\n",
      " |   4 |   7 | GPIO. 7 |   IN | 1 |  7 || 8  | 1 | ALT0 | TxD     | 15  | 14  |\n",
      " |     |     |      0v |      |   |  9 || 10 | 1 | ALT0 | RxD     | 16  | 15  |\n",
      " |  17 |   0 | GPIO. 0 |   IN | 1 | 11 || 12 | 0 | IN   | GPIO. 1 | 1   | 18  |\n",
      " |  27 |   2 | GPIO. 2 |   IN | 0 | 13 || 14 |   |      | 0v      |     |     |\n",
      " |  22 |   3 | GPIO. 3 |   IN | 0 | 15 || 16 | 0 | IN   | GPIO. 4 | 4   | 23  |\n",
      " |     |     |    3.3v |      |   | 17 || 18 | 0 | IN   | GPIO. 5 | 5   | 24  |\n",
      " |  10 |  12 |    MOSI | ALT0 | 0 | 19 || 20 |   |      | 0v      |     |     |\n",
      " |   9 |  13 |    MISO | ALT0 | 0 | 21 || 22 | 0 | IN   | GPIO. 6 | 6   | 25  |\n",
      " |  11 |  14 |    SCLK | ALT0 | 0 | 23 || 24 | 1 | OUT  | CE0     | 10  | 8   |\n",
      " |     |     |      0v |      |   | 25 || 26 | 1 | OUT  | CE1     | 11  | 7   |\n",
      " |   0 |  30 |   SDA.0 |   IN | 1 | 27 || 28 | 1 | IN   | SCL.0   | 31  | 1   |\n",
      " |   5 |  21 | GPIO.21 |   IN | 1 | 29 || 30 |   |      | 0v      |     |     |\n",
      " |   6 |  22 | GPIO.22 |   IN | 1 | 31 || 32 | 0 | IN   | GPIO.26 | 26  | 12  |\n",
      " |  13 |  23 | GPIO.23 |   IN | 0 | 33 || 34 |   |      | 0v      |     |     |\n",
      " |  19 |  24 | GPIO.24 |   IN | 0 | 35 || 36 | 0 | IN   | GPIO.27 | 27  | 16  |\n",
      " |  26 |  25 | GPIO.25 |   IN | 0 | 37 || 38 | 0 | IN   | GPIO.28 | 28  | 20  |\n",
      " |     |     |      0v |      |   | 39 || 40 | 0 | IN   | GPIO.29 | 29  | 21  |\n",
      " +-----+-----+---------+------+---+----++----+---+------+---------+-----+-----+\n",
      " | BCM | wPi |   Name  | Mode | V | Physical | V | Mode | Name    | wPi | BCM |\n",
      " +-----+-----+---------+------+---+---Pi 2---+---+------+---------+-----+-----+\n"
     ]
    }
   ],
   "source": [
    "gpio readall"
   ]
  },
  {
   "cell_type": "markdown",
   "metadata": {},
   "source": [
    "### PWM"
   ]
  },
  {
   "cell_type": "code",
   "execution_count": 24,
   "metadata": {
    "collapsed": false,
    "deletable": true,
    "editable": true
   },
   "outputs": [],
   "source": [
    "gpio -g mode 18 pwm"
   ]
  },
  {
   "cell_type": "code",
   "execution_count": 25,
   "metadata": {
    "collapsed": false
   },
   "outputs": [],
   "source": [
    "gpio -g pwm 18 500"
   ]
  },
  {
   "cell_type": "code",
   "execution_count": 26,
   "metadata": {
    "collapsed": false,
    "deletable": true,
    "editable": true
   },
   "outputs": [],
   "source": [
    "gpio -g pwm 18 1023"
   ]
  },
  {
   "cell_type": "code",
   "execution_count": 27,
   "metadata": {
    "collapsed": false,
    "deletable": true,
    "editable": true
   },
   "outputs": [],
   "source": [
    "gpio -g pwm 18 125"
   ]
  },
  {
   "cell_type": "code",
   "execution_count": 28,
   "metadata": {
    "collapsed": false
   },
   "outputs": [],
   "source": [
    "gpio unexport 18"
   ]
  }
 ],
 "metadata": {
  "kernelspec": {
   "display_name": "Bash",
   "language": "bash",
   "name": "bash"
  },
  "language_info": {
   "codemirror_mode": "shell",
   "file_extension": ".sh",
   "mimetype": "text/x-sh",
   "name": "bash"
  }
 },
 "nbformat": 4,
 "nbformat_minor": 2
}
